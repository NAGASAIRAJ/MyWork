{
 "cells": [
  {
   "cell_type": "code",
   "execution_count": null,
   "metadata": {},
   "outputs": [],
   "source": [
    "# Basic Operators in Python\n",
    "# Arithmetic operators: Arithmetic operators are used to perform mathematical operations like addition, subtraction, multiplication and division.\n",
    "# OPERATOR\tDESCRIPTION\tSYNTAX\n",
    "# +\tAddition: adds two operands\tx + y\n",
    "# -\tSubtraction: subtracts two operands\tx - y\n",
    "# *\tMultiplication: multiplies two operands\tx * y\n",
    "# /\tDivision (float): divides the first operand by the second\tx / y\n",
    "# //\tDivision (floor): divides the first operand by the second\tx // y\n",
    "# %\tModulus: returns the remainder when first operand is divided by the second\tx % y"
   ]
  },
  {
   "cell_type": "code",
   "execution_count": 1,
   "metadata": {},
   "outputs": [
    {
     "name": "stdout",
     "output_type": "stream",
     "text": [
      "13\n",
      "5\n",
      "36\n",
      "2.25\n",
      "2\n",
      "1\n"
     ]
    }
   ],
   "source": [
    "# Examples of Arithmetic Operator \n",
    "a = 9\n",
    "b = 4\n",
    "\n",
    "# Addition of numbers \n",
    "add = a + b \n",
    "# Subtraction of numbers \n",
    "sub = a - b \n",
    "# Multiplication of number \n",
    "mul = a * b \n",
    "# Division(float) of number \n",
    "div1 = a / b \n",
    "# Division(floor) of number \n",
    "div2 = a // b \n",
    "# Modulo of both number \n",
    "mod = a % b \n",
    "\n",
    "# print results \n",
    "print(add) \n",
    "print(sub) \n",
    "print(mul) \n",
    "print(div1) \n",
    "print(div2) \n",
    "print(mod) \n"
   ]
  },
  {
   "cell_type": "code",
   "execution_count": 3,
   "metadata": {},
   "outputs": [],
   "source": [
    "# Relational Operators: Relational operators compares the values. It either returns True or False according to the condition.\n",
    "# OPERATOR\tDESCRIPTION\tSYNTAX\n",
    "# >\tGreater than: True if left operand is greater than the right\tx > y\n",
    "# <\tLess than: True if left operand is less than the right\tx < y\n",
    "# ==\tEqual to: True if both operands are equal\tx == y\n",
    "# !=\tNot equal to - True if operands are not equal\tx != y\n",
    "# >=\tGreater than or equal to: True if left operand is greater than or equal to the right\tx >= y\n",
    "# <=\tLess than or equal to: True if left operand is less than or equal to the right\tx <= y"
   ]
  },
  {
   "cell_type": "code",
   "execution_count": 4,
   "metadata": {},
   "outputs": [
    {
     "name": "stdout",
     "output_type": "stream",
     "text": [
      "False\n",
      "True\n",
      "False\n",
      "True\n",
      "False\n",
      "True\n"
     ]
    }
   ],
   "source": [
    "# Examples of Relational Operators \n",
    "a = 13\n",
    "b = 33\n",
    "\n",
    "# a > b is False \n",
    "print(a > b) \n",
    "\n",
    "# a < b is True \n",
    "print(a < b) \n",
    "\n",
    "# a == b is False \n",
    "print(a == b) \n",
    "\n",
    "# a != b is True \n",
    "print(a != b) \n",
    "\n",
    "# a >= b is False \n",
    "print(a >= b) \n",
    "\n",
    "# a <= b is True \n",
    "print(a <= b) \n"
   ]
  },
  {
   "cell_type": "code",
   "execution_count": 5,
   "metadata": {},
   "outputs": [],
   "source": [
    "# Logical operators: Logical operators perform Logical AND, Logical OR and Logical NOT operations.\n",
    "\n",
    "\n",
    "# OPERATOR\tDESCRIPTION\tSYNTAX\n",
    "# and\tLogical AND: True if both the operands are true\tx and y\n",
    "# or\tLogical OR: True if either of the operands is true\tx or y\n",
    "# not\tLogical NOT: True if operand is false\tnot x"
   ]
  },
  {
   "cell_type": "code",
   "execution_count": 6,
   "metadata": {},
   "outputs": [
    {
     "name": "stdout",
     "output_type": "stream",
     "text": [
      "False\n",
      "True\n",
      "False\n"
     ]
    }
   ],
   "source": [
    "# Examples of Logical Operator \n",
    "a = True\n",
    "b = False\n",
    "\n",
    "# Print a and b is False \n",
    "print(a and b) \n",
    "\n",
    "# Print a or b is True \n",
    "print(a or b) \n",
    "\n",
    "# Print not a is False \n",
    "print(not a) \n"
   ]
  },
  {
   "cell_type": "code",
   "execution_count": null,
   "metadata": {},
   "outputs": [],
   "source": [
    "# OPERATOR\tDESCRIPTION\tSYNTAX\n",
    "# &\tBitwise AND\tx & y\n",
    "# |\tBitwise OR\tx | y\n",
    "# ~\tBitwise NOT\t~x\n",
    "# ^\tBitwise XOR\tx ^ y\n",
    "# >>\tBitwise right shift\tx>>\n",
    "# <<\tBitwise left shift\tx<<"
   ]
  },
  {
   "cell_type": "code",
   "execution_count": 20,
   "metadata": {},
   "outputs": [
    {
     "name": "stdout",
     "output_type": "stream",
     "text": [
      "Line 1 - Value of c is  12\n",
      "Line 2 - Value of c is  61\n",
      "Line 3 - Value of c is  49\n",
      "Line 4 - Value of c is  -61\n",
      "Line 5 - Value of c is  240\n",
      "Line 6 - Value of c is  15\n"
     ]
    }
   ],
   "source": [
    "a = 60            # 60 = 0011 1100 \n",
    "b = 13            # 13 = 0000 1101 \n",
    "c = 0\n",
    "\n",
    "c = a & b;        # 12 = 0000 1100\n",
    "print (\"Line 1 - Value of c is \", c)\n",
    "\n",
    "c = a | b;        # 61 = 0011 1101 \n",
    "print (\"Line 2 - Value of c is \", c)\n",
    "\n",
    "c = a ^ b;        # 49 = 0011 0001\n",
    "print (\"Line 3 - Value of c is \", c)\n",
    "\n",
    "c = ~a;           # -61 = 1100 0011\n",
    "print (\"Line 4 - Value of c is \", c)\n",
    "\n",
    "c = a << 2;       # 240 = 1111 0000\n",
    "print (\"Line 5 - Value of c is \", c)\n",
    "\n",
    "c = a >> 2;       # 15 = 0000 1111\n",
    "print (\"Line 6 - Value of c is \", c)"
   ]
  },
  {
   "cell_type": "code",
   "execution_count": 21,
   "metadata": {},
   "outputs": [],
   "source": [
    "# =\tAssign value of right side of expression to left side operand\tx = y + z\n",
    "# +=\tAdd AND: Add right side operand with left side operand and then assign to left operand\ta+=b     a=a+b\n",
    "# -=\tSubtract AND: Subtract right operand from left operand and then assign to left operand\ta-=b       a=a-b\n",
    "# *=\tMultiply AND: Multiply right operand with left operand and then assign to left operand\ta*=b       a=a*b\n",
    "# /=\tDivide AND: Divide left operand with right operand and then assign to left operand\ta/=b         a=a/b\n",
    "# %=\tModulus AND: Takes modulus using left and right operands and assign result to left operand\ta%=b   a=a%b\n",
    "# //=\tDivide(floor) AND: Divide left operand with right operand and then assign the value(floor) to left operand\ta//=b       a=a//b\n",
    "# **=\tExponent AND: Calculate exponent(raise power) value using operands and assign value to left operand\ta**=b     a=a**b\n",
    "# &=\tPerforms Bitwise AND on operands and assign value to left operand\ta&=b     a=a&b\n",
    "# |=\tPerforms Bitwise OR on operands and assign value to left operand\ta|=b         a=a|b\n",
    "# ^=\tPerforms Bitwise xOR on operands and assign value to left operand\ta^=b       a=a^b\n",
    "# >>=\tPerforms Bitwise right shift on operands and assign value to left operand\ta>>=b     a=a>>b\n",
    "# <<=\tPerforms Bitwise left shift on operands and assign value to left operand\ta <<= b                    a= a << b\n"
   ]
  },
  {
   "cell_type": "code",
   "execution_count": 22,
   "metadata": {},
   "outputs": [],
   "source": [
    "# Special operators: There are some special type of operators like-\n",
    "# Identity operators- \n",
    "# is and is not are the identity operators both are used to check if two values are located on the same part of the memory. Two variables that are equal does not imply that they are identical.\n",
    "# is          True if the operands are identical \n",
    "# is not      True if the operands are not identical \n"
   ]
  },
  {
   "cell_type": "code",
   "execution_count": 26,
   "metadata": {},
   "outputs": [
    {
     "name": "stdout",
     "output_type": "stream",
     "text": [
      "False\n",
      "True\n",
      "False\n"
     ]
    }
   ],
   "source": [
    "# Examples of Identity operators \n",
    "a1 = 3\n",
    "b1 = 3\n",
    "a2 = 'GeeksforGeeks'\n",
    "b2 = 'GeeksforGeeks'\n",
    "a3 = [1,2,3]\n",
    "b3 = [1,2,3]\n",
    "\n",
    "\n",
    "print(a1 is not  b1) \n",
    "\n",
    "\n",
    "print(a2 is b2) \n",
    "\n",
    "# Output is False, since lists are mutable. \n",
    "print(a3 is b3) \n"
   ]
  },
  {
   "cell_type": "code",
   "execution_count": null,
   "metadata": {},
   "outputs": [],
   "source": [
    "# Membership operators-\n",
    "# in and not in are the membership operators; used to test whether a value or variable is in a sequence.\n",
    "# in            True if value is found in the sequence\n",
    "# not in        True if value is not found in the sequence"
   ]
  },
  {
   "cell_type": "code",
   "execution_count": 27,
   "metadata": {},
   "outputs": [
    {
     "name": "stdout",
     "output_type": "stream",
     "text": [
      "True\n",
      "True\n",
      "False\n",
      "True\n",
      "False\n"
     ]
    }
   ],
   "source": [
    "# Examples of Membership operator \n",
    "x = 'Geeks for Geeks'\n",
    "y = {3:'a',4:'b'} \n",
    "\n",
    "\n",
    "print('G' in x) \n",
    "\n",
    "print('geeks' not in x) \n",
    "\n",
    "print('Geeks' not in x) \n",
    "\n",
    "print(3 in y) \n",
    "\n",
    "print('b' in y) \n"
   ]
  },
  {
   "cell_type": "code",
   "execution_count": null,
   "metadata": {},
   "outputs": [],
   "source": []
  },
  {
   "cell_type": "code",
   "execution_count": null,
   "metadata": {},
   "outputs": [],
   "source": []
  }
 ],
 "metadata": {
  "kernelspec": {
   "display_name": "Python 3",
   "language": "python",
   "name": "python3"
  },
  "language_info": {
   "codemirror_mode": {
    "name": "ipython",
    "version": 3
   },
   "file_extension": ".py",
   "mimetype": "text/x-python",
   "name": "python",
   "nbconvert_exporter": "python",
   "pygments_lexer": "ipython3",
   "version": "3.5.2"
  }
 },
 "nbformat": 4,
 "nbformat_minor": 2
}
