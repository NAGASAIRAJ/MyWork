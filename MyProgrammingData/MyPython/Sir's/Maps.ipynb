{
 "cells": [
  {
   "cell_type": "markdown",
   "metadata": {},
   "source": [
    "#### MAPS"
   ]
  },
  {
   "cell_type": "code",
   "execution_count": 22,
   "metadata": {},
   "outputs": [
    {
     "name": "stdout",
     "output_type": "stream",
     "text": [
      "[{'day2': 'Mon', 'day1': 'Mon'}, {'day3': 'Wed', 'day1': 'Thu'}] \n",
      "\n",
      "keys ['day3', 'day2', 'day1']\n",
      "Values ['Wed', 'Mon', 'Mon']\n",
      "\n",
      "elements:\n",
      "day3 = Wed\n",
      "day2 = Mon\n",
      "day1 = Mon\n",
      "\n",
      "day3 in res: True\n",
      "day4 in res: True\n"
     ]
    }
   ],
   "source": [
    "import collections\n",
    "\n",
    "dict1 = {'day1': 'Mon', 'day2': 'Mon'}\n",
    "dict2 = {'day3': 'Wed', 'day1': 'Thu'}\n",
    "\n",
    "res = collections.ChainMap(dict1,dict2)\n",
    "\n",
    "# Creating a single dictionary\n",
    "print(res.maps,'\\n')\n",
    "\n",
    "print('keys {}'.format(list(res.keys())))\n",
    "print('Values {}'.format(list(res.values())))\n",
    "print()\n",
    "\n",
    "# Print all the elements from the result\n",
    "print(\"elements:\")\n",
    "for key,value in res.items():\n",
    "    print('{} = {}'.format(key,value))\n",
    "print()\n",
    "\n",
    "\n",
    "# Find a specific value in the result\n",
    "print('day3 in res: {}'.format(('day3' in res)))\n",
    "print('day4 in res: {}'.format(('day1' in res)))\n"
   ]
  },
  {
   "cell_type": "markdown",
   "metadata": {},
   "source": [
    "#### MAP REORDER"
   ]
  },
  {
   "cell_type": "code",
   "execution_count": 23,
   "metadata": {},
   "outputs": [
    {
     "name": "stdout",
     "output_type": "stream",
     "text": [
      "[{'day3': 'Wed', 'day1': 'Thu'}, {'day2': 'Mon', 'day1': 'Mon'}] \n",
      "\n"
     ]
    }
   ],
   "source": [
    "res2 = collections.ChainMap(dict2, dict1)\n",
    "print(res2.maps,'\\n') "
   ]
  },
  {
   "cell_type": "markdown",
   "metadata": {},
   "source": [
    "#### Updating Map"
   ]
  },
  {
   "cell_type": "code",
   "execution_count": 24,
   "metadata": {},
   "outputs": [
    {
     "name": "stdout",
     "output_type": "stream",
     "text": [
      "[{'day2': 'Mon', 'day1': 'Mon'}, {'day3': 'Wed', 'day4': 'Fri', 'day1': 'Thu'}] \n",
      "\n"
     ]
    }
   ],
   "source": [
    "dict2['day4'] = 'Fri'\n",
    "print(res.maps,'\\n')"
   ]
  },
  {
   "cell_type": "code",
   "execution_count": null,
   "metadata": {},
   "outputs": [],
   "source": []
  }
 ],
 "metadata": {
  "kernelspec": {
   "display_name": "Python 3",
   "language": "python",
   "name": "python3"
  },
  "language_info": {
   "codemirror_mode": {
    "name": "ipython",
    "version": 3
   },
   "file_extension": ".py",
   "mimetype": "text/x-python",
   "name": "python",
   "nbconvert_exporter": "python",
   "pygments_lexer": "ipython3",
   "version": "3.5.2"
  }
 },
 "nbformat": 4,
 "nbformat_minor": 2
}
