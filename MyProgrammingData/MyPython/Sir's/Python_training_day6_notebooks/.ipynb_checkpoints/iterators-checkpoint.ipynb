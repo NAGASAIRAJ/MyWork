{
 "cells": [
  {
   "cell_type": "code",
   "execution_count": 7,
   "metadata": {},
   "outputs": [
    {
     "name": "stdout",
     "output_type": "stream",
     "text": [
      "The sum after each iteration is : [1, 5, 10, 17]\n",
      "The product after each iteration is : [1, 4, 20, 140]\n",
      "All values in mentioned chain are : [1, 4, 5, 7, 1, 6, 5, 9, 8, 10, 5, 4]\n"
     ]
    }
   ],
   "source": [
    "# Python code to demonstrate the working of \n",
    "# accumulate() and chain() \n",
    "\n",
    "# importing \"itertools\" for iterator operations \n",
    "import itertools \n",
    "\n",
    "# importing \"operator\" for operator operations \n",
    "import operator \n",
    "\n",
    "# initializing list 1 \n",
    "li1 = [1, 4, 5, 7] \n",
    "\n",
    "# initializing list 2 \n",
    "li2 = [1, 6, 5, 9] \n",
    "\n",
    "# initializing list 3 \n",
    "li3 = [8, 10, 5, 4] \n",
    "\n",
    "# using accumulate() \n",
    "# prints the successive summation of elements \n",
    "print (\"The sum after each iteration is : \",end=\"\") \n",
    "print (list(itertools.accumulate(li1))) \n",
    "\n",
    "# using accumulate() \n",
    "# prints the successive multiplication of elements \n",
    "print (\"The product after each iteration is : \",end=\"\") \n",
    "print (list(itertools.accumulate(li1,operator.mul))) \n",
    "\n",
    "# using chain() to print all elements of lists \n",
    "print (\"All values in mentioned chain are : \",end=\"\") \n",
    "print (list(itertools.chain(li1,li2,li3))) \n"
   ]
  },
  {
   "cell_type": "code",
   "execution_count": 8,
   "metadata": {},
   "outputs": [
    {
     "name": "stdout",
     "output_type": "stream",
     "text": [
      "All values in mentioned chain are : [1, 4, 5, 7, 1, 6, 5, 9, 8, 10, 5, 4]\n",
      "The compressed values in string are : ['G', 'F', 'G']\n"
     ]
    }
   ],
   "source": [
    "# Python code to demonstrate the working of \n",
    "# chain.from_iterable() and compress() \n",
    "\n",
    "# initializing list 1 \n",
    "li1 = [1, 4, 5, 7] \n",
    "\n",
    "# initializing list 2 \n",
    "li2 = [1, 6, 5, 9] \n",
    "\n",
    "# initializing list 3 \n",
    "li3 = [8, 10, 5, 4] \n",
    "\n",
    "# intializing list of list \n",
    "li4 = [li1, li2, li3] \n",
    "\n",
    "# using chain.from_iterable() to print all elements of lists \n",
    "print (\"All values in mentioned chain are : \",end=\"\") \n",
    "print (list(itertools.chain.from_iterable(li4))) \n",
    "\n",
    "# using compress() selectively print data values \n",
    "print (\"The compressed values in string are : \",end=\"\") \n",
    "print (list(itertools.compress('GEEKSFORGEEKS',[1,0,0,0,0,1,0,0,1,0,0,0,0]))) \n"
   ]
  },
  {
   "cell_type": "code",
   "execution_count": 9,
   "metadata": {},
   "outputs": [
    {
     "name": "stdout",
     "output_type": "stream",
     "text": [
      "The values after condition returns false : [5, 7, 8]\n",
      "The values that return false to function are : [5, 7]\n"
     ]
    }
   ],
   "source": [
    "# Python code to demonstrate the working of \n",
    "# dropwhile() and filterfalse() \n",
    "\n",
    "# initializing list \n",
    "li = [2, 4, 5, 7, 8] \n",
    "\n",
    "# using dropwhile() to start displaying after condition is false \n",
    "print (\"The values after condition returns false : \",end=\"\") \n",
    "print (list(itertools.dropwhile(lambda x : x%2==0,li))) \n",
    "\n",
    "# using filterfalse() to print false values \n",
    "print (\"The values that return false to function are : \",end=\"\") \n",
    "print (list(itertools.filterfalse(lambda x : x%2==0,li))) \n"
   ]
  },
  {
   "cell_type": "code",
   "execution_count": 10,
   "metadata": {},
   "outputs": [
    {
     "name": "stdout",
     "output_type": "stream",
     "text": [
      "The sliced list values are : [4, 7, 10]\n",
      "The values acc. to function are : [1, 1, 4, 1]\n"
     ]
    }
   ],
   "source": [
    "# Python code to demonstrate the working of \n",
    "# islice() and starmap() \n",
    "# initializing list \n",
    "li = [2, 4, 5, 7, 8, 10, 20] \n",
    "\n",
    "# initializing tuple list \n",
    "li1 = [ (1, 10, 5), (8, 4, 1), (5, 4, 9), (11, 10 , 1) ] \n",
    "\n",
    "\n",
    "# using islice() to slice the list acc. to need \n",
    "# starts printing from 2nd index till 6th skipping 2 \n",
    "print (\"The sliced list values are : \",end=\"\") \n",
    "print (list(itertools.islice(li,1, 6, 2))) \n",
    "\n",
    "# using starmap() for selection value acc. to function \n",
    "# selects min of all tuple values \n",
    "print (\"The values acc. to function are : \",end=\"\") \n",
    "print (list(itertools.starmap(min,li1))) \n"
   ]
  },
  {
   "cell_type": "code",
   "execution_count": 11,
   "metadata": {},
   "outputs": [
    {
     "name": "stdout",
     "output_type": "stream",
     "text": [
      "The combined values of iterables is : \n",
      "('G', 'e') ('e', 'k') ('s', 'f') ('o', 'r') ('G', 'e') ('e', 'k') ('s', '_')\n"
     ]
    }
   ],
   "source": [
    "# Python code to demonstrate the working of \n",
    "# zip_longest() \n",
    "\n",
    "# using zip_longest() to combine two iterables. \n",
    "print (\"The combined values of iterables is : \") \n",
    "print (*(itertools.zip_longest('GesoGes','ekfrek',fillvalue='_' ))) \n"
   ]
  },
  {
   "cell_type": "code",
   "execution_count": 12,
   "metadata": {},
   "outputs": [
    {
     "name": "stdout",
     "output_type": "stream",
     "text": [
      "The cartesian product of the containers is : \n",
      "[('A', '1'), ('A', '2'), ('B', '1'), ('B', '2')]\n",
      "All the permutations of the given container is : \n",
      "[('G', 'f'), ('G', 'G'), ('f', 'G'), ('f', 'G'), ('G', 'G'), ('G', 'f')]\n"
     ]
    }
   ],
   "source": [
    "# Python code to demonstrate the working of \n",
    "# product() and permutations() \n",
    "\n",
    "# using product() to print the cartesian product \n",
    "print (\"The cartesian product of the containers is : \") \n",
    "print (list(itertools.product('AB','12'))) \n",
    "\n",
    "# using permutations to compute all possible permutations \n",
    "print (\"All the permutations of the given container is : \") \n",
    "print (list(itertools.permutations('GfG',2))) \n"
   ]
  },
  {
   "cell_type": "code",
   "execution_count": 13,
   "metadata": {},
   "outputs": [
    {
     "name": "stdout",
     "output_type": "stream",
     "text": [
      "All the combination of container in sorted order(without replacement) is : \n",
      "[('1', '2'), ('1', '3'), ('1', '4'), ('2', '3'), ('2', '4'), ('3', '4')]\n",
      "All the combination of container in sorted order(with replacement) is : \n",
      "[('G', 'G'), ('G', 'f'), ('G', 'G'), ('f', 'f'), ('f', 'G'), ('G', 'G')]\n"
     ]
    }
   ],
   "source": [
    "# Python code to demonstrate the working of \n",
    "# combination() and combination_with_replacement() \n",
    "\n",
    "# using combinations() to print every combination \n",
    "# (without replacement) \n",
    "print (\"All the combination of container in sorted order(without replacement) is : \") \n",
    "print (list(itertools.combinations('1234',2))) \n",
    "\n",
    "# using combinations_with_replacement() to print every combination \n",
    "# with replacement \n",
    "print (\"All the combination of container in sorted order(with replacement) is : \") \n",
    "print (list(itertools.combinations_with_replacement('GfG',2))) \n"
   ]
  },
  {
   "cell_type": "code",
   "execution_count": 14,
   "metadata": {},
   "outputs": [
    {
     "name": "stdout",
     "output_type": "stream",
     "text": [
      "Printing the numbers repeatedly : \n",
      "[25, 25, 25, 25]\n"
     ]
    }
   ],
   "source": [
    "# Python code to demonstrate the working of \n",
    "# repeat() \n",
    "# using repeat() to repeatedly print number \n",
    "print (\"Printing the numbers repeatedly : \") \n",
    "print (list(itertools.repeat(25,4))) \n"
   ]
  },
  {
   "cell_type": "code",
   "execution_count": 16,
   "metadata": {},
   "outputs": [
    {
     "name": "stdout",
     "output_type": "stream",
     "text": [
      "11\n",
      "22\n",
      "33\n",
      "44\n",
      "55\n"
     ]
    }
   ],
   "source": [
    "# Python code demonstrating \n",
    "# basic use of iter() \n",
    "lst = [11, 22, 33, 44, 55] \n",
    "\n",
    "iter_lst = iter(lst) \n",
    "while True: \n",
    "    try: \n",
    "        print(iter_lst.__next__()) \n",
    "    except: \n",
    "        break\n"
   ]
  },
  {
   "cell_type": "code",
   "execution_count": 17,
   "metadata": {},
   "outputs": [
    {
     "name": "stdout",
     "output_type": "stream",
     "text": [
      "34  is iterable :  False\n",
      "[4, 5]  is iterable :  True\n",
      "(4, 5)  is iterable :  True\n",
      "{'a': 4}  is iterable :  True\n",
      "dfsdf  is iterable :  True\n",
      "4.5  is iterable :  False\n"
     ]
    }
   ],
   "source": [
    "# Function to check object \n",
    "# is iterable or not \n",
    "def iterable(obj): \n",
    "    try: \n",
    "        iter(obj) \n",
    "        return True\n",
    "\n",
    "    except TypeError: \n",
    "        return False\n",
    "\n",
    "# Driver Code\n",
    "for element in [34, [4, 5], (4, 5), \n",
    "            {\"a\":4}, \"dfsdf\", 4.5]: \n",
    "\n",
    "    print(element, \" is iterable : \", iterable(element)) \n"
   ]
  },
  {
   "cell_type": "code",
   "execution_count": 19,
   "metadata": {},
   "outputs": [
    {
     "name": "stdout",
     "output_type": "stream",
     "text": [
      "1\n",
      "2\n",
      "3\n"
     ]
    }
   ],
   "source": [
    "# A generator function that yields 1 for first time, \n",
    "# 2 second time and 3 third time \n",
    "def simpleGeneratorFun(): \n",
    "    yield 1\n",
    "    yield 2\n",
    "    yield 3\n",
    "\n",
    "# Driver code to check above generator function \n",
    "for value in simpleGeneratorFun(): \n",
    "    print(value) \n"
   ]
  },
  {
   "cell_type": "code",
   "execution_count": 22,
   "metadata": {},
   "outputs": [
    {
     "name": "stdout",
     "output_type": "stream",
     "text": [
      "1\n",
      "2\n",
      "3\n"
     ]
    }
   ],
   "source": [
    "# A Python program to demonstrate use of \n",
    "# generator object with next() \n",
    "\n",
    "# A generator function \n",
    "def simpleGeneratorFun(): \n",
    "    yield 1\n",
    "    yield 2\n",
    "    yield 3\n",
    "\n",
    "# x is a generator object \n",
    "x = simpleGeneratorFun() \n",
    "\n",
    "# Iterating over the generator object using next \n",
    "print(x.__next__()); # In Python 3, __next__() \n",
    "print(x.__next__()); \n",
    "print(x.__next__()); \n",
    "\n"
   ]
  },
  {
   "cell_type": "code",
   "execution_count": null,
   "metadata": {},
   "outputs": [],
   "source": []
  }
 ],
 "metadata": {
  "kernelspec": {
   "display_name": "Python 3",
   "language": "python",
   "name": "python3"
  },
  "language_info": {
   "codemirror_mode": {
    "name": "ipython",
    "version": 3
   },
   "file_extension": ".py",
   "mimetype": "text/x-python",
   "name": "python",
   "nbconvert_exporter": "python",
   "pygments_lexer": "ipython3",
   "version": "3.5.2"
  }
 },
 "nbformat": 4,
 "nbformat_minor": 2
}
