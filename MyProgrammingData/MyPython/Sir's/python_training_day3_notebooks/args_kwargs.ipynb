{
 "cells": [
  {
   "cell_type": "markdown",
   "metadata": {},
   "source": [
    "### Packing and Unpacking arguments in python"
   ]
  },
  {
   "cell_type": "code",
   "execution_count": 2,
   "metadata": {},
   "outputs": [],
   "source": [
    "#We use two operators * (for tuples) and ** (for dictionaries)"
   ]
  },
  {
   "cell_type": "code",
   "execution_count": 25,
   "metadata": {},
   "outputs": [
    {
     "ename": "TypeError",
     "evalue": "fun() missing 3 required positional arguments: 'b', 'c', and 'd'",
     "output_type": "error",
     "traceback": [
      "\u001b[0;31m---------------------------------------------------------------------------\u001b[0m",
      "\u001b[0;31mTypeError\u001b[0m                                 Traceback (most recent call last)",
      "\u001b[0;32m<ipython-input-25-cfbd66a807a8>\u001b[0m in \u001b[0;36m<module>\u001b[0;34m\u001b[0m\n\u001b[1;32m     11\u001b[0m \u001b[0;34m\u001b[0m\u001b[0m\n\u001b[1;32m     12\u001b[0m \u001b[0;31m# This doesn't work\u001b[0m\u001b[0;34m\u001b[0m\u001b[0;34m\u001b[0m\u001b[0m\n\u001b[0;32m---> 13\u001b[0;31m \u001b[0mfun\u001b[0m\u001b[0;34m(\u001b[0m\u001b[0mmy_list\u001b[0m\u001b[0;34m)\u001b[0m\u001b[0;34m\u001b[0m\u001b[0m\n\u001b[0m",
      "\u001b[0;31mTypeError\u001b[0m: fun() missing 3 required positional arguments: 'b', 'c', and 'd'"
     ]
    }
   ],
   "source": [
    "# A Python program to demonstrate need \n",
    "# of packing and unpacking \n",
    "\n",
    "# A sample function that takes 4 arguments \n",
    "# and prints them. \n",
    "def fun(a, b, c, d): \n",
    "    print(a, b, c, d) \n",
    "\n",
    "# Driver Code \n",
    "my_list = [1, 2, 3, 4] \n",
    "\n",
    "# This doesn't work \n",
    "fun(my_list) \n"
   ]
  },
  {
   "cell_type": "code",
   "execution_count": 6,
   "metadata": {},
   "outputs": [],
   "source": [
    "#Unpacking\n",
    "#We can use * to unpack the list so that all elements of it can be passed as different parameters."
   ]
  },
  {
   "cell_type": "code",
   "execution_count": 7,
   "metadata": {},
   "outputs": [
    {
     "name": "stdout",
     "output_type": "stream",
     "text": [
      "1 2 3 4\n"
     ]
    }
   ],
   "source": [
    "# A sample function that takes 4 arguments \n",
    "# and prints the, \n",
    "def fun(a, b, c, d): \n",
    "    print(a, b, c, d) \n",
    "\n",
    "# Driver Code \n",
    "my_list = [1, 2, 3, 4] \n",
    "\n",
    "# Unpacking list into four arguments \n",
    "fun(*my_list) \n"
   ]
  },
  {
   "cell_type": "code",
   "execution_count": 8,
   "metadata": {},
   "outputs": [
    {
     "data": {
      "text/plain": [
       "[3, 4, 5]"
      ]
     },
     "execution_count": 8,
     "metadata": {},
     "output_type": "execute_result"
    }
   ],
   "source": [
    "range(3, 6) # normal call with separate arguments \n",
    "[3, 4, 5] \n",
    "args = [3, 6] \n",
    "range(*args) # call with arguments unpacked from a list \n",
    "[3, 4, 5] \n"
   ]
  },
  {
   "cell_type": "code",
   "execution_count": 11,
   "metadata": {},
   "outputs": [],
   "source": [
    "#Packing\n",
    "#When we don’t know how many arguments need to be passed to a python function, we can use Packing to pack all arguments in a tuple"
   ]
  },
  {
   "cell_type": "code",
   "execution_count": 28,
   "metadata": {},
   "outputs": [
    {
     "name": "stdout",
     "output_type": "stream",
     "text": [
      "15\n",
      "30\n"
     ]
    }
   ],
   "source": [
    "# A Python program to demonstrate use \n",
    "# of packing \n",
    "\n",
    "# This function uses packing to sum \n",
    "# unknown number of arguments \n",
    "def mySum(*args): \n",
    "    sum = 0\n",
    "    for i in range(0, len(args)): \n",
    "        sum = sum + args[i] \n",
    "    return sum\n",
    "\n",
    "# Driver code \n",
    "print(mySum(1, 2, 3, 4, 5)) \n",
    "print(mySum(10, 20)) \n"
   ]
  },
  {
   "cell_type": "code",
   "execution_count": 27,
   "metadata": {},
   "outputs": [
    {
     "name": "stdout",
     "output_type": "stream",
     "text": [
      "Geeksforgeeks awesome world!\n"
     ]
    }
   ],
   "source": [
    "# A Python program to demonstrate both packing and \n",
    "# unpacking. \n",
    "  \n",
    "# A sample python function that takes three arguments \n",
    "# and prints them \n",
    "def fun1(a, b, c): \n",
    "    print(a, b, c) \n",
    "  \n",
    "# Another sample function. \n",
    "# This is an example of PACKING. All arguments passed \n",
    "# to fun2 are packed into tuple *args. \n",
    "def fun2(*args): \n",
    "  \n",
    "    # Convert args tuple to a list so we can modify it \n",
    "    args = list(args) \n",
    "  \n",
    "    # Modifying args \n",
    "    args[0] = 'Geeksforgeeks'\n",
    "    args[1] = 'awesome'\n",
    "  \n",
    "    # UNPACKING args and calling fun1() \n",
    "    fun1(*args) \n",
    "fun2('Hello', 'beautiful', 'world!') "
   ]
  },
  {
   "cell_type": "code",
   "execution_count": 22,
   "metadata": {},
   "outputs": [
    {
     "name": "stdout",
     "output_type": "stream",
     "text": [
      "2 4 10\n"
     ]
    }
   ],
   "source": [
    "#  ** is used for dictionaries\n",
    "\n",
    "# A sample program to demonstrate unpacking of \n",
    "# dictionary items using ** \n",
    "def fun(a, b, c): \n",
    "    print(a, b, c) \n",
    "\n",
    "# A call with unpacking of dictionary \n",
    "d = {'a':2, 'b':4, 'c':10} \n",
    "fun(**d) \n",
    "\n",
    "\n"
   ]
  },
  {
   "cell_type": "code",
   "execution_count": 29,
   "metadata": {},
   "outputs": [
    {
     "name": "stdout",
     "output_type": "stream",
     "text": [
      "<class 'dict'>\n",
      "language = Python\n",
      "ID = 101\n",
      "name = geeks\n"
     ]
    }
   ],
   "source": [
    "# A Python program to demonstrate packing of \n",
    "# dictionary items using ** \n",
    "def fun(**kwargs): \n",
    "\n",
    "# kwargs is a dict \n",
    "    print(type(kwargs)) \n",
    "\n",
    "# Printing dictionary items \n",
    "    for key in kwargs: \n",
    "        print(\"%s = %s\" % (key, kwargs[key])) \n",
    "\n",
    "# Driver code \n",
    "fun(name=\"geeks\", ID=\"101\", language=\"Python\") \n"
   ]
  },
  {
   "cell_type": "code",
   "execution_count": null,
   "metadata": {},
   "outputs": [],
   "source": []
  }
 ],
 "metadata": {
  "kernelspec": {
   "display_name": "Python 3",
   "language": "python",
   "name": "python3"
  },
  "language_info": {
   "codemirror_mode": {
    "name": "ipython",
    "version": 3
   },
   "file_extension": ".py",
   "mimetype": "text/x-python",
   "name": "python",
   "nbconvert_exporter": "python",
   "pygments_lexer": "ipython3",
   "version": "3.5.2"
  }
 },
 "nbformat": 4,
 "nbformat_minor": 2
}
