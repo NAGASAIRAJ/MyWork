{
 "cells": [
  {
   "cell_type": "code",
   "execution_count": null,
   "metadata": {},
   "outputs": [],
   "source": [
    "import random"
   ]
  },
  {
   "cell_type": "code",
   "execution_count": null,
   "metadata": {},
   "outputs": [],
   "source": [
    "def design(l):\n",
    "    print(\" ___________\")\n",
    "    print(\"| {} | {} | {} |\".format(l[1],l[2],l[3]))\n",
    "    print(\"|---|---|---|\")\n",
    "    print(\"| {} | {} | {} |\".format(l[4],l[5],l[6]))\n",
    "    print(\"|---|---|---|\")\n",
    "    print(\"| {} | {} | {} |\".format(l[7],l[8],l[9]))\n",
    "    print(\"|___|___|___|\")\n"
   ]
  },
  {
   "cell_type": "code",
   "execution_count": null,
   "metadata": {},
   "outputs": [],
   "source": [
    "l=[\" \"]*10\n",
    "design(l)"
   ]
  },
  {
   "cell_type": "code",
   "execution_count": null,
   "metadata": {},
   "outputs": [],
   "source": [
    "def play():\n",
    "    ll,ss,c=[],set(),0\n",
    "    l=random.sample(range(10), 10)\n",
    "    design(l)\n",
    "    while True:\n",
    "        s=(input()).upper()\n",
    "        if(s=='X'):\n",
    "            n=int(input())\n",
    "            if(ss.add(n)):\n",
    "                l[n]=s\n",
    "                design(l)\n",
    "                c=c+1\n",
    "            else:\n",
    "                c=c\n",
    "            l[n]=s\n",
    "            c+=1\n",
    "        elif(s=='O'):\n",
    "            n=int(input())\n",
    "            if(ss.add(n)):\n",
    "                l[n]=s\n",
    "                design(l)\n",
    "                c=c+1\n",
    "            else:\n",
    "                c=c\n",
    "            l[n]=s\n",
    "            c+=1\n",
    "        if(c==9):\n",
    "            print(\"The game is draw.!\")\n",
    "            break\n",
    "        if( (l[1]==s and l[5]==s and l[9]==s) or (l[1]==s and l[2]==s and l[3]==s) or (l[1]==s and l[4]==s and l[7]==s) or (l[2]==s and l[5]==s and l[8]==s) or (l[3]==s and l[6]==s and l[9]==s) or (l[3]==s and l[5]==s and l[7]==s) or (l[4]==s and l[5]==s and l[6]==s) ):\n",
    "            print(\"You Won\")\n",
    "            c=9\n",
    "play()"
   ]
  },
  {
   "cell_type": "code",
   "execution_count": null,
   "metadata": {},
   "outputs": [],
   "source": [
    "l=random.sample(range(10), 10)"
   ]
  },
  {
   "cell_type": "code",
   "execution_count": null,
   "metadata": {},
   "outputs": [],
   "source": [
    "l"
   ]
  },
  {
   "cell_type": "code",
   "execution_count": null,
   "metadata": {},
   "outputs": [],
   "source": [
    "from __future__ import print_function\n",
    "\n",
    "choices = []\n",
    "\n",
    "for x in range (0, 9) :\n",
    "   choices.append(str(x + 1))\n",
    "\n",
    "playerOneTurn = True\n",
    "winner = False\n",
    "\n",
    "def printBoard() :\n",
    "   print( '\\n -----')\n",
    "   print( '|' + choices[0] + '|' + choices[1] + '|' + choices[2] + '|')\n",
    "   print( ' -----')\n",
    "   print( '|' + choices[3] + '|' + choices[4] + '|' + choices[5] + '|')\n",
    "   print( ' -----')\n",
    "   print( '|' + choices[6] + '|' + choices[7] + '|' + choices[8] + '|')\n",
    "   print( ' -----\\n')\n",
    "\n",
    "while not winner :\n",
    "   printBoard()\n",
    "\n",
    "   if playerOneTurn :\n",
    "       print( \"Player 1:\")\n",
    "   else :\n",
    "       print( \"Player 2:\")\n",
    "\n",
    "   try:\n",
    "       choice = int(input(\">> \"))\n",
    "   except:\n",
    "       print(\"please enter a valid field\")\n",
    "       continue\n",
    "   if choices[choice - 1] == 'X' or choices [choice-1] == 'O':\n",
    "       print(\"illegal move, plase try again\")\n",
    "       continue\n",
    "\n",
    "   if playerOneTurn :\n",
    "       choices[choice - 1] = 'X'\n",
    "   else :\n",
    "       choices[choice - 1] = 'O'\n",
    "\n",
    "   playerOneTurn = not playerOneTurn\n",
    "\n",
    "   for x in range (0, 3) :\n",
    "       y = x * 3\n",
    "       if (choices[y] == choices[(y + 1)] and choices[y] == choices[(y + 2)]) :\n",
    "           winner = True\n",
    "           printBoard()\n",
    "       if (choices[x] == choices[(x + 3)] and choices[x] == choices[(x + 6)]) :\n",
    "           winner = True\n",
    "           printBoard()\n",
    "\n",
    "   if((choices[0] == choices[4] and choices[0] == choices[8]) or\n",
    "      (choices[2] == choices[4] and choices[4] == choices[6])) :\n",
    "       winner = True\n",
    "       printBoard()\n",
    "\n",
    "print (\"Player \" + str(int(playerOneTurn + 1)) + \" wins!\\n\")"
   ]
  },
  {
   "cell_type": "code",
   "execution_count": null,
   "metadata": {},
   "outputs": [],
   "source": [
    "def printBoard() :\n",
    "   print( '\\n -----')\n",
    "   print( '|' + choices[0] + '|' + choices[1] + '|' + choices[2] + '|')\n",
    "   print( ' -----')\n",
    "   print( '|' + choices[3] + '|' + choices[4] + '|' + choices[5] + '|')\n",
    "   print( ' -----')\n",
    "   print( '|' + choices[6] + '|' + choices[7] + '|' + choices[8] + '|')\n",
    "   print( ' -----\\n')\n"
   ]
  },
  {
   "cell_type": "code",
   "execution_count": 12,
   "metadata": {},
   "outputs": [],
   "source": [
    "from turtle import *\n",
    "from freegames import line\n",
    "\n",
    "def grid():\n",
    "   \"Draw tic-tac-toe grid.\"\n",
    "   line(-67, 200, -67, -200)\n",
    "   line(67, 200, 67, -200)\n",
    "   line(-200, -67, 200, -67)\n",
    "   line(-200, 67, 200, 67)\n",
    "\n",
    "def drawx(x, y):\n",
    "   \"Draw X player.\"\n",
    "   line(x, y, x + 133, y + 133)\n",
    "   line(x, y + 133, x + 133, y)\n",
    "\n",
    "def drawo(x, y):\n",
    "   \"Draw O player.\"\n",
    "   up()\n",
    "   goto(x + 67, y + 5)\n",
    "   down()\n",
    "   circle(62)\n",
    "\n",
    "def floor(value):\n",
    "   \"Round value down to grid with square size 133.\"\n",
    "   return ((value + 200) // 133) * 133 - 200\n",
    "\n",
    "state = {'player': 0}\n",
    "players = [drawx, drawo]\n",
    "\n",
    "def tap(x, y):\n",
    "   \"Draw X or O in tapped square.\"\n",
    "   x = floor(x)\n",
    "   y = floor(y)\n",
    "   player = state['player']\n",
    "   draw = players[player]\n",
    "   draw(x, y)\n",
    "   update()\n",
    "   state['player'] = not player\n",
    "\n",
    "setup(420, 420, 370, 0)\n",
    "hideturtle()\n",
    "tracer(False)\n",
    "grid()\n",
    "update()\n",
    "onscreenclick(tap)\n",
    "done()"
   ]
  },
  {
   "cell_type": "code",
   "execution_count": 9,
   "metadata": {},
   "outputs": [],
   "source": [
    "d={}\n",
    "d[0]=1\n",
    "d[3]=545\n",
    "d[8]=55\n",
    "d[6]=54\n",
    "d[9]=45"
   ]
  },
  {
   "cell_type": "code",
   "execution_count": 10,
   "metadata": {},
   "outputs": [
    {
     "data": {
      "text/plain": [
       "{0: 1, 3: 545, 8: 55, 6: 54, 9: 45}"
      ]
     },
     "execution_count": 10,
     "metadata": {},
     "output_type": "execute_result"
    }
   ],
   "source": [
    "d"
   ]
  },
  {
   "cell_type": "code",
   "execution_count": null,
   "metadata": {},
   "outputs": [],
   "source": []
  }
 ],
 "metadata": {
  "kernelspec": {
   "display_name": "Python 3",
   "language": "python",
   "name": "python3"
  },
  "language_info": {
   "codemirror_mode": {
    "name": "ipython",
    "version": 3
   },
   "file_extension": ".py",
   "mimetype": "text/x-python",
   "name": "python",
   "nbconvert_exporter": "python",
   "pygments_lexer": "ipython3",
   "version": "3.6.8"
  }
 },
 "nbformat": 4,
 "nbformat_minor": 2
}
