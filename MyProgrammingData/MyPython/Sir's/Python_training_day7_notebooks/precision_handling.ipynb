{
 "cells": [
  {
   "cell_type": "code",
   "execution_count": 1,
   "metadata": {},
   "outputs": [
    {
     "name": "stdout",
     "output_type": "stream",
     "text": [
      "The integral value of number is : 3\n",
      "The smallest integer greater than number is : 4\n",
      "The greatest integer smaller than number is : 3\n"
     ]
    }
   ],
   "source": [
    "# Python code to demonstrate ceil(), trunc() \n",
    "# and floor() \n",
    "\n",
    "# importing \"math\" for precision function \n",
    "import math \n",
    "\n",
    "# initializing value \n",
    "a = 3.4536\n",
    "\n",
    "# using trunc() to print integer after truncating \n",
    "print (\"The integral value of number is : \",end=\"\") \n",
    "print (math.trunc(a)) \n",
    "\n",
    "# using ceil() to print number after ceiling \n",
    "print (\"The smallest integer greater than number is : \",end=\"\") \n",
    "print (math.ceil(a)) \n",
    "\n",
    "# using floor() to print number after flooring \n",
    "print (\"The greatest integer smaller than number is : \",end=\"\") \n",
    "print (math.floor(a)) \n"
   ]
  },
  {
   "cell_type": "code",
   "execution_count": 1,
   "metadata": {},
   "outputs": [
    {
     "name": "stdout",
     "output_type": "stream",
     "text": [
      "The value of number till 2 decimal place(using %) is : 3.45\n",
      "The value of number till 2 decimal place(using format()) is : 3.45\n",
      "The value of number till 2 decimal place(using round()) is : 3.454\n"
     ]
    }
   ],
   "source": [
    "# initializing value \n",
    "a = 3.4536\n",
    "\n",
    "# using \"%\" to print value till 2 decimal places \n",
    "print (\"The value of number till 2 decimal place(using %) is : \",end=\"\") \n",
    "print ('%.2f'%a) \n",
    "\n",
    "# using format() to print value till 2 decimal places \n",
    "print (\"The value of number till 2 decimal place(using format()) is : \",end=\"\") \n",
    "print (\"{0:.2f}\".format(a)) \n",
    "\n",
    "# using round() to print value till 2 decimal places \n",
    "print (\"The value of number till 2 decimal place(using round()) is : \",end=\"\") \n",
    "print (round(a,3)) \n"
   ]
  },
  {
   "cell_type": "code",
   "execution_count": null,
   "metadata": {},
   "outputs": [],
   "source": []
  }
 ],
 "metadata": {
  "kernelspec": {
   "display_name": "Python 3",
   "language": "python",
   "name": "python3"
  },
  "language_info": {
   "codemirror_mode": {
    "name": "ipython",
    "version": 3
   },
   "file_extension": ".py",
   "mimetype": "text/x-python",
   "name": "python",
   "nbconvert_exporter": "python",
   "pygments_lexer": "ipython3",
   "version": "3.5.2"
  }
 },
 "nbformat": 4,
 "nbformat_minor": 2
}
