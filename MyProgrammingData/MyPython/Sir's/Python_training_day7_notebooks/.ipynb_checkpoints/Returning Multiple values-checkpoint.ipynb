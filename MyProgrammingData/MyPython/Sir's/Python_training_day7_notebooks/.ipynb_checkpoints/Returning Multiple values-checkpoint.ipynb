{
 "cells": [
  {
   "cell_type": "code",
   "execution_count": 2,
   "metadata": {},
   "outputs": [
    {
     "name": "stdout",
     "output_type": "stream",
     "text": [
      "geeksforgeeks\n",
      "20\n"
     ]
    }
   ],
   "source": [
    "# A Python program to to return multiple \n",
    "# values from a method using class \n",
    "class Test: \n",
    "    def __init__(self): \n",
    "        self.str = \"geeksforgeeks\"\n",
    "        self.x = 20\n",
    "\n",
    "# This function returns an object of Test \n",
    "def fun(): \n",
    "    return Test() \n",
    "\n",
    "# Driver code to test above method \n",
    "t = fun() \n",
    "print(t.str) \n",
    "print(t.x) \n"
   ]
  },
  {
   "cell_type": "code",
   "execution_count": 4,
   "metadata": {},
   "outputs": [
    {
     "name": "stdout",
     "output_type": "stream",
     "text": [
      "geeksforgeeks\n",
      "20\n"
     ]
    }
   ],
   "source": [
    "# A Python program to to return multiple \n",
    "# values from a method using tuple \n",
    "\n",
    "# This function returns a tuple \n",
    "def fun(): \n",
    "    str = \"geeksforgeeks\"\n",
    "    x = 20\n",
    "    return str, x; # Return tuple, we could also \n",
    "# write (str, x) \n",
    "\n",
    "# Driver code to test above method \n",
    "str, x = fun() # Assign returned tuple \n",
    "print(str) \n",
    "print(x) \n"
   ]
  },
  {
   "cell_type": "code",
   "execution_count": 5,
   "metadata": {},
   "outputs": [
    {
     "name": "stdout",
     "output_type": "stream",
     "text": [
      "['geeksforgeeks', 20]\n"
     ]
    }
   ],
   "source": [
    "# A Python program to to return multiple \n",
    "# values from a method using list \n",
    "\n",
    "# This function returns a list \n",
    "def fun(): \n",
    "    str = \"geeksforgeeks\"\n",
    "    x = 20\n",
    "    return [str, x]; \n",
    "\n",
    "# Driver code to test above method \n",
    "list = fun() \n",
    "print(list) \n"
   ]
  },
  {
   "cell_type": "code",
   "execution_count": 6,
   "metadata": {},
   "outputs": [
    {
     "name": "stdout",
     "output_type": "stream",
     "text": [
      "{'x': 20, 'str': 'GeeksforGeeks'}\n"
     ]
    }
   ],
   "source": [
    "# A Python program to to return multiple \n",
    "# values from a method using dictionary \n",
    "\n",
    "# This function returns a dictionary \n",
    "def fun(): \n",
    "    d = dict(); \n",
    "    d['str'] = \"GeeksforGeeks\"\n",
    "    d['x'] = 20\n",
    "    return d \n",
    "\n",
    "# Driver code to test above method \n",
    "d = fun() \n",
    "print(d) \n"
   ]
  },
  {
   "cell_type": "code",
   "execution_count": 7,
   "metadata": {},
   "outputs": [
    {
     "name": "stdout",
     "output_type": "stream",
     "text": [
      "3145\n"
     ]
    }
   ],
   "source": [
    "from functools import partial \n",
    "\n",
    "# A normal function \n",
    "def f(a, b, c, x): \n",
    "    return 1000*a + 100*b + 10*c + x \n",
    "\n",
    "# A partial function that calls f with \n",
    "# a as 3, b as 1 and c as 4. \n",
    "g = partial(f, 3, 1, 4) \n",
    "\n",
    "# Calling g() \n",
    "print(g(5)) \n"
   ]
  },
  {
   "cell_type": "code",
   "execution_count": 9,
   "metadata": {},
   "outputs": [
    {
     "name": "stdout",
     "output_type": "stream",
     "text": [
      "312\n"
     ]
    }
   ],
   "source": [
    "from functools import *\n",
    "\n",
    "# A normal function \n",
    "def add(a, b, c): \n",
    "    return 100 * a + 10 * b + c \n",
    "\n",
    "# A partial function with b = 1 and c = 2 \n",
    "add_part = partial(add, c = 2, b = 1) \n",
    "\n",
    "# Calling partial function \n",
    "print(add_part(3)) \n"
   ]
  },
  {
   "cell_type": "code",
   "execution_count": 15,
   "metadata": {},
   "outputs": [
    {
     "name": "stdout",
     "output_type": "stream",
     "text": [
      "HELLO\n",
      "HELLO\n"
     ]
    }
   ],
   "source": [
    "# Python program to illustrate functions \n",
    "# can be treated as objects \n",
    "def shout(text): \n",
    "    return text.upper() \n",
    "\n",
    "print (shout('Hello'))\n",
    "\n",
    "yell = shout \n",
    "\n",
    "print (yell('Hello'))\n"
   ]
  },
  {
   "cell_type": "code",
   "execution_count": 17,
   "metadata": {},
   "outputs": [
    {
     "name": "stdout",
     "output_type": "stream",
     "text": [
      "HI, I AM CREATED BY A FUNCTION PASSED AS AN ARGUMENT.\n",
      "hi, i am created by a function passed as an argument.\n"
     ]
    }
   ],
   "source": [
    "# Python program to illustrate functions \n",
    "# can be passed as arguments to other functions \n",
    "def shout(text): \n",
    "    return text.upper() \n",
    "\n",
    "def whisper(text): \n",
    "    return text.lower() \n",
    "\n",
    "def greet(func): \n",
    "# storing the function in a variable \n",
    "    greeting = func(\"Hi, I am created by a function passed as an argument.\") \n",
    "    print (greeting) \n",
    "\n",
    "greet(shout) \n",
    "greet(whisper) \n"
   ]
  },
  {
   "cell_type": "code",
   "execution_count": 19,
   "metadata": {},
   "outputs": [
    {
     "name": "stdout",
     "output_type": "stream",
     "text": [
      "25\n"
     ]
    }
   ],
   "source": [
    "# Python program to illustrate functions \n",
    "# Functions can return another function \n",
    "\n",
    "def create_adder(x): \n",
    "    def adder(y): \n",
    "        return x+y \n",
    "\n",
    "    return adder \n",
    "\n",
    "add_15 = create_adder(15) \n",
    "\n",
    "print (add_15(10)) \n"
   ]
  },
  {
   "cell_type": "code",
   "execution_count": null,
   "metadata": {},
   "outputs": [],
   "source": []
  }
 ],
 "metadata": {
  "kernelspec": {
   "display_name": "Python 3",
   "language": "python",
   "name": "python3"
  },
  "language_info": {
   "codemirror_mode": {
    "name": "ipython",
    "version": 3
   },
   "file_extension": ".py",
   "mimetype": "text/x-python",
   "name": "python",
   "nbconvert_exporter": "python",
   "pygments_lexer": "ipython3",
   "version": "3.5.2"
  }
 },
 "nbformat": 4,
 "nbformat_minor": 2
}
