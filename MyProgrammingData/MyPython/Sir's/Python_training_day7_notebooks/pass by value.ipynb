{
 "cells": [
  {
   "cell_type": "code",
   "execution_count": 1,
   "metadata": {},
   "outputs": [
    {
     "name": "stdout",
     "output_type": "stream",
     "text": [
      "[20, 11, 12, 13, 14, 15]\n"
     ]
    }
   ],
   "source": [
    "# Here x is a new reference to same list lst \n",
    "def myFun(x): \n",
    "    x[0] = 20\n",
    "\n",
    "# Driver Code (Note that lst is modified \n",
    "# after function call. \n",
    "lst = [10, 11, 12, 13, 14, 15] \n",
    "myFun(lst); \n",
    "print(lst) \n"
   ]
  },
  {
   "cell_type": "code",
   "execution_count": 2,
   "metadata": {},
   "outputs": [
    {
     "name": "stdout",
     "output_type": "stream",
     "text": [
      "[10, 11, 12, 13, 14, 15]\n"
     ]
    }
   ],
   "source": [
    "def myFun(x):\n",
    "\n",
    "      \n",
    "# After below line link of x with previous \n",
    "# object gets broken. A new object is assigned \n",
    "# to x. \n",
    "    x = [20, 30, 40] \n",
    "\n",
    "# Driver Code (Note that lst is not modified \n",
    "# after function call. \n",
    "lst = [10, 11, 12, 13, 14, 15] \n",
    "myFun(lst); \n",
    "print(lst) \n"
   ]
  },
  {
   "cell_type": "markdown",
   "metadata": {},
   "source": [
    "### Function with DefaultArguments"
   ]
  },
  {
   "cell_type": "code",
   "execution_count": 3,
   "metadata": {},
   "outputs": [
    {
     "name": "stdout",
     "output_type": "stream",
     "text": [
      "x:  10\n",
      "y:  50\n"
     ]
    }
   ],
   "source": [
    "# Python program to demonstrate \n",
    "# default arguments \n",
    "def myFun(x, y=50): \n",
    "    print(\"x: \", x) \n",
    "    print(\"y: \", y) \n",
    "\n",
    "# Driver code (We call myFun() with only \n",
    "# argument) \n",
    "myFun(10) \n"
   ]
  },
  {
   "cell_type": "markdown",
   "metadata": {},
   "source": [
    "### Function with Keyword Arguments"
   ]
  },
  {
   "cell_type": "code",
   "execution_count": 4,
   "metadata": {},
   "outputs": [
    {
     "name": "stdout",
     "output_type": "stream",
     "text": [
      "Geeks Practice\n",
      "Geeks Practice\n"
     ]
    }
   ],
   "source": [
    "# Python program to demonstrate Keyword Arguments \n",
    "def student(firstname, lastname): \n",
    "    print(firstname, lastname) \n",
    "\n",
    "\n",
    "# Keyword arguments\n",
    "student(firstname ='Geeks', lastname ='Practice')\n",
    "student(lastname ='Practice', firstname ='Geeks') \n"
   ]
  },
  {
   "cell_type": "markdown",
   "metadata": {},
   "source": [
    "### Function with variable Length Arguments"
   ]
  },
  {
   "cell_type": "code",
   "execution_count": 5,
   "metadata": {},
   "outputs": [
    {
     "name": "stdout",
     "output_type": "stream",
     "text": [
      "Hello\n",
      "Welcome\n",
      "to\n",
      "GeeksforGeeks\n"
     ]
    }
   ],
   "source": [
    "# Python program to illustrate \n",
    "# *args for variable number of arguments \n",
    "def myFun(*argv): \n",
    "    for arg in argv: \n",
    "        print (arg) \n",
    "\n",
    "myFun('Hello', 'Welcome', 'to', 'GeeksforGeeks') \n"
   ]
  },
  {
   "cell_type": "code",
   "execution_count": 2,
   "metadata": {},
   "outputs": [
    {
     "name": "stdout",
     "output_type": "stream",
     "text": [
      "10 20 30 40 50\n"
     ]
    }
   ],
   "source": [
    "# Currying in Python - Many to Single Argument \n",
    "def change(a): \n",
    "    def w(b): \n",
    "        def x(c): \n",
    "            def y(d): \n",
    "                def z(e): \n",
    "                    print(a, b, c, d, e) \n",
    "                return z \n",
    "            return y \n",
    "        return x \n",
    "    return w \n",
    "\n",
    "change(10)(20)(30)(40)(50) \n"
   ]
  },
  {
   "cell_type": "code",
   "execution_count": 7,
   "metadata": {},
   "outputs": [
    {
     "name": "stdout",
     "output_type": "stream",
     "text": [
      "1853674.5406824148\n"
     ]
    }
   ],
   "source": [
    "# Demonstrate Currying of composition of function \n",
    "def change(b, c, d): \n",
    "    def a(x): \n",
    "        return b(c(d(x))) \n",
    "    return a \n",
    "\n",
    "def kilometer2meter(dist): \n",
    "    \"\"\" Function that converts km to m. \"\"\"\n",
    "    return dist * 1000\n",
    "\n",
    "def meter2centimeter(dist): \n",
    "    \"\"\" Function that converts m to cm. \"\"\"\n",
    "    return dist * 100\n",
    "\n",
    "def centimeter2feet(dist): \n",
    "    \"\"\" Function that converts cm to ft. \"\"\"\n",
    "    return dist / 30.48\n",
    "\n",
    "if __name__ == '__main__': \n",
    "    transform = change(centimeter2feet, meter2centimeter, kilometer2meter ) \n",
    "    e = transform(565) \n",
    "    print(e) \n",
    "    \n"
   ]
  },
  {
   "cell_type": "code",
   "execution_count": 8,
   "metadata": {},
   "outputs": [],
   "source": [
    "# Correct way of writing empty function \n",
    "# in Python \n",
    "def fun(): \n",
    "    pass\n"
   ]
  },
  {
   "cell_type": "code",
   "execution_count": null,
   "metadata": {},
   "outputs": [],
   "source": [
    "# # Empty loop in Python \n",
    "# mutex = True\n",
    "# while (mutex == True) : \n",
    "#     pass\n"
   ]
  },
  {
   "cell_type": "code",
   "execution_count": 1,
   "metadata": {},
   "outputs": [],
   "source": [
    "# Empty in if/else in Python \n",
    "mutex = True\n",
    "if (mutex == True) : \n",
    "    pass\n",
    "else : \n",
    "    print(\"False\") \n"
   ]
  },
  {
   "cell_type": "code",
   "execution_count": 13,
   "metadata": {},
   "outputs": [
    {
     "name": "stdout",
     "output_type": "stream",
     "text": [
      "1\n",
      "4\n",
      "9\n",
      "16\n",
      "25\n",
      "36\n",
      "49\n",
      "64\n",
      "81\n",
      "100\n"
     ]
    }
   ],
   "source": [
    "# A Python program to generate squares from 1 \n",
    "# to 100 using yield and therefore generator \n",
    "\n",
    "# An infinite generator function that prints \n",
    "# next square number. It starts with 1 \n",
    "def nextSquare(): \n",
    "    i = 1; \n",
    "\n",
    "# An Infinite loop to generate squares \n",
    "    while True: \n",
    "        yield i*i \n",
    "        i += 1 # Next execution resumes \n",
    "# from this point \n",
    "\n",
    "# Driver code to test above generator \n",
    "# function \n",
    "for num in nextSquare(): \n",
    "    if num > 100: \n",
    "        break\n",
    "    print(num) \n"
   ]
  },
  {
   "cell_type": "code",
   "execution_count": null,
   "metadata": {},
   "outputs": [],
   "source": []
  }
 ],
 "metadata": {
  "kernelspec": {
   "display_name": "Python 3",
   "language": "python",
   "name": "python3"
  },
  "language_info": {
   "codemirror_mode": {
    "name": "ipython",
    "version": 3
   },
   "file_extension": ".py",
   "mimetype": "text/x-python",
   "name": "python",
   "nbconvert_exporter": "python",
   "pygments_lexer": "ipython3",
   "version": "3.5.2"
  }
 },
 "nbformat": 4,
 "nbformat_minor": 2
}
