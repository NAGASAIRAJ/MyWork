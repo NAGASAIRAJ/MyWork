{
 "cells": [
  {
   "cell_type": "markdown",
   "metadata": {},
   "source": [
    "## Class and Methods Implementation"
   ]
  },
  {
   "cell_type": "code",
   "execution_count": 2,
   "metadata": {},
   "outputs": [
    {
     "name": "stdout",
     "output_type": "stream",
     "text": [
      "d\n",
      "1\n"
     ]
    }
   ],
   "source": [
    "class a:\n",
    "    def aa(d):\n",
    "        return \"d\"\n",
    "    @staticmethod\n",
    "    def kk():\n",
    "        return 1\n",
    "    def ko(p):\n",
    "        return 2\n",
    "c=a()\n",
    "print(c.aa())\n",
    "print(c.kk())"
   ]
  },
  {
   "cell_type": "code",
   "execution_count": 10,
   "metadata": {},
   "outputs": [
    {
     "name": "stdout",
     "output_type": "stream",
     "text": [
      "21   Raj   ('Raj', 24)   True   ('Raj', 21)\n"
     ]
    }
   ],
   "source": [
    "from datetime import date\n",
    "class m:\n",
    "    def __init__(self,n,a):\n",
    "        self.n=n\n",
    "        self.a=a\n",
    "    @staticmethod\n",
    "    def fby(n,y):\n",
    "        return (n,(date.today().year-y))\n",
    "    @staticmethod\n",
    "    def ge(n):\n",
    "        return (n>18)\n",
    "p=m(\"Raj\",21)\n",
    "\n",
    "p1=p.fby(\"Raj\",1998)\n",
    "\n",
    "print(p.a,\" \",p.n,\" \",p.fby((p.n),((p.a)*95)),\" \",p.ge(p.a),\" \",p1)"
   ]
  },
  {
   "cell_type": "code",
   "execution_count": 7,
   "metadata": {},
   "outputs": [
    {
     "name": "stdout",
     "output_type": "stream",
     "text": [
      "21   Raj   ('Raj', 24)   True\n",
      "25   Raj   ('Raj', 24)   True\n"
     ]
    }
   ],
   "source": [
    "from datetime import date\n",
    "class m:\n",
    "    def __init__(self,n,a=25):\n",
    "        self.n=n\n",
    "        self.a=a\n",
    "    @staticmethod\n",
    "    def fby(n,y):\n",
    "        return (n,(date.today().year-y))\n",
    "    @staticmethod\n",
    "    def ge(n):\n",
    "        return (n>=18)\n",
    "p=m(\"Raj\",21)\n",
    "\n",
    "p1=p.fby(\"Raj\",1998)\n",
    "print(p.a,\" \",p.n,\" \",p.fby((p.n),((p.a)*95)),\" \",p.ge(p.a))\n",
    "\n",
    "pm=m(\"Raj\")\n",
    "print(pm.a,\" \",pm.n,\" \",pm.fby((pm.n),((p.a)*95)),\" \",pm.ge(18))\n"
   ]
  },
  {
   "cell_type": "code",
   "execution_count": 53,
   "metadata": {},
   "outputs": [
    {
     "name": "stdout",
     "output_type": "stream",
     "text": [
      "[1, 44, 4, 66, 22]\n"
     ]
    }
   ],
   "source": [
    "def f(x):\n",
    "    x[1]=44\n",
    "p=[1,20,4,66,22]\n",
    "f(p)\n",
    "print(p)"
   ]
  },
  {
   "cell_type": "code",
   "execution_count": 54,
   "metadata": {},
   "outputs": [
    {
     "name": "stdout",
     "output_type": "stream",
     "text": [
      "1 2\n"
     ]
    }
   ],
   "source": [
    "def s(a,b):\n",
    "    print(a,b)\n",
    "s(1,2)"
   ]
  },
  {
   "cell_type": "code",
   "execution_count": 55,
   "metadata": {},
   "outputs": [
    {
     "name": "stdout",
     "output_type": "stream",
     "text": [
      "1 2 34 4.5 34 5 \n"
     ]
    }
   ],
   "source": [
    "def m(*v):\n",
    "    for a in v:\n",
    "        print(a,end=\" \")\n",
    "    print()\n",
    "m(1,2,34,4.5,34,5)"
   ]
  },
  {
   "cell_type": "code",
   "execution_count": 67,
   "metadata": {},
   "outputs": [
    {
     "name": "stdout",
     "output_type": "stream",
     "text": [
      "2 2 34 543 3\n"
     ]
    }
   ],
   "source": [
    "def ch(a):\n",
    "    def w(b):\n",
    "        def x(c):\n",
    "            def y(d):\n",
    "                def z(e):\n",
    "                    print(a,b,c,d,e)\n",
    "                return z\n",
    "            return y\n",
    "        return x\n",
    "    return w\n",
    "(ch(2)(2)(34)(543)(3))\n",
    "            "
   ]
  },
  {
   "cell_type": "code",
   "execution_count": 75,
   "metadata": {},
   "outputs": [
    {
     "data": {
      "text/plain": [
       "1853674.5406824148"
      ]
     },
     "execution_count": 75,
     "metadata": {},
     "output_type": "execute_result"
    }
   ],
   "source": [
    "((565 *1000)*100)/30.48"
   ]
  },
  {
   "cell_type": "code",
   "execution_count": 79,
   "metadata": {},
   "outputs": [
    {
     "name": "stdout",
     "output_type": "stream",
     "text": [
      "604800\n"
     ]
    }
   ],
   "source": [
    "def hr(s,h):\n",
    "    def b(x):\n",
    "        return s(h(x))\n",
    "    return b\n",
    "def dh(dur):\n",
    "    return dur*24\n",
    "def ms(dur):\n",
    "    return dur*60*60\n",
    "o=hr(ms,dh)\n",
    "print(o(7))"
   ]
  },
  {
   "cell_type": "code",
   "execution_count": null,
   "metadata": {},
   "outputs": [],
   "source": []
  }
 ],
 "metadata": {
  "kernelspec": {
   "display_name": "Python 3",
   "language": "python",
   "name": "python3"
  },
  "language_info": {
   "codemirror_mode": {
    "name": "ipython",
    "version": 3
   },
   "file_extension": ".py",
   "mimetype": "text/x-python",
   "name": "python",
   "nbconvert_exporter": "python",
   "pygments_lexer": "ipython3",
   "version": "3.5.2"
  }
 },
 "nbformat": 4,
 "nbformat_minor": 2
}
