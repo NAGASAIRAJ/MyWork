{
 "cells": [
  {
   "cell_type": "markdown",
   "metadata": {},
   "source": [
    "# TASK 2 – Python Programming Solutions.ipynb"
   ]
  },
  {
   "cell_type": "markdown",
   "metadata": {},
   "source": [
    "## 1st"
   ]
  },
  {
   "cell_type": "code",
   "execution_count": 6,
   "metadata": {},
   "outputs": [
    {
     "name": "stdout",
     "output_type": "stream",
     "text": [
      "Enter Number : 9\n",
      "11106\n",
      "\n"
     ]
    }
   ],
   "source": [
    "def f():\n",
    "    (x,c,str1)=( (int(input(\"Enter Number : \"))),0,\"\")\n",
    "    for i in range(1,5):\n",
    "        for j in range(1,i+1):\n",
    "            str1=str1+str(x)\n",
    "        c+=int(str1)\n",
    "        str1=\"\"\n",
    "    print(c)\n",
    "    print()\n",
    "f()"
   ]
  },
  {
   "cell_type": "code",
   "execution_count": 7,
   "metadata": {},
   "outputs": [
    {
     "name": "stdout",
     "output_type": "stream",
     "text": [
      "9\n",
      "11106\n"
     ]
    }
   ],
   "source": [
    "a=input()\n",
    "print(int(a)+int(a*2)+int(a*3)+int(a*4))"
   ]
  },
  {
   "cell_type": "code",
   "execution_count": 8,
   "metadata": {},
   "outputs": [
    {
     "name": "stdout",
     "output_type": "stream",
     "text": [
      "9\n",
      "11106\n"
     ]
    }
   ],
   "source": [
    "a= input()\n",
    "n1 = int(\"%s\" % a)\n",
    "n2 = int(\"%s%s\" % (a,a))\n",
    "n3 = int(\"%s%s%s\" % (a,a,a))\n",
    "n4 = int(\"%s%s%s%s\" % (a,a,a,a))\n",
    "\n",
    "print(n1+n2+n3+n4)"
   ]
  },
  {
   "cell_type": "code",
   "execution_count": 9,
   "metadata": {},
   "outputs": [
    {
     "name": "stdout",
     "output_type": "stream",
     "text": [
      "9\n",
      "11106\n"
     ]
    }
   ],
   "source": [
    "a=input()\n",
    "t,tm=0,\"\"\n",
    "for i in range(4):\n",
    "    tm=tm+(a)\n",
    "    t+=int(tm)\n",
    "print(t)"
   ]
  },
  {
   "cell_type": "markdown",
   "metadata": {},
   "source": [
    "## 2nd"
   ]
  },
  {
   "cell_type": "code",
   "execution_count": 10,
   "metadata": {},
   "outputs": [
    {
     "name": "stdout",
     "output_type": "stream",
     "text": [
      "Enter numbers : 1,2,3,4,5,6,7,8,9\n",
      "[1, 9, 25, 49, 81]\n"
     ]
    }
   ],
   "source": [
    "def f1():\n",
    "    s=(input(\"Enter numbers : \"))\n",
    "    ls=s.split(',')\n",
    "    l=list(ls)\n",
    "    li=[((int(l[x]))**2) for x in range(len(l))  if (int(l[x]))%2!=0]\n",
    "    print(li)\n",
    "f1()\n",
    "    "
   ]
  },
  {
   "cell_type": "markdown",
   "metadata": {},
   "source": [
    "## 3rd"
   ]
  },
  {
   "cell_type": "code",
   "execution_count": 11,
   "metadata": {},
   "outputs": [
    {
     "name": "stdout",
     "output_type": "stream",
     "text": [
      "Enter : D 300\n",
      "Enter : D 300\n",
      "Enter : W 200\n",
      "Enter : D 100\n",
      "Enter : \n",
      "500 is your Remaining Balance\n"
     ]
    }
   ],
   "source": [
    "def f2():\n",
    "    (t,li)=(0,[])\n",
    "    while(True):\n",
    "        (x)=((input(\"Enter : \")))\n",
    "        if not x:\n",
    "            break\n",
    "        else:\n",
    "            l=tuple(x.split(\" \"))\n",
    "            li.append(l)\n",
    "    for i in li:\n",
    "        if i[0]=='D':\n",
    "            t+=int(i[1])\n",
    "        elif(i[0]=='W'):\n",
    "            t-=int(i[1])\n",
    "        else:\n",
    "            continue\n",
    "    if(t>0):\n",
    "        print(t,\"is your Remaining Balance\")\n",
    "    else:\n",
    "        print(\"Insufficient Balance\")\n",
    "        \n",
    "f2()    "
   ]
  },
  {
   "cell_type": "code",
   "execution_count": 12,
   "metadata": {},
   "outputs": [
    {
     "name": "stdout",
     "output_type": "stream",
     "text": [
      "\n",
      "0\n"
     ]
    }
   ],
   "source": [
    "total = 0\n",
    "while True:\n",
    "    s = input().split()\n",
    "    if not s:\n",
    "        break\n",
    "    cm,num = map(str,s)\n",
    "    \n",
    "    if cm == \"D\":\n",
    "        total += int(num)\n",
    "    if cm == \"W\":\n",
    "        total -= int(num)\n",
    "    \n",
    "print(total)    "
   ]
  },
  {
   "cell_type": "markdown",
   "metadata": {},
   "source": [
    "## 4th"
   ]
  },
  {
   "cell_type": "code",
   "execution_count": 13,
   "metadata": {},
   "outputs": [
    {
     "name": "stdout",
     "output_type": "stream",
     "text": [
      "Enter : ABd1234@1,a F1#,2w3E*,2We3345\n",
      "ABd1234@1\n"
     ]
    }
   ],
   "source": [
    "def f3():\n",
    "    (s,b,p)=((input(\"Enter : \")),True,['@','#','$','*'])\n",
    "    l=s.split(\",\")\n",
    "    li=list(l)\n",
    "    for i in range(0,len(li)):\n",
    "        if(len(li[i])<6 or len(li[i])>12):\n",
    "            b=False\n",
    "        if (not any(char.isdigit() for char in li[i])):\n",
    "            b=False       \n",
    "        if not any(char.isupper() for char in li[i]):\n",
    "            b=False\n",
    "        if not any(char.islower() for char in li[i]):\n",
    "            b=False\n",
    "        if not any(char in p for char in li[i]):\n",
    "            b=False\n",
    "        if(b):\n",
    "            print(li[i])\n",
    "f3()"
   ]
  },
  {
   "cell_type": "code",
   "execution_count": 14,
   "metadata": {},
   "outputs": [
    {
     "name": "stdout",
     "output_type": "stream",
     "text": [
      "Enter : ABd1234@1,a F1#,2w3E*,2We3345\n",
      "ABd1234@1\n"
     ]
    }
   ],
   "source": [
    "def f33():\n",
    "    (s,b,p)=((input(\"Enter : \")),True,['@','#','$','*'])\n",
    "    l=s.split(\",\")\n",
    "    li=list(l)\n",
    "    for i in range(0,len(li)):\n",
    "        if( (len(li[i])<6) or (len(li[i])>12) or ((not any(char.isdigit() for char in li[i])) and (not any(char.isupper() for char in li[i])) and (not any(char.islower() for char in li[i])) and (not any(char in p for char in li[i]))) ):     \n",
    "            b=False\n",
    "        if(b):\n",
    "            print(li[i])\n",
    "f33()"
   ]
  },
  {
   "cell_type": "markdown",
   "metadata": {},
   "source": [
    "## 5th"
   ]
  },
  {
   "cell_type": "code",
   "execution_count": 15,
   "metadata": {},
   "outputs": [
    {
     "name": "stdout",
     "output_type": "stream",
     "text": [
      "Enter Data : Tom,19,80\n",
      "Enter Data : John,20,90\n",
      "Enter Data : Jony,17,91\n",
      "Enter Data : Jony,17,93\n",
      "Enter Data : Json,21,85\n",
      "Enter Data : \n",
      "[('John', '20', '90'), ('Jony', '17', '91'), ('Jony', '17', '93'), ('Json', '21', '85'), ('Tom', '19', '80')]\n"
     ]
    }
   ],
   "source": [
    "def f4():\n",
    "    li=()\n",
    "    lii=[]\n",
    "    while True: \n",
    "        s=input(\"Enter Data : \")\n",
    "        if not s:\n",
    "            break\n",
    "        else: \n",
    "            l=s.split(\",\")\n",
    "            li=tuple(l)\n",
    "            lii.append(li)\n",
    "    print(list(sorted(lii)))\n",
    "f4()"
   ]
  }
 ],
 "metadata": {
  "kernelspec": {
   "display_name": "Python 3",
   "language": "python",
   "name": "python3"
  },
  "language_info": {
   "codemirror_mode": {
    "name": "ipython",
    "version": 3
   },
   "file_extension": ".py",
   "mimetype": "text/x-python",
   "name": "python",
   "nbconvert_exporter": "python",
   "pygments_lexer": "ipython3",
   "version": "3.6.8"
  }
 },
 "nbformat": 4,
 "nbformat_minor": 2
}
