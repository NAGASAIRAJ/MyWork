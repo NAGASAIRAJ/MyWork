{
 "cells": [
  {
   "cell_type": "code",
   "execution_count": 1,
   "metadata": {},
   "outputs": [
    {
     "name": "stdout",
     "output_type": "stream",
     "text": [
      " ___________\n",
      "| X | O | X |\n",
      "|---|---|---|\n",
      "| O | X | O |\n",
      "|---|---|---|\n",
      "| X | O | X |\n",
      "|___|___|___|\n"
     ]
    }
   ],
   "source": [
    "def design():\n",
    "    l=['#','X','O','X','O','X','O','X','O','X']\n",
    "    \n",
    "    print(\" ___________\")\n",
    "    print(\"| {} | {} | {} |\".format(l[1],l[2],l[3]))\n",
    "    print(\"|---|---|---|\")\n",
    "    print(\"| {} | {} | {} |\".format(l[4],l[5],l[6]))\n",
    "    print(\"|---|---|---|\")\n",
    "    print(\"| {} | {} | {} |\".format(l[7],l[8],l[9]))\n",
    "    print(\"|___|___|___|\")\n",
    "design()"
   ]
  },
  {
   "cell_type": "code",
   "execution_count": null,
   "metadata": {},
   "outputs": [],
   "source": [
    "def play():\n",
    "    while(True):\n",
    "        print(\"Are you ready to play the game? : \")\n",
    "        print(\"         Input here : (y/n)       \")\n",
    "        i1=input()\n",
    "        if(i1=='y'):\n",
    "            print(\"let's play the game\")\n",
    "            break\n",
    "        else:\n",
    "            print(\"Do you want to quit the Game ?\")\n",
    "            print(\"  Enter your choice : (y/n)  \")\n",
    "            i2=input()\n",
    "            if(i2=='y'):\n",
    "                break\n",
    "            else:\n",
    "                play()\n",
    "play()"
   ]
  },
  {
   "cell_type": "code",
   "execution_count": null,
   "metadata": {},
   "outputs": [
    {
     "name": "stdout",
     "output_type": "stream",
     "text": [
      " ___________\n",
      "|   |   |   |\n",
      "|---|---|---|\n",
      "|   |   |   |\n",
      "|---|---|---|\n",
      "|   |   |   |\n",
      "|___|___|___|\n"
     ]
    },
    {
     "name": "stdin",
     "output_type": "stream",
     "text": [
      "Enter 'X' or 'O' :  X\n",
      " 5\n"
     ]
    },
    {
     "name": "stdout",
     "output_type": "stream",
     "text": [
      " ___________\n",
      "|   |   |   |\n",
      "|---|---|---|\n",
      "|   |   | X |\n",
      "|---|---|---|\n",
      "|   |   |   |\n",
      "|___|___|___|\n",
      "[' ', ' ', ' ', ' ', ' ', 'X', ' ', ' ', ' '] "
     ]
    },
    {
     "name": "stdin",
     "output_type": "stream",
     "text": [
      "Enter 'X' or 'O' :  O\n",
      " 8\n"
     ]
    },
    {
     "name": "stdout",
     "output_type": "stream",
     "text": [
      " ___________\n",
      "|   |   |   |\n",
      "|---|---|---|\n",
      "|   |   | X |\n",
      "|---|---|---|\n",
      "|   |   | O |\n",
      "|___|___|___|\n",
      "[' ', ' ', ' ', ' ', ' ', 'X', ' ', ' ', 'O'] "
     ]
    },
    {
     "name": "stdin",
     "output_type": "stream",
     "text": [
      "Enter 'X' or 'O' :  X\n",
      " 4\n"
     ]
    },
    {
     "name": "stdout",
     "output_type": "stream",
     "text": [
      " ___________\n",
      "|   |   |   |\n",
      "|---|---|---|\n",
      "|   | X | X |\n",
      "|---|---|---|\n",
      "|   |   | O |\n",
      "|___|___|___|\n",
      "[' ', ' ', ' ', ' ', 'X', 'X', ' ', ' ', 'O'] "
     ]
    },
    {
     "name": "stdin",
     "output_type": "stream",
     "text": [
      "Enter 'X' or 'O' :  O\n",
      " 3\n"
     ]
    },
    {
     "name": "stdout",
     "output_type": "stream",
     "text": [
      " ___________\n",
      "|   |   |   |\n",
      "|---|---|---|\n",
      "| O | X | X |\n",
      "|---|---|---|\n",
      "|   |   | O |\n",
      "|___|___|___|\n",
      "[' ', ' ', ' ', 'O', 'X', 'X', ' ', ' ', 'O'] "
     ]
    },
    {
     "name": "stdin",
     "output_type": "stream",
     "text": [
      "Enter 'X' or 'O' :  X\n",
      " 0\n"
     ]
    },
    {
     "name": "stdout",
     "output_type": "stream",
     "text": [
      " ___________\n",
      "| X |   |   |\n",
      "|---|---|---|\n",
      "| O | X | X |\n",
      "|---|---|---|\n",
      "|   |   | O |\n",
      "|___|___|___|\n",
      "['X', ' ', ' ', 'O', 'X', 'X', ' ', ' ', 'O'] "
     ]
    },
    {
     "name": "stdin",
     "output_type": "stream",
     "text": [
      "Enter 'X' or 'O' :  O\n",
      " 1\n"
     ]
    },
    {
     "name": "stdout",
     "output_type": "stream",
     "text": [
      " ___________\n",
      "| X | O |   |\n",
      "|---|---|---|\n",
      "| O | X | X |\n",
      "|---|---|---|\n",
      "|   |   | O |\n",
      "|___|___|___|\n",
      "['X', 'O', ' ', 'O', 'X', 'X', ' ', ' ', 'O'] "
     ]
    },
    {
     "name": "stdin",
     "output_type": "stream",
     "text": [
      "Enter 'X' or 'O' :  X\n",
      " 2\n"
     ]
    },
    {
     "name": "stdout",
     "output_type": "stream",
     "text": [
      " ___________\n",
      "| X | O | X |\n",
      "|---|---|---|\n",
      "| O | X | X |\n",
      "|---|---|---|\n",
      "|   |   | O |\n",
      "|___|___|___|\n",
      "['X', 'O', 'X', 'O', 'X', 'X', ' ', ' ', 'O'] "
     ]
    },
    {
     "name": "stdin",
     "output_type": "stream",
     "text": [
      "Enter 'X' or 'O' :  O\n",
      " 6\n"
     ]
    },
    {
     "name": "stdout",
     "output_type": "stream",
     "text": [
      " ___________\n",
      "| X | O | X |\n",
      "|---|---|---|\n",
      "| O | X | X |\n",
      "|---|---|---|\n",
      "| O |   | O |\n",
      "|___|___|___|\n",
      "['X', 'O', 'X', 'O', 'X', 'X', 'O', ' ', 'O'] "
     ]
    },
    {
     "name": "stdin",
     "output_type": "stream",
     "text": [
      "Enter 'X' or 'O' :  X\n",
      " 7\n"
     ]
    },
    {
     "name": "stdout",
     "output_type": "stream",
     "text": [
      " ___________\n",
      "| X | O | X |\n",
      "|---|---|---|\n",
      "| O | X | X |\n",
      "|---|---|---|\n",
      "| O | X | O |\n",
      "|___|___|___|\n",
      "['X', 'O', 'X', 'O', 'X', 'X', 'O', 'X', 'O']  ___________\n",
      "|   |   |   |\n",
      "|---|---|---|\n",
      "|   |   |   |\n",
      "|---|---|---|\n",
      "|   |   |   |\n",
      "|___|___|___|\n"
     ]
    }
   ],
   "source": [
    "def game():\n",
    "    while(True):\n",
    "        print(\" ___________\")\n",
    "        print(\"|   |   |   |\")\n",
    "        print(\"|---|---|---|\")\n",
    "        print(\"|   |   |   |\")\n",
    "        print(\"|---|---|---|\")\n",
    "        print(\"|   |   |   |\")\n",
    "        print(\"|___|___|___|\")\n",
    "        l=([' ',' ',' ',' ',' ',' ',' ',' ',' '])\n",
    "        for i in range(0,9): \n",
    "            i1=input(\"Enter 'X' or 'O' : \")\n",
    "            n,c=(int(input()),0)\n",
    "            if(i1=='X' and c!=len(l)):\n",
    "                l[n]=i1\n",
    "                print(\" ___________\")\n",
    "                print(\"| {} | {} | {} |\".format(l[0],l[1],l[2]))\n",
    "                print(\"|---|---|---|\")\n",
    "                print(\"| {} | {} | {} |\".format(l[3],l[4],l[5]))\n",
    "                print(\"|---|---|---|\")\n",
    "                print(\"| {} | {} | {} |\".format(l[6],l[7],l[8]))\n",
    "                print(\"|___|___|___|\")\n",
    "                c+=1\n",
    "                print(l,end=\" \")   \n",
    "            elif(i1=='O' and c!=len(l)):\n",
    "                l[n]=i1\n",
    "                c+=1\n",
    "                print(\" ___________\")\n",
    "                print(\"| {} | {} | {} |\".format(l[0],l[1],l[2]))\n",
    "                print(\"|---|---|---|\")\n",
    "                print(\"| {} | {} | {} |\".format(l[3],l[4],l[5]))\n",
    "                print(\"|---|---|---|\")\n",
    "                print(\"| {} | {} | {} |\".format(l[6],l[7],l[8]))\n",
    "                print(\"|___|___|___|\")\n",
    "                print(l,end=\" \",'\\n')\n",
    "            elif (n>=9):\n",
    "                continue\n",
    "            elif(c==9):\n",
    "                break\n",
    "            elif(not i1):\n",
    "                continue\n",
    "game()"
   ]
  },
  {
   "cell_type": "code",
   "execution_count": null,
   "metadata": {},
   "outputs": [],
   "source": [
    "print(\" ___________\")\n",
    "    print(\"| {} | {} | {} |\".format(l[1],l[2],l[3]))\n",
    "    print(\"|---|---|---|\")\n",
    "    print(\"| {} | {} | {} |\".format(l[4],l[5],l[6]))\n",
    "    print(\"|---|---|---|\")\n",
    "    print(\"| {} | {} | {} |\".format(l[7],l[8],l[9]))\n",
    "    print(\"|___|___|___|\")"
   ]
  },
  {
   "cell_type": "code",
   "execution_count": null,
   "metadata": {},
   "outputs": [],
   "source": [
    "lll=['','','','','','','','','']"
   ]
  },
  {
   "cell_type": "code",
   "execution_count": null,
   "metadata": {},
   "outputs": [],
   "source": [
    "lll[4]='X'"
   ]
  },
  {
   "cell_type": "code",
   "execution_count": null,
   "metadata": {},
   "outputs": [],
   "source": [
    "len(lll)"
   ]
  },
  {
   "cell_type": "code",
   "execution_count": null,
   "metadata": {},
   "outputs": [],
   "source": []
  },
  {
   "cell_type": "code",
   "execution_count": null,
   "metadata": {},
   "outputs": [],
   "source": []
  },
  {
   "cell_type": "code",
   "execution_count": null,
   "metadata": {},
   "outputs": [],
   "source": []
  },
  {
   "cell_type": "code",
   "execution_count": null,
   "metadata": {},
   "outputs": [],
   "source": []
  },
  {
   "cell_type": "code",
   "execution_count": null,
   "metadata": {},
   "outputs": [],
   "source": []
  },
  {
   "cell_type": "code",
   "execution_count": null,
   "metadata": {},
   "outputs": [],
   "source": []
  },
  {
   "cell_type": "code",
   "execution_count": null,
   "metadata": {},
   "outputs": [],
   "source": []
  },
  {
   "cell_type": "code",
   "execution_count": null,
   "metadata": {},
   "outputs": [],
   "source": []
  },
  {
   "cell_type": "code",
   "execution_count": null,
   "metadata": {},
   "outputs": [],
   "source": []
  },
  {
   "cell_type": "code",
   "execution_count": null,
   "metadata": {},
   "outputs": [],
   "source": []
  },
  {
   "cell_type": "code",
   "execution_count": null,
   "metadata": {},
   "outputs": [],
   "source": []
  },
  {
   "cell_type": "code",
   "execution_count": null,
   "metadata": {},
   "outputs": [],
   "source": []
  },
  {
   "cell_type": "code",
   "execution_count": null,
   "metadata": {},
   "outputs": [],
   "source": []
  },
  {
   "cell_type": "code",
   "execution_count": null,
   "metadata": {},
   "outputs": [],
   "source": []
  },
  {
   "cell_type": "code",
   "execution_count": null,
   "metadata": {},
   "outputs": [],
   "source": []
  },
  {
   "cell_type": "code",
   "execution_count": null,
   "metadata": {},
   "outputs": [],
   "source": []
  },
  {
   "cell_type": "code",
   "execution_count": null,
   "metadata": {},
   "outputs": [],
   "source": []
  },
  {
   "cell_type": "code",
   "execution_count": null,
   "metadata": {},
   "outputs": [],
   "source": []
  },
  {
   "cell_type": "code",
   "execution_count": null,
   "metadata": {},
   "outputs": [],
   "source": []
  },
  {
   "cell_type": "code",
   "execution_count": null,
   "metadata": {},
   "outputs": [],
   "source": []
  }
 ],
 "metadata": {
  "kernelspec": {
   "display_name": "Python 3",
   "language": "python",
   "name": "python3"
  },
  "language_info": {
   "codemirror_mode": {
    "name": "ipython",
    "version": 3
   },
   "file_extension": ".py",
   "mimetype": "text/x-python",
   "name": "python",
   "nbconvert_exporter": "python",
   "pygments_lexer": "ipython3",
   "version": "3.6.8"
  }
 },
 "nbformat": 4,
 "nbformat_minor": 2
}
