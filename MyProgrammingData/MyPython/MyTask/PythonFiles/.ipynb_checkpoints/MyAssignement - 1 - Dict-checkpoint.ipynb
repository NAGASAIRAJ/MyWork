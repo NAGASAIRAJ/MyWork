{
 "cells": [
  {
   "cell_type": "markdown",
   "metadata": {},
   "source": [
    "## Dictionary"
   ]
  },
  {
   "cell_type": "code",
   "execution_count": 29,
   "metadata": {},
   "outputs": [
    {
     "name": "stdout",
     "output_type": "stream",
     "text": [
      "{} \n",
      "\n",
      "{1: 'Sai', 2: 'is', 3: 'in', 4: 'Thrymr'} \n",
      "\n",
      "{'N': 'Raj', 1: [(1, 2, 3, 4)]} \n",
      "\n",
      "{1: 'Sai', 2: 'is', 3: {'in': 'Thrymr', 'Software': 'Developer', 'using': 'Python'}} \n",
      "\n",
      "{1: 'Sai', 2: 'is', 3: 'in', 4: 'Thrymr', 0: 'fr'} \n",
      "\n",
      "{'N': 'Raj', 1: 'Sai', 2: 'is', 3: {'in': 'Thrymr', 'Software': 'Developer', 'using': 'Python'}} \n",
      "\n",
      "dict_items([(1, 'Sai'), (2, 'is'), (3, 'in'), (4, 'Thrymr'), (0, 'fr'), ('l', (2, 5, 6))]) \n",
      "\n",
      "{'A': 'Geeks', 'B': 'For', 'C': 'Geeks'} \n",
      "\n",
      "{'A': 'Geeks', 'B': 'For', 'C': 'Geeks'} \n",
      "\n",
      "The newly created dict with 1 as value : {'b': 1, 'd': 1, 'e': 1, 'a': 1, 'c': 1}\n",
      "{1: 'Sai', 2: 'is', 3: 'in', 4: 'Thrymr', 0: 'fr', 'l': (2, 5, 6)} \n",
      "\n",
      "Sai \n",
      "\n",
      "dict_values(['Sai', 'is', 'in', 'Thrymr', 'fr', (2, 5, 6)]) \n",
      "\n",
      "in \n",
      "\n",
      "{1: 'Sai', 2: 'is', 3: 'in', 4: 'Thrymr', 0: 'fr', 'l': (2, 5, 6)} \n",
      "\n",
      "6 \n",
      "\n",
      "is \n",
      "\n",
      "{1: 'Sai', 3: 'in', 4: 'Thrymr', 0: 'fr'} \n",
      "\n",
      "{}\n"
     ]
    }
   ],
   "source": [
    "d={}\n",
    "print(d,'\\n')\n",
    "\n",
    "d={1:'Sai',2:\"is\",3:\"in\",4:'Thrymr'}\n",
    "print(d,'\\n')\n",
    "\n",
    "d1=dict({'N':\"Raj\",1:[(1,2,3,4)]})\n",
    "print(d1,'\\n')\n",
    "\n",
    "d2 = {1: 'Sai', 2: 'is',  3:{'in' : 'Thrymr', 'Software' : 'Developer', 'using' : 'Python'}} \n",
    "print(d2,'\\n')  \n",
    "\n",
    "d[0]=\"fr\"\n",
    "print(d,'\\n')\n",
    "d1.update(d2)\n",
    "print (d1,'\\n')\n",
    "d['l']=2,5,6\n",
    "Dictionary1 = { 'A': 'Geeks', 'B': 'For', 'C': 'Geeks'} ;print(d.items(),'\\n')\n",
    "Third_value = Dictionary1.setdefault('C') \n",
    "print(Dictionary1,'\\n') \n",
    "Third_value = Dictionary1.setdefault('C',\"good\") \n",
    "print(Dictionary1,'\\n') \n",
    "seq = { 'a', 'b', 'c', 'd', 'e' } \n",
    "\n",
    "res_dict2 = dict.fromkeys(seq, 1) \n",
    "print (\"The newly created dict with 1 as value : \" + str(res_dict2))  \n",
    "print(d,'\\n');print(d.get(1),'\\n');print(d.values(),'\\n')\n",
    "\n",
    "print(d[3],'\\n');d=d.copy();print(d,'\\n');print(len(d),'\\n')\n",
    "\n",
    "print(d.pop([2][0]),'\\n');d.popitem();print(d,'\\n');d.clear();print(d)"
   ]
  },
  {
   "cell_type": "code",
   "execution_count": null,
   "metadata": {},
   "outputs": [],
   "source": []
  },
  {
   "cell_type": "code",
   "execution_count": null,
   "metadata": {},
   "outputs": [],
   "source": []
  }
 ],
 "metadata": {
  "kernelspec": {
   "display_name": "Python 3",
   "language": "python",
   "name": "python3"
  },
  "language_info": {
   "codemirror_mode": {
    "name": "ipython",
    "version": 3
   },
   "file_extension": ".py",
   "mimetype": "text/x-python",
   "name": "python",
   "nbconvert_exporter": "python",
   "pygments_lexer": "ipython3",
   "version": "3.7.3"
  }
 },
 "nbformat": 4,
 "nbformat_minor": 2
}
