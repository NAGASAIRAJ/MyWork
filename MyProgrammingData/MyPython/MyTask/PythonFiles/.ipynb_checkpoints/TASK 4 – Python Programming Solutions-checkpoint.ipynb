{
 "cells": [
  {
   "cell_type": "markdown",
   "metadata": {},
   "source": [
    "# TASK 4 – Python Programming Solutions.ipynb"
   ]
  },
  {
   "cell_type": "markdown",
   "metadata": {},
   "source": [
    "## Task - 4"
   ]
  },
  {
   "cell_type": "code",
   "execution_count": 105,
   "metadata": {},
   "outputs": [
    {
     "name": "stdin",
     "output_type": "stream",
     "text": [
      " 5\n",
      " 1 2 3 6 5 4 4 2 5 3 6 1 6 5 3 2 4 1 2 5 1 4 3 6 8 4 3 1 5 6 2\n"
     ]
    },
    {
     "name": "stdout",
     "output_type": "stream",
     "text": [
      "8\n"
     ]
    }
   ],
   "source": [
    "def h():\n",
    "    lll,ll,co,n,s=0,0,0,(int(input())),input()\n",
    "    ss=s.split(' ')\n",
    "    l=list(ss)\n",
    "    sss=(set(l))\n",
    "    for i in range(len(l)):\n",
    "        ll+=int(l[i])\n",
    "    for j in sss:\n",
    "        lll+=(int(j)*n)\n",
    "    print((lll-ll)//(n-1))\n",
    "h()"
   ]
  },
  {
   "cell_type": "code",
   "execution_count": 10,
   "metadata": {},
   "outputs": [
    {
     "name": "stdin",
     "output_type": "stream",
     "text": [
      "enter the size of each group: 5\n",
      "enter room numbers separated by commas: 1 2 3 6 5 4 4 2 5 3 6 1 6 5 3 2 4 1 2 5 1 4 3 6 8 4 3 1 5 6 2\n"
     ]
    },
    {
     "name": "stdout",
     "output_type": "stream",
     "text": [
      "captains room no is 8\n"
     ]
    }
   ],
   "source": [
    "\n",
    "n=int(input(\"enter the size of each group:\"))\n",
    "str=input(\"enter room numbers separated by commas:\")\n",
    "room=list(map(int,str.split(\" \"))) \n",
    "for i in room: \n",
    "    if room.count(i)==1: \n",
    "        print(\"captains room no is\",i)"
   ]
  },
  {
   "cell_type": "code",
   "execution_count": 22,
   "metadata": {},
   "outputs": [
    {
     "name": "stdin",
     "output_type": "stream",
     "text": [
      " 5\n",
      " 1 2 3 6 5 4 4 2 5 3 6 1 6 5 3 2 4 1 2 5 1 4 3 6 8 4 3 1 5 6 2\n"
     ]
    },
    {
     "name": "stdout",
     "output_type": "stream",
     "text": [
      "8\n"
     ]
    }
   ],
   "source": [
    "n,room=int(input()),list(map(int,input().split(\" \"))) \n",
    "print(sum([i for i in room if room.count(i)==1]))"
   ]
  },
  {
   "cell_type": "code",
   "execution_count": 108,
   "metadata": {},
   "outputs": [
    {
     "name": "stdin",
     "output_type": "stream",
     "text": [
      " 5\n",
      " 1 2 3 6 5 4 4 2 5 3 6 1 6 5 3 2 4 1 2 5 1 4 3 6 8 4 3 1 5 6 2\n"
     ]
    },
    {
     "name": "stdout",
     "output_type": "stream",
     "text": [
      "8\n"
     ]
    }
   ],
   "source": [
    "k,arr = int(input()),list(map(int, input().split()))\n",
    "myset = set(arr)\n",
    "print(((sum(myset)*k)-(sum(arr)))//(k-1))"
   ]
  },
  {
   "cell_type": "code",
   "execution_count": 80,
   "metadata": {},
   "outputs": [
    {
     "name": "stdin",
     "output_type": "stream",
     "text": [
      " 5\n",
      " 1 2 3 6 5 4 4 2 5 3 6 1 6 5 3 2 4 1 2 5 1 4 3 6 8 4 3 1 5 6 2\n"
     ]
    },
    {
     "name": "stdout",
     "output_type": "stream",
     "text": [
      "8\n"
     ]
    }
   ],
   "source": [
    "def h():\n",
    "    co,n,s=0,(int(input())),input()\n",
    "    ss=s.split(' ')\n",
    "    l=list(ss)\n",
    "    se=set(l)\n",
    "    for i in range(len(l)):\n",
    "        if(l.count(l[i])==n):\n",
    "            continue\n",
    "        else:\n",
    "            co+=(int(l[i]))\n",
    "    \n",
    "    print(co)\n",
    "h()"
   ]
  },
  {
   "cell_type": "code",
   "execution_count": 98,
   "metadata": {},
   "outputs": [
    {
     "name": "stdin",
     "output_type": "stream",
     "text": [
      " 5\n",
      " 1 2 3 6 5 4 4 2 5 3 6 1 6 5 3 2 4 1 2 5 1 4 3 6 8 4 3 1 5 6 2\n"
     ]
    },
    {
     "name": "stdout",
     "output_type": "stream",
     "text": [
      "8\n"
     ]
    }
   ],
   "source": [
    "def h():\n",
    "    co,n,s=0,(int(input())),input()\n",
    "    ss=s.split(' ')\n",
    "    l=list(ss)\n",
    "    print([int(l[i]) for i in range(len(l)) if ((l.count(l[i]))!=n)][0])\n",
    "h()"
   ]
  },
  {
   "cell_type": "markdown",
   "metadata": {},
   "source": [
    "## 4th_S"
   ]
  },
  {
   "cell_type": "code",
   "execution_count": 167,
   "metadata": {},
   "outputs": [
    {
     "name": "stdin",
     "output_type": "stream",
     "text": [
      " 5 2\n",
      " 0 4\n"
     ]
    },
    {
     "name": "stdout",
     "output_type": "stream",
     "text": [
      "2\n"
     ]
    }
   ],
   "source": [
    "import math\n",
    "def h():\n",
    "    l,m,a=[],(list(map(int,input().split(' ')))),sorted(list(map(int,input().split(' '))))\n",
    "    if(len(a)==m[1]):\n",
    "        ll=[o for o in range(m[0])]\n",
    "        for x in range(0,m[0]):\n",
    "            if x in a:\n",
    "                l.append(0)\n",
    "            else:\n",
    "                l.append(round(min((math.fabs(ll[a[0]]-x)),(math.fabs((ll[a[1]])-x)))))\n",
    "        print(max(l))\n",
    "    else:\n",
    "        print(\"Enter Values Correctly.!!\")\n",
    "h()"
   ]
  },
  {
   "cell_type": "code",
   "execution_count": 171,
   "metadata": {},
   "outputs": [
    {
     "name": "stdin",
     "output_type": "stream",
     "text": [
      " 5 2\n",
      " 0 4\n"
     ]
    },
    {
     "name": "stdout",
     "output_type": "stream",
     "text": [
      "2\n"
     ]
    }
   ],
   "source": [
    "n,m = input().strip().split(' ')\n",
    "n,m = [int(n),int(m)]\n",
    "c = sorted(map(int,input().strip().split(' ')))\n",
    "\n",
    "last = 0\n",
    "res = c[0]\n",
    "for x in c:\n",
    "    res = max(res, (x-last)/2)\n",
    "    last = x\n",
    "res = round(max(res, (n-1-last)))\n",
    "print (res)"
   ]
  },
  {
   "cell_type": "code",
   "execution_count": 7,
   "metadata": {},
   "outputs": [
    {
     "name": "stdin",
     "output_type": "stream",
     "text": [
      " 5 2\n",
      " 0 4\n"
     ]
    },
    {
     "name": "stdout",
     "output_type": "stream",
     "text": [
      "2\n"
     ]
    }
   ],
   "source": [
    "import math\n",
    "def h():\n",
    "    l,m,a=[],(list(map(int,input().split(' ')))),sorted(list(map(int,input().split(' '))))\n",
    "    try:\n",
    "        if(len(a)==m[1]):\n",
    "            ll=[o for o in range(m[0])]\n",
    "            for x in range(0,m[0]):\n",
    "                if x in a:\n",
    "                    l.append(0)\n",
    "                else:\n",
    "                    l.append(round(min((math.fabs(ll[a[0]]-x)),(math.fabs((ll[a[1]])-x)))))\n",
    "    except:\n",
    "        print(\"Enter Values Correctly.!!\")\n",
    "    else:\n",
    "        print(max(l))\n",
    "h()"
   ]
  }
 ],
 "metadata": {
  "kernelspec": {
   "display_name": "Python 3",
   "language": "python",
   "name": "python3"
  },
  "language_info": {
   "codemirror_mode": {
    "name": "ipython",
    "version": 3
   },
   "file_extension": ".py",
   "mimetype": "text/x-python",
   "name": "python",
   "nbconvert_exporter": "python",
   "pygments_lexer": "ipython3",
   "version": "3.6.8"
  }
 },
 "nbformat": 4,
 "nbformat_minor": 2
}
