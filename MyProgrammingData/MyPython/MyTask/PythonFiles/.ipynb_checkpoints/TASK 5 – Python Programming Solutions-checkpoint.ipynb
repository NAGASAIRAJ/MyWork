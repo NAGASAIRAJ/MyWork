{
 "cells": [
  {
   "cell_type": "markdown",
   "metadata": {},
   "source": [
    "# TASK 5 – Python Programming Solutions.ipynb"
   ]
  },
  {
   "cell_type": "markdown",
   "metadata": {},
   "source": [
    "## Task - 5"
   ]
  },
  {
   "cell_type": "markdown",
   "metadata": {},
   "source": [
    "### 1st"
   ]
  },
  {
   "cell_type": "code",
   "execution_count": 16,
   "metadata": {},
   "outputs": [
    {
     "name": "stdin",
     "output_type": "stream",
     "text": [
      " 6\n",
      " 1 1 1 2 2 0\n",
      " 6\n",
      " 1 2 1 0 3 4\n"
     ]
    },
    {
     "name": "stdout",
     "output_type": "stream",
     "text": [
      "\n",
      "\n",
      "3\n",
      "2\n",
      "3\n",
      "1\n",
      "NOT PRESENT\n",
      "NOT PRESENT\n"
     ]
    }
   ],
   "source": [
    "def ga():\n",
    "    n=int(input())\n",
    "    l=(list(map(int,input().split(' '))))\n",
    "    m=int(input())\n",
    "    ll=(list(map(int,input().split(' '))))\n",
    "    print('\\n')\n",
    "    for x in range(len(ll)):\n",
    "        if ll[x] in l:\n",
    "             print(l.count(ll[x]))\n",
    "        else:\n",
    "            print(\"NOT PRESENT\")\n",
    "ga()"
   ]
  },
  {
   "cell_type": "code",
   "execution_count": 17,
   "metadata": {},
   "outputs": [
    {
     "name": "stdin",
     "output_type": "stream",
     "text": [
      " 6\n",
      " 1 1 1 2 2 0\n",
      " 6\n",
      " 1\n",
      " 2\n",
      " 1\n",
      " 0\n",
      " 3\n",
      " 4\n"
     ]
    },
    {
     "name": "stdout",
     "output_type": "stream",
     "text": [
      "\n",
      "\n",
      "3\n",
      "2\n",
      "3\n",
      "1\n",
      "NOT PRESENT\n",
      "NOT PRESENT\n"
     ]
    }
   ],
   "source": [
    "def ga():\n",
    "    ll=[]\n",
    "    n=int(input())\n",
    "    l=(list(map(int,input().split(' '))))\n",
    "    m=int(input())\n",
    "    for i in range(m):\n",
    "        ll.append(int(input()))\n",
    "    print('\\n')\n",
    "    for x in range(len(ll)):\n",
    "        if ll[x] in l:\n",
    "            print(l.count(ll[x]))\n",
    "        else:\n",
    "            print(\"NOT PRESENT\")\n",
    "ga()"
   ]
  },
  {
   "cell_type": "markdown",
   "metadata": {},
   "source": [
    "### 2nd"
   ]
  },
  {
   "cell_type": "code",
   "execution_count": 21,
   "metadata": {},
   "outputs": [
    {
     "name": "stdin",
     "output_type": "stream",
     "text": [
      " 3\n",
      " 1\n",
      " 10\n"
     ]
    },
    {
     "name": "stdout",
     "output_type": "stream",
     "text": [
      "count---> 1\n"
     ]
    },
    {
     "name": "stdin",
     "output_type": "stream",
     "text": [
      " 3\n",
      " 8\n",
      " 3\n",
      " 6\n"
     ]
    },
    {
     "name": "stdout",
     "output_type": "stream",
     "text": [
      "count---> 2\n"
     ]
    },
    {
     "name": "stdin",
     "output_type": "stream",
     "text": [
      " 5\n",
      " 4\n",
      " 5\n",
      " 1\n",
      " 2\n",
      " 3\n"
     ]
    },
    {
     "name": "stdout",
     "output_type": "stream",
     "text": [
      "count---> 2\n"
     ]
    }
   ],
   "source": [
    "def ra():\n",
    "    n=int(input())\n",
    "    c,l=1,[]\n",
    "    for i in range(n):\n",
    "        m=int(input())\n",
    "        for j in range(m):\n",
    "            l.append(int(input()))\n",
    "        min=l[0]\n",
    "        for x in range(1,len(l)):\n",
    "            if(min>l[x]):\n",
    "                min=l[i]\n",
    "                c+=1\n",
    "        print(\"count--->\",c)\n",
    "        c,l=1,[]\n",
    "ra()"
   ]
  }
 ],
 "metadata": {
  "kernelspec": {
   "display_name": "Python 3",
   "language": "python",
   "name": "python3"
  },
  "language_info": {
   "codemirror_mode": {
    "name": "ipython",
    "version": 3
   },
   "file_extension": ".py",
   "mimetype": "text/x-python",
   "name": "python",
   "nbconvert_exporter": "python",
   "pygments_lexer": "ipython3",
   "version": "3.6.8"
  }
 },
 "nbformat": 4,
 "nbformat_minor": 2
}
