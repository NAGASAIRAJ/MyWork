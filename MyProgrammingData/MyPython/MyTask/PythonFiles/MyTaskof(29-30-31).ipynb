{
 "cells": [
  {
   "cell_type": "markdown",
   "metadata": {},
   "source": [
    "# Basic Implementation of Python"
   ]
  },
  {
   "cell_type": "code",
   "execution_count": 14,
   "metadata": {},
   "outputs": [
    {
     "name": "stdout",
     "output_type": "stream",
     "text": [
      "Hello World\n",
      "\n",
      "Hello, This is Thrymr Software Developer\n"
     ]
    },
    {
     "name": "stdin",
     "output_type": "stream",
     "text": [
      "Enter :  33\n"
     ]
    },
    {
     "name": "stdout",
     "output_type": "stream",
     "text": [
      "33\n",
      "\n"
     ]
    },
    {
     "name": "stdin",
     "output_type": "stream",
     "text": [
      "Enter :  66\n"
     ]
    },
    {
     "name": "stdout",
     "output_type": "stream",
     "text": [
      "Hello it's:  66\n",
      "\n"
     ]
    },
    {
     "name": "stdin",
     "output_type": "stream",
     "text": [
      "Enter : 744\n"
     ]
    },
    {
     "name": "stdout",
     "output_type": "stream",
     "text": [
      "744.0\n",
      "\n",
      "1229984803535237425357460579824952453848609953896821302286319065669207712270213276022808840210306942692366529569453244416\n",
      "\n",
      "81178997033325670073592398268446861954008256957190205950897058334167709009834076217505383453880258217696190951583914131456\n",
      "\n"
     ]
    }
   ],
   "source": [
    "#### printing Hello World\n",
    "print (\"Hello World\")\n",
    "print()\n",
    "\n",
    "print (\"\"\"Hello, This is Thrymr Software Developer\"\"\")\n",
    "\n",
    "#Getting value from accepting input\n",
    "a=(input(\"Enter : \"))\n",
    "print (a)\n",
    "print()\n",
    "\n",
    "aa=(int(input(\"Enter : \")))\n",
    "print (\"Hello it's: \",aa)\n",
    "print()\n",
    "\n",
    "aaa=(float(input(\"Enter :\")))\n",
    "print (aaa)\n",
    "print()\n",
    "\n",
    "aaaa=(aa**aa)\n",
    "print (aaaa)\n",
    "print() \n",
    "\n",
    "aaaaa=aaaa*aa\n",
    "print (aaaaa)\n",
    "print()"
   ]
  },
  {
   "cell_type": "code",
   "execution_count": null,
   "metadata": {},
   "outputs": [],
   "source": []
  },
  {
   "cell_type": "code",
   "execution_count": 22,
   "metadata": {},
   "outputs": [
    {
     "name": "stdout",
     "output_type": "stream",
     "text": [
      "[1, 'Hello Thrymr', '@ Sairaj']\n"
     ]
    }
   ],
   "source": [
    "arr=[]\n",
    "arr.append(1)\n",
    "arr.append(\"Hello Thrymr\")\n",
    "arr.append('@ Sairaj')\n",
    "\n",
    "print (arr)"
   ]
  },
  {
   "cell_type": "markdown",
   "metadata": {},
   "source": [
    "### All Escape Characters"
   ]
  },
  {
   "cell_type": "code",
   "execution_count": 23,
   "metadata": {},
   "outputs": [
    {
     "name": "stdout",
     "output_type": "stream",
     "text": [
      "4\n",
      "\n",
      " 45\n",
      "\t Sairaj\n",
      "\n",
      "\n",
      "I\n",
      "Love\tmy_mother\n",
      "\n",
      "\n",
      "'I\\nLove\\tmy_mother'\n",
      "\n",
      "I\\nLove\\tmy_mother\n",
      "\n",
      "I\\nLove\\tmy_mother\n"
     ]
    }
   ],
   "source": [
    "b=4\n",
    "print (b)\n",
    "\n",
    "c=45\n",
    "print (\"\\n\",c)\n",
    "\n",
    "b=\"Sairaj\"\n",
    "print (\"\\t\",b)\n",
    "print(\"\\n\")\n",
    "\n",
    "#without giving print also, It's not giving output of c.\n",
    "c\n",
    "\n",
    "cc=\"I\\nLove\\tmy_mother\"\n",
    "print (cc)\n",
    "print(\"\\n\")\n",
    "\n",
    "print(repr(cc))\n",
    "#prints a new line\n",
    "print(\"\\r\")\n",
    "\n",
    "ccc=r\"I\\nLove\\tmy_mother\"\n",
    "print (ccc)\n",
    "#prints new line also.\n",
    "print()\n",
    "\n",
    "cccc=R\"I\\nLove\\tmy_mother\"\n",
    "print(cccc)\n"
   ]
  },
  {
   "cell_type": "markdown",
   "metadata": {},
   "source": [
    "### ' if ' condition in Python"
   ]
  },
  {
   "cell_type": "code",
   "execution_count": 24,
   "metadata": {},
   "outputs": [
    {
     "name": "stdin",
     "output_type": "stream",
     "text": [
      "Enter :  96\n"
     ]
    },
    {
     "name": "stdout",
     "output_type": "stream",
     "text": [
      "False\n"
     ]
    }
   ],
   "source": [
    "d=(int(input(\"Enter : \")))\n",
    "if(d<35):\n",
    "    print(d in range(d+1))\n",
    "elif(d>35):\n",
    "    print(d in range(d))\n",
    "elif(d==d):\n",
    "    print(d==d)\n",
    "else:\n",
    "    print(\"Not exactly that number\")"
   ]
  },
  {
   "cell_type": "markdown",
   "metadata": {},
   "source": [
    "### Methods in Python"
   ]
  },
  {
   "cell_type": "code",
   "execution_count": 22,
   "metadata": {},
   "outputs": [
    {
     "name": "stdout",
     "output_type": "stream",
     "text": [
      "Hello\n",
      "None\n",
      "\n"
     ]
    }
   ],
   "source": [
    "def e():\n",
    "    print(\"Hello\")\n",
    "ee=e()\n",
    "print(ee)\n",
    "print()"
   ]
  },
  {
   "cell_type": "code",
   "execution_count": 23,
   "metadata": {},
   "outputs": [
    {
     "name": "stdout",
     "output_type": "stream",
     "text": [
      "5\n"
     ]
    }
   ],
   "source": [
    "def gi():\n",
    "    r=5;\n",
    "    return r\n",
    "def a():\n",
    "    o=gi()\n",
    "    print(o)\n",
    "    \n",
    "a()\n"
   ]
  },
  {
   "cell_type": "code",
   "execution_count": 28,
   "metadata": {},
   "outputs": [
    {
     "name": "stdin",
     "output_type": "stream",
     "text": [
      "Enter :  -6\n"
     ]
    },
    {
     "name": "stdout",
     "output_type": "stream",
     "text": [
      "6.0\n"
     ]
    }
   ],
   "source": [
    "import math\n",
    "def a():\n",
    "    num=float(input(\"Enter : \"))\n",
    "    num=math.fabs(num)\n",
    "    print (num)\n",
    "    \n",
    "a()"
   ]
  },
  {
   "cell_type": "markdown",
   "metadata": {},
   "source": [
    "## for loop in Python"
   ]
  },
  {
   "cell_type": "code",
   "execution_count": 19,
   "metadata": {},
   "outputs": [
    {
     "name": "stdout",
     "output_type": "stream",
     "text": [
      "0 1 2 3 4 5 6 7 8 9 \n",
      "\n",
      "1 3 5 7 9 \n",
      "\n",
      "10 9 8 7 6 5 4 3 2 "
     ]
    }
   ],
   "source": [
    "for i in range(10):\n",
    "    print (i, end=\" \")\n",
    "print(\"\\n\")\n",
    "\n",
    "for ii in range (1,10,2):\n",
    "    print (ii, end=\" \")\n",
    "print(\"\\n\")\n",
    "\n",
    "for iii in range(10, 1, -1):\n",
    "    print (iii, end=\" \")"
   ]
  },
  {
   "cell_type": "code",
   "execution_count": null,
   "metadata": {},
   "outputs": [],
   "source": []
  }
 ],
 "metadata": {
  "kernelspec": {
   "display_name": "Python 3",
   "language": "python",
   "name": "python3"
  },
  "language_info": {
   "codemirror_mode": {
    "name": "ipython",
    "version": 3
   },
   "file_extension": ".py",
   "mimetype": "text/x-python",
   "name": "python",
   "nbconvert_exporter": "python",
   "pygments_lexer": "ipython3",
   "version": "3.5.2"
  }
 },
 "nbformat": 4,
 "nbformat_minor": 2
}
