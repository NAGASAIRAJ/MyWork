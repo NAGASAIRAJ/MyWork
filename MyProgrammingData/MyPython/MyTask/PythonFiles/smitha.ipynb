import random 
s = random.randint(1,500) 
print ("Pick a number between 1 to 500")
while True:
    print(s)
    res = (input("Guess the number: "))
    if (int(res))==s: 
        print ("You win",end=" ")
        print("Congrats.!!",s,"is now a new value.")
        break
    else: 
        print ("You lose",end=" ")
        print("Why because",s,"is now a new value.")
        continue
