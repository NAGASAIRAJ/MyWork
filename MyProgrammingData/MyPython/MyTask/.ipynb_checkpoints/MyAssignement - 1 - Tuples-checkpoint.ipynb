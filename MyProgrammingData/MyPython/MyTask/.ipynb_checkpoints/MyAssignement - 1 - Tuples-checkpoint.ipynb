{
 "cells": [
  {
   "cell_type": "markdown",
   "metadata": {},
   "source": [
    "## Tuples"
   ]
  },
  {
   "cell_type": "code",
   "execution_count": 21,
   "metadata": {},
   "outputs": [
    {
     "name": "stdout",
     "output_type": "stream",
     "text": [
      "() \n",
      "\n",
      "('a', 'b', 'c', 'f', 'r') \n",
      "\n",
      "('a', 'f', 'r', 'y', 'e') \n",
      "\n",
      "('Hello ',)\n",
      "(('Hello ',),)\n",
      "((('Hello ',),),)\n",
      "(((('Hello ',),),),)\n",
      "((((('Hello ',),),),),)\n",
      "\n",
      "('H', 'e', 'l', 'l', 'o') \n",
      "Hello  Hello \n",
      "\n",
      "Hello Hello Hello \n",
      "\n",
      "('a', 'b', 'c', 'f', 'r', 'a', 'b', 'c', 'f', 'r')\n",
      "\n",
      "ello     olleH  \n",
      "\n",
      "76   86\n",
      "\n"
     ]
    }
   ],
   "source": [
    "s=()\n",
    "print (s,'\\n')\n",
    "\n",
    "s=('a','b','c','f','r')\n",
    "print (s,'\\n')\n",
    "\n",
    "li=['a','f','r','y','e']\n",
    "print(tuple(li),'\\n')\n",
    "\n",
    "t1=('Hello ')\n",
    "t2=t1\n",
    "n=5\n",
    "for i in range(int(n)): \n",
    "    t2=(t2,)\n",
    "    print(t2)\n",
    "print()\n",
    "\n",
    "print(tuple('Hello'),end=' ')\n",
    "print()\n",
    "\n",
    "print(t1,t1)\n",
    "print()\n",
    "\n",
    "print(t1*3)\n",
    "print()\n",
    "\n",
    "s1=s+s\n",
    "print(s1)\n",
    "print()\n",
    "\n",
    "print(t1[1:],' ',t1[::-1],' ')\n",
    "print()\n",
    "\n",
    "del t1\n",
    "\n",
    "n=[1,2,4,56,4,3,2,4]\n",
    "\n",
    "Sum=sum(n)\n",
    "s1=sum(n,10)\n",
    "print(Sum,\" \",s1)\n",
    "print()"
   ]
  },
  {
   "cell_type": "code",
   "execution_count": null,
   "metadata": {},
   "outputs": [],
   "source": []
  }
 ],
 "metadata": {
  "kernelspec": {
   "display_name": "Python 3",
   "language": "python",
   "name": "python3"
  },
  "language_info": {
   "codemirror_mode": {
    "name": "ipython",
    "version": 3
   },
   "file_extension": ".py",
   "mimetype": "text/x-python",
   "name": "python",
   "nbconvert_exporter": "python",
   "pygments_lexer": "ipython3",
   "version": "3.5.2"
  }
 },
 "nbformat": 4,
 "nbformat_minor": 2
}
