{
 "cells": [
  {
   "cell_type": "code",
   "execution_count": 1,
   "metadata": {},
   "outputs": [
    {
     "name": "stdout",
     "output_type": "stream",
     "text": [
      "50 --> lcm\n",
      "25 --> gcd\n"
     ]
    }
   ],
   "source": [
    "def gcd(x,y):\n",
    "    for i in range(1,x+1):\n",
    "        if((x%i==0) and (y%i==0)):\n",
    "            g=i\n",
    "    lcm=(x*y)//g\n",
    "    print(lcm,'--> lcm')\n",
    "    return g\n",
    "a=gcd(50,25)\n",
    "print (a,'--> gcd')"
   ]
  },
  {
   "cell_type": "code",
   "execution_count": 2,
   "metadata": {},
   "outputs": [
    {
     "name": "stdout",
     "output_type": "stream",
     "text": [
      "25\n"
     ]
    }
   ],
   "source": [
    "def lcm(x,y):\n",
    "    ma=max(x,y)\n",
    "    while(True):\n",
    "        if(ma%x==0 and ma%y==0):\n",
    "            l=ma\n",
    "            break\n",
    "        ma=ma+1\n",
    "    print(l)\n",
    "\n",
    "lcm(5,25)\n",
    "        "
   ]
  },
  {
   "cell_type": "code",
   "execution_count": 3,
   "metadata": {},
   "outputs": [
    {
     "name": "stdout",
     "output_type": "stream",
     "text": [
      "* \n",
      "* * \n",
      "* * * \n",
      "* * * * \n"
     ]
    }
   ],
   "source": [
    "# *\n",
    "# * *\n",
    "# * * *\n",
    "# * * * *\n",
    "\n",
    "def tr(n):\n",
    "    for i in range(1,n+1):\n",
    "        for j in range(i):\n",
    "            print('*',end=' ')\n",
    "        print()\n",
    "tr(4)"
   ]
  },
  {
   "cell_type": "code",
   "execution_count": 4,
   "metadata": {},
   "outputs": [
    {
     "name": "stdout",
     "output_type": "stream",
     "text": [
      "      * \n",
      "    * * \n",
      "  * * * \n",
      "* * * * \n"
     ]
    }
   ],
   "source": [
    "#       *\n",
    "#     * *\n",
    "#   * * *\n",
    "# * * * *\n",
    "\n",
    "def tr2(n):\n",
    "    for i in range(1,n+1):\n",
    "        for j in range((2*(n-i)),0,-1):\n",
    "            print(\" \",end=\"\")\n",
    "        for k in range(1,i+1):\n",
    "            print('*',end=' ')\n",
    "        print()\n",
    "tr2(4)\n",
    "            "
   ]
  },
  {
   "cell_type": "code",
   "execution_count": 1,
   "metadata": {
    "scrolled": true
   },
   "outputs": [
    {
     "name": "stdout",
     "output_type": "stream",
     "text": [
      "\n",
      "1 \n",
      "2 3 \n",
      "4 5 6 \n",
      "7 8 9 10 \n",
      "11 12 13 14 15 \n"
     ]
    }
   ],
   "source": [
    "def nutr(n):\n",
    "    a=1\n",
    "    for i in range(n+1):\n",
    "        for j in range(i):\n",
    "            print(a,end=' ')\n",
    "            a=a+1\n",
    "        print()\n",
    "nutr(5)"
   ]
  },
  {
   "cell_type": "code",
   "execution_count": 6,
   "metadata": {},
   "outputs": [
    {
     "name": "stdout",
     "output_type": "stream",
     "text": [
      "\n",
      "A \n",
      "A B \n",
      "A B C \n",
      "A B C D \n",
      "A B C D E \n"
     ]
    }
   ],
   "source": [
    "def cht(n):\n",
    "    a=65\n",
    "    for i in range(n+1):\n",
    "        for j in range(i):\n",
    "            print(chr(a),end=' ')\n",
    "            a=a+1 \n",
    "        a=65\n",
    "        print()\n",
    "cht(5)"
   ]
  },
  {
   "cell_type": "code",
   "execution_count": 7,
   "metadata": {},
   "outputs": [
    {
     "name": "stdout",
     "output_type": "stream",
     "text": [
      "10\n"
     ]
    }
   ],
   "source": [
    "def sum(n):\n",
    "    a=0\n",
    "    for i in range(1,n+1):\n",
    "        a+=i;\n",
    "    print(a)\n",
    "sum(4)"
   ]
  },
  {
   "cell_type": "code",
   "execution_count": 3,
   "metadata": {},
   "outputs": [
    {
     "name": "stdout",
     "output_type": "stream",
     "text": [
      "24\n"
     ]
    }
   ],
   "source": [
    "def fact(n):\n",
    "    i=1\n",
    "    for j in range(1,n+1):\n",
    "        i=i*j\n",
    "    print (i)\n",
    "fact(4)\n",
    "    "
   ]
  },
  {
   "cell_type": "code",
   "execution_count": null,
   "metadata": {},
   "outputs": [],
   "source": [
    "def fib(n):\n",
    "    (a,b,c)=(0,1,0)\n",
    "    for j in range(1,n+1):\n",
    "        print(a,end=\" \")\n",
    "        c=a+b\n",
    "        (a,b)=(b,c)\n",
    "fib(5)\n",
    "    \n",
    "        "
   ]
  },
  {
   "cell_type": "code",
   "execution_count": 4,
   "metadata": {},
   "outputs": [
    {
     "name": "stdout",
     "output_type": "stream",
     "text": [
      "Prime\n"
     ]
    }
   ],
   "source": [
    "def prime(n):\n",
    "    (i,c)=(0,0)\n",
    "    for i in range(2,((n+1)//2)):\n",
    "        if (n%i==0):\n",
    "            c=1;\n",
    "            break;\n",
    "    if(c==0):\n",
    "        print(\"Prime\")\n",
    "    else:\n",
    "        print(\"Not Prime\")\n",
    "prime(71)\n",
    "    \n",
    "    "
   ]
  },
  {
   "cell_type": "code",
   "execution_count": 7,
   "metadata": {},
   "outputs": [
    {
     "name": "stdout",
     "output_type": "stream",
     "text": [
      "4321\n"
     ]
    }
   ],
   "source": [
    "def reverse(n):\n",
    "    (i,c,rem,rev)=(0,0,0,0)\n",
    "    o=n\n",
    "    while(o!=0):\n",
    "        o=o//10\n",
    "        c=c+1\n",
    "    p=n\n",
    "    while(p!=0 and c!=0):\n",
    "        rem=p%10\n",
    "        rev=rev+(rem*(10**(c-1)))\n",
    "        p=p//10\n",
    "        c=c-1\n",
    "    print(rev)\n",
    "reverse(1234)\n",
    "    "
   ]
  },
  {
   "cell_type": "code",
   "execution_count": null,
   "metadata": {},
   "outputs": [],
   "source": [
    "def pal_n(s):\n",
    "    "
   ]
  },
  {
   "cell_type": "code",
   "execution_count": 6,
   "metadata": {},
   "outputs": [
    {
     "name": "stdout",
     "output_type": "stream",
     "text": [
      "It's a Palindrome\n"
     ]
    }
   ],
   "source": [
    "def pali_s(s):\n",
    "    t=s\n",
    "    l=len(s)\n",
    "    r=\"\"\n",
    "    for i in range ((l-1), -1, -1):\n",
    "        r=r+s[i]\n",
    "    if(r in s):\n",
    "        print(\"It's a Palindrome\")\n",
    "    else:\n",
    "        print(\"Not a Palindrome\")\n",
    "    \n",
    "pali_s(\"madam\")"
   ]
  },
  {
   "cell_type": "code",
   "execution_count": 98,
   "metadata": {},
   "outputs": [
    {
     "name": "stdout",
     "output_type": "stream",
     "text": [
      "Armstrong\n"
     ]
    }
   ],
   "source": [
    "def arm(n):\n",
    "    temp=n\n",
    "    count=0\n",
    "    o=n\n",
    "    s = 0\n",
    "    while temp>0:\n",
    "        temp = temp//10\n",
    "        count=count+1\n",
    "    while(o>0):\n",
    "        r = o%10\n",
    "        s=s+(r**count)\n",
    "        o = o//10\n",
    "    if(s==n):\n",
    "        print(\"Armstrong\")\n",
    "arm(153)\n"
   ]
  },
  {
   "cell_type": "code",
   "execution_count": null,
   "metadata": {},
   "outputs": [],
   "source": []
  }
 ],
 "metadata": {
  "kernelspec": {
   "display_name": "Python 3",
   "language": "python",
   "name": "python3"
  },
  "language_info": {
   "codemirror_mode": {
    "name": "ipython",
    "version": 3
   },
   "file_extension": ".py",
   "mimetype": "text/x-python",
   "name": "python",
   "nbconvert_exporter": "python",
   "pygments_lexer": "ipython3",
   "version": "3.5.2"
  }
 },
 "nbformat": 4,
 "nbformat_minor": 2
}
