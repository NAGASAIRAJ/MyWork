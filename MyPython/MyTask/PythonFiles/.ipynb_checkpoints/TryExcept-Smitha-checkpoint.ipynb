{
 "cells": [
  {
   "cell_type": "markdown",
   "metadata": {},
   "source": [
    "## TRY....EXCEPT"
   ]
  },
  {
   "cell_type": "code",
   "execution_count": null,
   "metadata": {},
   "outputs": [],
   "source": [
    "def bl(*args):\n",
    "     try:\n",
    "            x = int(input(\"Please enter a number: \"))\n",
    "            print(\"%s squared is %s\" % (x, x**2))\n",
    "            except:\n",
    "        print(\"Please enter a valid number!\")\n",
    "    #x=x-1"
   ]
  },
  {
   "cell_type": "code",
   "execution_count": null,
   "metadata": {},
   "outputs": [],
   "source": [
    "bl()"
   ]
  },
  {
   "cell_type": "code",
   "execution_count": null,
   "metadata": {},
   "outputs": [],
   "source": [
    "def divide(x,y):\n",
    "    try:\n",
    "        res=x//y\n",
    "        print(res)\n",
    "    except:\n",
    "        print(\"DivideByZeroError\")\n",
    "        "
   ]
  },
  {
   "cell_type": "code",
   "execution_count": null,
   "metadata": {},
   "outputs": [],
   "source": [
    "divide(6,0)"
   ]
  },
  {
   "cell_type": "code",
   "execution_count": 1,
   "metadata": {},
   "outputs": [],
   "source": [
    "def f():\n",
    "    a =int(input(\"Enter a number\"))\n",
    "    try:\n",
    "        if(a%2==0):\n",
    "            print(\"even number\")\n",
    "        else:print(\"odd\")\n",
    "    except TypeError:\n",
    "        print(\"Invalid\")"
   ]
  },
  {
   "cell_type": "code",
   "execution_count": 5,
   "metadata": {},
   "outputs": [
    {
     "name": "stdin",
     "output_type": "stream",
     "text": [
      "Enter a number 34\n"
     ]
    },
    {
     "name": "stdout",
     "output_type": "stream",
     "text": [
      "even number\n"
     ]
    }
   ],
   "source": [
    "f()"
   ]
  },
  {
   "cell_type": "code",
   "execution_count": 6,
   "metadata": {},
   "outputs": [],
   "source": [
    "def contains(string,char):\n",
    "    try:\n",
    "        list = []\n",
    "        for i in range(0,len(string)):\n",
    "            if string[i] == char:\n",
    "                list = list + [i]\n",
    "    \n",
    "        return list[-1]\n",
    "    except:\n",
    "        print(\"Character does't contains\")"
   ]
  },
  {
   "cell_type": "code",
   "execution_count": 7,
   "metadata": {},
   "outputs": [
    {
     "name": "stdout",
     "output_type": "stream",
     "text": [
      "Character does't contains\n"
     ]
    }
   ],
   "source": [
    "contains(\"smita\",'l')"
   ]
  },
  {
   "cell_type": "code",
   "execution_count": null,
   "metadata": {},
   "outputs": [],
   "source": [
    "def d():\n",
    "    s=float(input(\"Enter : \"))\n",
    "    s1=s\n",
    "    try:\n",
    "        if(s1 == s):\n",
    "            print(\"Works\")\n",
    "    except:\n",
    "        print(\"not\")"
   ]
  },
  {
   "cell_type": "code",
   "execution_count": null,
   "metadata": {},
   "outputs": [],
   "source": [
    "d()"
   ]
  },
  {
   "cell_type": "code",
   "execution_count": null,
   "metadata": {},
   "outputs": [],
   "source": [
    "def a(my_list,index):\n",
    "    try:\n",
    "        if index <len(my_list):\n",
    "            print(index,\"its exsists in the list\")\n",
    "        else:\n",
    "            print(\"index,doesn't exists\")\n",
    "    \n",
    "    except:\n",
    "        print(\"Invalid\")\n",
    "        \n",
    "a([1,2,3],'one')"
   ]
  },
  {
   "cell_type": "code",
   "execution_count": null,
   "metadata": {},
   "outputs": [],
   "source": [
    "def v(x):\n",
    "    try:\n",
    "        print(x)\n",
    "    except NameError:\n",
    "        print(\"Variable x is not defined\")\n",
    "    except:\n",
    "        print(\"Something else went wrong\")\n"
   ]
  },
  {
   "cell_type": "code",
   "execution_count": 8,
   "metadata": {},
   "outputs": [
    {
     "data": {
      "text/plain": [
       "'11!!!'"
      ]
     },
     "execution_count": 8,
     "metadata": {},
     "output_type": "execute_result"
    }
   ],
   "source": [
    "# Define shout_echo\n",
    "def shout_echo(word1, e=1):\n",
    "    echo_word = \"\"\n",
    "    shout_words = \"\"\n",
    "    try:\n",
    "        echo_word = word1 * e\n",
    "        shout_words = echo_word + '!!!'\n",
    "    except:\n",
    "        print(\"word1 must be a string and echo must be an integer.\")\n",
    "    return shout_words\n",
    "\n",
    "shout_echo('1', e=2)"
   ]
  },
  {
   "cell_type": "code",
   "execution_count": null,
   "metadata": {},
   "outputs": [],
   "source": [
    "largest = None\n",
    "smallest = None\n",
    "while True:\n",
    "    \n",
    "    num = input(\"Enter a number: \")\n",
    "    if num == \"done\" : break\n",
    "    if len(num) == 0 : break\n",
    "\n",
    "    try:\n",
    "        num = int(num)\n",
    "        if smallest is None or smallest > num :\n",
    "            smallest = num;\n",
    "   \n",
    "        if largest is None or largest < num :\n",
    "            largest = num;\n",
    "\n",
    "    except Exception as e:\n",
    "        print (\"Invalid input\")\n",
    "\n",
    "print (\"Maximum is\", largest)\n",
    "print (\"Minimum is\", smallest)"
   ]
  },
  {
   "cell_type": "code",
   "execution_count": null,
   "metadata": {},
   "outputs": [],
   "source": [
    "list1=[1,2,'a']\n",
    "try:\n",
    "    for e in range(len(list1)):\n",
    "        r=1/(list1[e])\n",
    "        print(\"The number is\",r)\n",
    "except:\n",
    "    print(\"invalid number\")\n",
    "# print(\"Reciprocal of the number is\",r)"
   ]
  },
  {
   "cell_type": "code",
   "execution_count": null,
   "metadata": {},
   "outputs": [],
   "source": [
    "def getSqrt():\n",
    "    try:\n",
    "        s = float(input(\"Enter a numerical value: \"))\n",
    "    except ValueError:\n",
    "        print(\"Non numerical value...\")\n",
    "    else:\n",
    "        return float(s*s)\n",
    "\n",
    "getSqrt()"
   ]
  },
  {
   "cell_type": "code",
   "execution_count": null,
   "metadata": {},
   "outputs": [],
   "source": [
    "def"
   ]
  }
 ],
 "metadata": {
  "kernelspec": {
   "display_name": "Python 3",
   "language": "python",
   "name": "python3"
  },
  "language_info": {
   "codemirror_mode": {
    "name": "ipython",
    "version": 3
   },
   "file_extension": ".py",
   "mimetype": "text/x-python",
   "name": "python",
   "nbconvert_exporter": "python",
   "pygments_lexer": "ipython3",
   "version": "3.5.2"
  }
 },
 "nbformat": 4,
 "nbformat_minor": 2
}
