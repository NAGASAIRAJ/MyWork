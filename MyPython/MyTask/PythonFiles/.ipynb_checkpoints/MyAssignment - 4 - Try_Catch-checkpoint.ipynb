{
 "cells": [
  {
   "cell_type": "markdown",
   "metadata": {},
   "source": [
    "## Try Catch in Python"
   ]
  },
  {
   "cell_type": "code",
   "execution_count": 17,
   "metadata": {},
   "outputs": [
    {
     "name": "stdin",
     "output_type": "stream",
     "text": [
      "Enter :  's'\n"
     ]
    },
    {
     "ename": "ValueError",
     "evalue": "invalid literal for int() with base 10: \"'s'\"",
     "output_type": "error",
     "traceback": [
      "\u001b[0;31m---------------------------------------------------------------------------\u001b[0m",
      "\u001b[0;31mValueError\u001b[0m                                Traceback (most recent call last)",
      "\u001b[0;32m<ipython-input-17-3c2373288a39>\u001b[0m in \u001b[0;36m<module>\u001b[0;34m\u001b[0m\n\u001b[1;32m      5\u001b[0m     \u001b[0;32mexcept\u001b[0m\u001b[0;34m:\u001b[0m\u001b[0;34m\u001b[0m\u001b[0m\n\u001b[1;32m      6\u001b[0m         \u001b[0mprint\u001b[0m\u001b[0;34m(\u001b[0m\u001b[0;34m\"Not a Number\"\u001b[0m\u001b[0;34m)\u001b[0m\u001b[0;34m\u001b[0m\u001b[0m\n\u001b[0;32m----> 7\u001b[0;31m \u001b[0ma\u001b[0m\u001b[0;34m(\u001b[0m\u001b[0;34m)\u001b[0m\u001b[0;34m\u001b[0m\u001b[0m\n\u001b[0m",
      "\u001b[0;32m<ipython-input-17-3c2373288a39>\u001b[0m in \u001b[0;36ma\u001b[0;34m()\u001b[0m\n\u001b[1;32m      1\u001b[0m \u001b[0;32mdef\u001b[0m \u001b[0ma\u001b[0m\u001b[0;34m(\u001b[0m\u001b[0;34m)\u001b[0m\u001b[0;34m:\u001b[0m\u001b[0;34m\u001b[0m\u001b[0m\n\u001b[0;32m----> 2\u001b[0;31m     \u001b[0ms\u001b[0m\u001b[0;34m=\u001b[0m\u001b[0mint\u001b[0m\u001b[0;34m(\u001b[0m\u001b[0minput\u001b[0m\u001b[0;34m(\u001b[0m\u001b[0;34m'Enter : '\u001b[0m\u001b[0;34m)\u001b[0m\u001b[0;34m)\u001b[0m\u001b[0;34m\u001b[0m\u001b[0m\n\u001b[0m\u001b[1;32m      3\u001b[0m     \u001b[0;32mtry\u001b[0m\u001b[0;34m:\u001b[0m\u001b[0;34m\u001b[0m\u001b[0m\n\u001b[1;32m      4\u001b[0m         \u001b[0mprint\u001b[0m\u001b[0;34m(\u001b[0m\u001b[0;34m\"This is Number\"\u001b[0m\u001b[0;34m)\u001b[0m\u001b[0;34m\u001b[0m\u001b[0m\n\u001b[1;32m      5\u001b[0m     \u001b[0;32mexcept\u001b[0m\u001b[0;34m:\u001b[0m\u001b[0;34m\u001b[0m\u001b[0m\n",
      "\u001b[0;31mValueError\u001b[0m: invalid literal for int() with base 10: \"'s'\""
     ]
    }
   ],
   "source": [
    "def a():\n",
    "    s=int(input('Enter : '))\n",
    "    try:\n",
    "        print(\"This is Number\")\n",
    "    except ValueError:\n",
    "        print(\"Not a Number\")\n",
    "a()"
   ]
  },
  {
   "cell_type": "code",
   "execution_count": 14,
   "metadata": {},
   "outputs": [
    {
     "name": "stdin",
     "output_type": "stream",
     "text": [
      "Enter : 0\n"
     ]
    },
    {
     "name": "stdout",
     "output_type": "stream",
     "text": [
      "not\n"
     ]
    }
   ],
   "source": [
    "def b():\n",
    "    y=int(input(\"Enter :\"))\n",
    "\n",
    "    try:\n",
    "        if(6%y==0):\n",
    "            print(\"Works\")   \n",
    "    except ZeroDivisionError:\n",
    "        print(\"not\")\n",
    "        \n",
    "b()"
   ]
  },
  {
   "cell_type": "code",
   "execution_count": 13,
   "metadata": {},
   "outputs": [
    {
     "name": "stdin",
     "output_type": "stream",
     "text": [
      "Enter :  haio\n"
     ]
    },
    {
     "name": "stdout",
     "output_type": "stream",
     "text": [
      "Works\n"
     ]
    }
   ],
   "source": [
    "def c():\n",
    "    s=bool(input(\"Enter : \"))\n",
    "    try:\n",
    "        if(s):\n",
    "            print(\"Works\")   \n",
    "    except ZeroDivisionError:\n",
    "        print(\"not\")\n",
    "c()"
   ]
  },
  {
   "cell_type": "code",
   "execution_count": null,
   "metadata": {},
   "outputs": [],
   "source": [
    "def d():\n",
    "    s=float(input(\"Enter : \"))\n",
    "    s1=s\n",
    "    try:\n",
    "        if(s1 ==s):\n",
    "            print(\"Works\")   \n",
    "    except ZeroDivisionError:\n",
    "        print(\"not\")\n",
    "d()"
   ]
  },
  {
   "cell_type": "code",
   "execution_count": null,
   "metadata": {},
   "outputs": [],
   "source": [
    "def e(x):\n",
    "    \n",
    "    \n",
    "    try:\n",
    "        if(x%2==0):\n",
    "            print(\"Works\")   \n",
    "    except ZeroDivisionError:\n",
    "        print(\"not\")\n",
    "print(e(8))"
   ]
  },
  {
   "cell_type": "code",
   "execution_count": null,
   "metadata": {},
   "outputs": [],
   "source": [
    "try:\n",
    " \n",
    "    Year = int(input(\"Please Enter a Year? \"))\n",
    " \n",
    "    leap_or = Year%4 == 0\n",
    " \n",
    "    if leap_or:\n",
    " \n",
    "        print (\"This is a leap year\")\n",
    " \n",
    "    else:\n",
    " \n",
    "        print (\"This is not a leap year\")   "
   ]
  },
  {
   "cell_type": "code",
   "execution_count": 2,
   "metadata": {},
   "outputs": [
    {
     "name": "stdout",
     "output_type": "stream",
     "text": [
      "3.0\n",
      "Only numbers can be used\n",
      "0.75\n",
      "An element with 0 value\n",
      "0.375\n"
     ]
    }
   ],
   "source": [
    "num_list = [5, 'c', 20, 0, 40]\n",
    " \n",
    "b = 15\n",
    " \n",
    " \n",
    " \n",
    "for x in num_list:\n",
    " \n",
    "    try:\n",
    " \n",
    "        c = b / x\n",
    " \n",
    "        print(c)\n",
    " \n",
    "    except ZeroDivisionError:\n",
    " \n",
    "        print(\"An element with 0 value\")\n",
    " \n",
    "    except TypeError:\n",
    " \n",
    "        print(\"Only numbers can be used\")"
   ]
  },
  {
   "cell_type": "code",
   "execution_count": null,
   "metadata": {},
   "outputs": [],
   "source": [
    "\n",
    "num_list = [13, 'f', 60, 0, 50]\n",
    " \n",
    "b = 15\n",
    " \n",
    " \n",
    " \n",
    "for x in num_list:\n",
    " \n",
    "    try:\n",
    " \n",
    "        c = b / x\n",
    " \n",
    "        print(c)\n",
    " \n",
    "    except:\n",
    " \n",
    "        print(\"An error occurred\")"
   ]
  },
  {
   "cell_type": "code",
   "execution_count": null,
   "metadata": {},
   "outputs": [],
   "source": [
    "try:\n",
    " \n",
    "    a_number=int(input('Your Number? '))\n",
    " \n",
    "except:\n",
    " \n",
    "    print ('Enter a Number.')\n",
    " \n",
    "else:\n",
    " \n",
    "    eve_or_odd = a_number%2 == 0\n",
    " \n",
    "    if eve_or_odd:\n",
    " \n",
    "        print('You entered even number.')\n",
    " \n",
    "    else:\n",
    " \n",
    "        print('An Odd number.')\n"
   ]
  },
  {
   "cell_type": "code",
   "execution_count": null,
   "metadata": {},
   "outputs": [],
   "source": [
    "try:\n",
    " \n",
    "    a_number=int(input('Your Number? '))\n",
    " \n",
    "except:\n",
    " \n",
    "    print ('Enter a Number.')\n",
    " \n",
    "else:\n",
    " \n",
    "    eve_or_odd = a_number%2 == 0\n",
    " \n",
    "    if eve_or_odd:\n",
    " \n",
    "        print('You entered even number.')\n",
    " \n",
    "    else:\n",
    " \n",
    "        print('An Odd number.')\n",
    " \n",
    "finally:\n",
    " \n",
    "        print(\"Completed\")"
   ]
  },
  {
   "cell_type": "code",
   "execution_count": null,
   "metadata": {},
   "outputs": [],
   "source": [
    "def divide(x, y): \n",
    "    try: \n",
    "        result = x // y \n",
    "        print( result) \n",
    "    except ZeroDivisionError: \n",
    "        print(\"Sorry ! You are dividing by zero \") \n",
    "divide(3, 2) "
   ]
  },
  {
   "cell_type": "code",
   "execution_count": null,
   "metadata": {},
   "outputs": [],
   "source": [
    "def divide(x, y): \n",
    "    try: \n",
    "        result = x // y \n",
    "        print( result) \n",
    "    except ZeroDivisionError: \n",
    "        print(\"Sorry ! You are dividing by zero \") \n",
    "divide(3, 0) "
   ]
  },
  {
   "cell_type": "code",
   "execution_count": null,
   "metadata": {},
   "outputs": [],
   "source": [
    "def temp_convert(var):\n",
    "    try:\n",
    "        return int(var)\n",
    "    except ValueError, Aargument:\n",
    "        print (\"The argument does not contain numbers\\n\", Argument)\n",
    "\n",
    "# Call above function here.\n",
    "temp_convert(\"xyz\");"
   ]
  },
  {
   "cell_type": "code",
   "execution_count": null,
   "metadata": {},
   "outputs": [],
   "source": [
    "while True:\n",
    "    try:\n",
    "        x = int(input(\"Please enter a number: \"))\n",
    "        break\n",
    "    except ValueError:\n",
    "        print(\"Oops!  That was no valid number.  Try again...\")"
   ]
  },
  {
   "cell_type": "code",
   "execution_count": null,
   "metadata": {},
   "outputs": [],
   "source": [
    "def di(x, y):\n",
    "    try:\n",
    "        result = x / y\n",
    "    except ZeroDivisionError:\n",
    "        print(\"division by zero!\")\n",
    "    else:\n",
    "        print(\"result is\", result)\n",
    "    finally:\n",
    "        print(\"executing finally clause\")\n",
    "di(6,0)"
   ]
  },
  {
   "cell_type": "code",
   "execution_count": null,
   "metadata": {},
   "outputs": [],
   "source": [
    "try:\n",
    "    a = int(input(\"Enter a positive integer: \"))\n",
    "    if a <= 0:\n",
    "        raise ValueError(\"That is not a positive number!\")\n",
    "except ValueError as ve:\n",
    "    print(ve)\n"
   ]
  },
  {
   "cell_type": "code",
   "execution_count": null,
   "metadata": {},
   "outputs": [],
   "source": []
  }
 ],
 "metadata": {
  "kernelspec": {
   "display_name": "Python 3",
   "language": "python",
   "name": "python3"
  },
  "language_info": {
   "codemirror_mode": {
    "name": "ipython",
    "version": 3
   },
   "file_extension": ".py",
   "mimetype": "text/x-python",
   "name": "python",
   "nbconvert_exporter": "python",
   "pygments_lexer": "ipython3",
   "version": "3.5.2"
  }
 },
 "nbformat": 4,
 "nbformat_minor": 2
}
