{
 "cells": [
  {
   "cell_type": "markdown",
   "metadata": {},
   "source": [
    "# Lambda.!! using with Comprehension Methods"
   ]
  },
  {
   "cell_type": "markdown",
   "metadata": {},
   "source": [
    "## Lambda"
   ]
  },
  {
   "cell_type": "code",
   "execution_count": 1,
   "metadata": {},
   "outputs": [
    {
     "name": "stdout",
     "output_type": "stream",
     "text": [
      "81\n",
      "21\n"
     ]
    },
    {
     "name": "stdin",
     "output_type": "stream",
     "text": [
      " 56\n"
     ]
    },
    {
     "name": "stdout",
     "output_type": "stream",
     "text": [
      "Out :  3136\n",
      "9\n",
      "True\n",
      "2\n",
      "True\n",
      "4\n",
      "Good\n",
      "Great.!!\n"
     ]
    }
   ],
   "source": [
    "def a(n):\n",
    "    return lambda x:x**n\n",
    "aa=a(4)\n",
    "print(aa(3))\n",
    "\n",
    "add=lambda x,y,z:x+y+z\n",
    "print(add(8,4,9))\n",
    "\n",
    "sqr=lambda n:n**2\n",
    "print(\"Out : \",sqr(int(input())))\n",
    "\n",
    "mulop=lambda x,y,z,a,b:(x//y+z*a-b)\n",
    "print(mulop(1,4,3,5,6))\n",
    "\n",
    "mulop1=lambda x,y,z,j,k:(x>=z<y==j!=k)\n",
    "print(mulop1(3,2,1,2,5))\n",
    "\n",
    "mulop2=lambda e,f,g,h,j:(e and f or g is h is not j)\n",
    "print(mulop2(3,2,6,4,8))\n",
    "\n",
    "mulop3=lambda e,f,g,h,j:(e and f or g is h is not l)\n",
    "print(mulop2(True,False,True,True,False))\n",
    "\n",
    "mulop4=lambda g,h:((2*(g*h))//(g+h))\n",
    "print(mulop4(3,6))\n",
    " \n",
    "z=lambda a,b:\"Good\" if a>b else \"Not so Good\"\n",
    "print(z(5.4,4))\n",
    "\n",
    "c=lambda cc:\"Great.!!\" if((int(cc)%2==0)) else \"False\"\n",
    "print(c(\"1110\"))\n"
   ]
  },
  {
   "cell_type": "markdown",
   "metadata": {},
   "source": [
    "## Lambda with Map"
   ]
  },
  {
   "cell_type": "code",
   "execution_count": 2,
   "metadata": {},
   "outputs": [
    {
     "name": "stdout",
     "output_type": "stream",
     "text": [
      "[1, 2, 3, 45, 6]\n",
      "[-1, -8, -36, 10125, 2736]\n"
     ]
    },
    {
     "name": "stdin",
     "output_type": "stream",
     "text": [
      " 56\n"
     ]
    },
    {
     "name": "stdout",
     "output_type": "stream",
     "text": [
      "['5', '6']\n",
      "[2, 4, 6, 8]\n",
      "[9, 36, 4, 49]\n",
      "['python', 'java']\n"
     ]
    },
    {
     "name": "stdin",
     "output_type": "stream",
     "text": [
      " asdf\n"
     ]
    },
    {
     "name": "stdout",
     "output_type": "stream",
     "text": [
      "['asdf']\n"
     ]
    },
    {
     "name": "stdin",
     "output_type": "stream",
     "text": [
      " faw\n"
     ]
    },
    {
     "name": "stdout",
     "output_type": "stream",
     "text": [
      "['fawfawfaw']\n",
      "(4, 7, 79)\n",
      "['python', 'java'] [100, 80] [True, False]\n"
     ]
    }
   ],
   "source": [
    "lst=[1,2,3,45,6]\n",
    "lst1=list(map(lambda v: v,lst))\n",
    "print(lst1)\n",
    "\n",
    "lst=[1,2,3,45,6]\n",
    "lst=[1,2,3,45,6]\n",
    "lsc=[-1,-2,-4,5,76]\n",
    "re=list(map(lambda x,y,z:x*y*z,lst,lst,lsc))\n",
    "print(re)\n",
    "\n",
    "print(list(map(lambda x: x, input())))\n",
    "\n",
    "r=list(map(lambda x : x*2, [1, 2, 3, 4]))\n",
    "print(r)\n",
    "\n",
    "m=list(tuple(map(lambda y:y**2,(3,6,2,7))))\n",
    "print(m)\n",
    "\n",
    "d = [{'name': 'python', 'role': 10}, {'name': 'java', 'points': 8}]  \n",
    "l=list(map(lambda x : x['name'], d))\n",
    "print(l)\n",
    "\n",
    "d=input()\n",
    "dd=d.split(\",\")\n",
    "l=list(dd)\n",
    "lst1=list(map(lambda v: v,l))\n",
    "print(sorted(lst1))\n",
    "\n",
    "d=input()\n",
    "dd=d.split(\",\")\n",
    "l=list(dd)\n",
    "lst1=list(map(lambda v: v*(len(v)),l))\n",
    "print(sorted(lst1))\n",
    "\n",
    "a=[1,2,3]\n",
    "b=[3,5,76]\n",
    "c=tuple(map(lambda x,y:x+y,a,b))\n",
    "print(c)\n",
    "\n",
    "d = [{'name': 'python', 'points': 10}, {'name': 'java', 'points': 8}]\n",
    "a = list(map(lambda x : x['name'], d))\n",
    "b = list(map(lambda x : x['points']*10,  d))\n",
    "c = list(map(lambda x : x['name'] == \"python\", d))\n",
    "print(a,b,c)\n"
   ]
  },
  {
   "cell_type": "markdown",
   "metadata": {},
   "source": [
    "## Lambda with Filter    "
   ]
  },
  {
   "cell_type": "code",
   "execution_count": 3,
   "metadata": {},
   "outputs": [
    {
     "name": "stdout",
     "output_type": "stream",
     "text": [
      "[34, 56, 4, 6]\n",
      "[3, 3, 23]\n",
      "[3, 34, 56, 4, 6, 3, 23]\n",
      "[]\n",
      "()\n",
      "(4, 16, 36, 64, 100, 144, 196, 256, 324)\n",
      "[]\n",
      "[1, 2, 64, 312, 43, 12]\n",
      "[]\n",
      "(5, 76)   (2, 3)\n"
     ]
    }
   ],
   "source": [
    "l=[3,34,56,4,6,3,23]\n",
    "r=list(filter(lambda x:(x%2==0),l))\n",
    "print(r)\n",
    "\n",
    "l=[3,34,56,4,6,3,23]\n",
    "r=list(filter(lambda x:(x%2),l))\n",
    "print(r)\n",
    "\n",
    "l=[3,34,56,4,6,3,23]\n",
    "r=list(filter(lambda x:(x//2),l))\n",
    "print(r)\n",
    "\n",
    "a=[1,2,3]\n",
    "b=[3,5,76]\n",
    "c=list(filter(lambda x:9==x,a))\n",
    "print(c)\n",
    "\n",
    "m=[1,3,2,6,34,2]\n",
    "c=tuple(filter(lambda s:s!=s,m))\n",
    "print(c)\n",
    "\n",
    "x=list(range(1,20))\n",
    "y=tuple(map(lambda x:x**2,filter(lambda x:x%2==0,x)))\n",
    "print(y)\n",
    "\n",
    "k=(1,2,34,65,43,4)\n",
    "c=list(filter(lambda x:x>x+1,k))\n",
    "print(c)\n",
    "\n",
    "l=[1,2,64,312,43,12]\n",
    "c=list(filter(lambda s:s is s,l))\n",
    "print(c)\n",
    "\n",
    "ll=(\"1\",\"2\",\"5\",\"6\",\"8\",\"0\")\n",
    "c=list(filter(lambda f:int(f)!=int(f),ll))\n",
    "print(c)\n",
    "\n",
    "a=[1,2,3]\n",
    "b=[1,5,76]\n",
    "c=tuple(filter(lambda x: x not in a,b))\n",
    "d=tuple(filter(lambda x: x not in b,a))\n",
    "print(c,' ',d)\n"
   ]
  },
  {
   "cell_type": "markdown",
   "metadata": {},
   "source": [
    "## Lambda with Reduce"
   ]
  },
  {
   "cell_type": "code",
   "execution_count": 4,
   "metadata": {},
   "outputs": [
    {
     "name": "stdout",
     "output_type": "stream",
     "text": [
      "193\n",
      "40000000\n",
      "0\n",
      "5\n",
      "6.25e-07\n",
      "102\n",
      "12413915592536072670862289047373375038521486354677760000000000\n",
      "13983816.0\n",
      "HelloThisisTHrymrSoftware\n",
      "40000000\n"
     ]
    }
   ],
   "source": [
    "from functools import reduce\n",
    "import functools\n",
    "import operator\n",
    "li = [5, 8, 10, 20, 50, 100] \n",
    "sum = reduce((lambda x, y: x + y), li) \n",
    "print (sum) \n",
    "\n",
    "li = [5, 8, 10, 20, 50, 100] \n",
    "sum = reduce((lambda x, y: x * y), li) \n",
    "print (sum) \n",
    "\n",
    "li = [9, 8, 10, 20, 50, 100] \n",
    "sum = reduce((lambda x, y: x // y), li) \n",
    "print (sum) \n",
    "\n",
    "li = (5, 8, 10, 20, 50, 100)\n",
    "sum = reduce((lambda x, y: x % y), li) \n",
    "print (sum) \n",
    "\n",
    "li = [5, 8, 10, 20, 50, 100] \n",
    "sum = reduce((lambda x, y: x / y), li) \n",
    "print (sum) \n",
    "\n",
    "f = lambda a,b: a if (a > b) else b\n",
    "print(reduce(f, [47,11,42,102,13]))\n",
    "\n",
    "print(reduce(lambda x, y: x*y, range(1,49)))\n",
    "\n",
    "print(reduce(lambda x, y: x*y, range(44,50))/reduce(lambda x, y: x*y, range(1,7)))\n",
    "\n",
    "print (functools.reduce(operator.add,[\"Hello\",\"This\",\"is\",\"THrymr\",\"Software\"])) \n",
    "\n",
    "print (functools.reduce(operator.mul,li)) "
   ]
  }
 ],
 "metadata": {
  "kernelspec": {
   "display_name": "Python 3",
   "language": "python",
   "name": "python3"
  },
  "language_info": {
   "codemirror_mode": {
    "name": "ipython",
    "version": 3
   },
   "file_extension": ".py",
   "mimetype": "text/x-python",
   "name": "python",
   "nbconvert_exporter": "python",
   "pygments_lexer": "ipython3",
   "version": "3.6.8"
  }
 },
 "nbformat": 4,
 "nbformat_minor": 2
}
