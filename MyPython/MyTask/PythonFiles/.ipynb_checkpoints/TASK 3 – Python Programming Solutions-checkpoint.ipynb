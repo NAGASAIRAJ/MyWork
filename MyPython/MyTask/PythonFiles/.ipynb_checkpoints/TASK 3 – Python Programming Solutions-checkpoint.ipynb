{
 "cells": [
  {
   "cell_type": "markdown",
   "metadata": {},
   "source": [
    "# TASK 3 – Python Programming Solutions.ipynb"
   ]
  },
  {
   "cell_type": "markdown",
   "metadata": {},
   "source": [
    "## 1st"
   ]
  },
  {
   "cell_type": "code",
   "execution_count": 2,
   "metadata": {},
   "outputs": [
    {
     "name": "stdin",
     "output_type": "stream",
     "text": [
      " up 5\n",
      " down 3\n",
      " left 3\n",
      " right 2\n",
      " \n"
     ]
    },
    {
     "name": "stdout",
     "output_type": "stream",
     "text": [
      "2\n"
     ]
    }
   ],
   "source": [
    "def pr():\n",
    "    t,tt=0,0\n",
    "    l=[]\n",
    "    while(True):\n",
    "        s=(input()).upper()\n",
    "        s1=s.split(\" \")\n",
    "        l=list(s1)\n",
    "        if not s:\n",
    "            break\n",
    "        elif(l[0]==\"UP\"):\n",
    "            t+=int(l[1])\n",
    "        elif(l[0]==\"DOWN\"):\n",
    "            t-=int(l[1])\n",
    "        elif(l[0]==\"LEFT\"):\n",
    "            tt-=int(l[1])\n",
    "        elif(l[0]==\"RIGHT\"):\n",
    "            tt+=int(l[1])\n",
    "    print(round(((t**2)+(tt**2))**0.5))\n",
    "pr()"
   ]
  },
  {
   "cell_type": "code",
   "execution_count": 2,
   "metadata": {},
   "outputs": [
    {
     "name": "stdin",
     "output_type": "stream",
     "text": [
      " up 5\n",
      " down 3\n",
      " left 3\n",
      " right 2\n",
      " \n"
     ]
    },
    {
     "name": "stdout",
     "output_type": "stream",
     "text": [
      "2\n"
     ]
    }
   ],
   "source": [
    "def pr():\n",
    "    d=0\n",
    "    l=\n",
    "    while(True):\n",
    "        s=(input()).upper()\n",
    "        s1=s.split(\" \")\n",
    "        l=list(s1)\n",
    "        if not s:\n",
    "            break\n",
    "        elif(l[0]==\"UP\"):\n",
    "            d+=int(l[1])\n",
    "        elif(l[0]==\"DOWN\"):\n",
    "            d-=int(l[1])\n",
    "        elif(l[0]==\"LEFT\" or l[0]==\"RIGHT\"):\n",
    "            d=d\n",
    "    print(d)\n",
    "pr()"
   ]
  },
  {
   "cell_type": "markdown",
   "metadata": {},
   "source": [
    "## 2nd"
   ]
  },
  {
   "cell_type": "code",
   "execution_count": 18,
   "metadata": {},
   "outputs": [
    {
     "name": "stdin",
     "output_type": "stream",
     "text": [
      " New to Python or choosing between Python 2 and Python 3? Read Python 2 or Python 3\n"
     ]
    },
    {
     "name": "stdout",
     "output_type": "stream",
     "text": [
      "{'2': 2, '3': 1, '3?': 1, 'New': 1, 'Python': 5, 'Read': 1, 'and': 1, 'between': 1, 'choosing': 1, 'or': 2, 'to': 1}\n"
     ]
    }
   ],
   "source": [
    "def fre():\n",
    "    s=(input())\n",
    "    s1=s.split(\" \")\n",
    "    l=list(s1)\n",
    "    d={l[x]:l.count(l[x]) for x in range(len(l))}\n",
    "    d=sorted(d.items())\n",
    "    print(dict(d))\n",
    "fre()"
   ]
  },
  {
   "cell_type": "markdown",
   "metadata": {},
   "source": [
    "## 3rd"
   ]
  },
  {
   "cell_type": "code",
   "execution_count": 14,
   "metadata": {},
   "outputs": [
    {
     "name": "stdin",
     "output_type": "stream",
     "text": [
      " raj@google.com\n"
     ]
    },
    {
     "name": "stdout",
     "output_type": "stream",
     "text": [
      "raj\n"
     ]
    }
   ],
   "source": [
    "import re\n",
    "def username():\n",
    "    s=input()\n",
    "    ss=re.split('@',s)\n",
    "    l=list(ss)\n",
    "    print(l[0])\n",
    "username()"
   ]
  },
  {
   "cell_type": "markdown",
   "metadata": {},
   "source": [
    "## 4th"
   ]
  },
  {
   "cell_type": "code",
   "execution_count": 77,
   "metadata": {},
   "outputs": [
    {
     "name": "stdin",
     "output_type": "stream",
     "text": [
      "Enter Number : 7\n"
     ]
    },
    {
     "name": "stdout",
     "output_type": "stream",
     "text": [
      "0,1,1,2,3,5,8,13\n"
     ]
    }
   ],
   "source": [
    "def f(n):\n",
    "    if(n==0):\n",
    "        return 0\n",
    "    elif(n==1):\n",
    "        return 1\n",
    "    else:\n",
    "        return f(n-1)+f(n-2)\n",
    "\n",
    "n=int(input(\"Enter Number :\"))\n",
    "f(n)\n",
    "l=[str(f(i)) for i in range(n+1)]\n",
    "print(\",\".join(l))"
   ]
  },
  {
   "cell_type": "markdown",
   "metadata": {},
   "source": [
    "## 5th"
   ]
  },
  {
   "cell_type": "code",
   "execution_count": 78,
   "metadata": {},
   "outputs": [
    {
     "name": "stdin",
     "output_type": "stream",
     "text": [
      " 100\n"
     ]
    },
    {
     "name": "stdout",
     "output_type": "stream",
     "text": [
      "0,35,70\n"
     ]
    }
   ],
   "source": [
    "def gen():\n",
    "    n=int(input())\n",
    "    for i in range(n+1):\n",
    "        if(i%5==0 and i%7==0):\n",
    "            yield i\n",
    "l=list(gen())\n",
    "ll=[str(l[x]) for x in range(len(l))]\n",
    "print(\",\".join(ll))"
   ]
  },
  {
   "cell_type": "code",
   "execution_count": 84,
   "metadata": {},
   "outputs": [
    {
     "name": "stdin",
     "output_type": "stream",
     "text": [
      " up 5\n",
      " down 3\n",
      " left 3\n",
      " right 2\n",
      " \n"
     ]
    },
    {
     "name": "stdout",
     "output_type": "stream",
     "text": [
      "2\n"
     ]
    }
   ],
   "source": [
    "def pr():\n",
    "    t,tt=0,0\n",
    "    l=[]\n",
    "    while(True):\n",
    "        s=(input()).upper()\n",
    "        s1=s.split(\" \")\n",
    "        l=list(s1)\n",
    "        if not s:\n",
    "            break\n",
    "        elif(l[0]==\"UP\"):\n",
    "            t+=int(l[1])\n",
    "        elif(l[0]==\"DOWN\"):\n",
    "            t-=int(l[1])\n",
    "        elif(l[0]==\"LEFT\"):\n",
    "            tt-=int(l[1])\n",
    "        elif(l[0]==\"RIGHT\"):\n",
    "            tt+=int(l[1])\n",
    "    print(round(((t**2)+(tt**2))**0.5))\n",
    "pr()"
   ]
  }
 ],
 "metadata": {
  "kernelspec": {
   "display_name": "Python 3",
   "language": "python",
   "name": "python3"
  },
  "language_info": {
   "codemirror_mode": {
    "name": "ipython",
    "version": 3
   },
   "file_extension": ".py",
   "mimetype": "text/x-python",
   "name": "python",
   "nbconvert_exporter": "python",
   "pygments_lexer": "ipython3",
   "version": "3.6.8"
  }
 },
 "nbformat": 4,
 "nbformat_minor": 2
}
