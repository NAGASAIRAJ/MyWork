{
 "cells": [
  {
   "cell_type": "markdown",
   "metadata": {},
   "source": [
    "## Lists"
   ]
  },
  {
   "cell_type": "code",
   "execution_count": 91,
   "metadata": {},
   "outputs": [
    {
     "name": "stdout",
     "output_type": "stream",
     "text": [
      "[] \n",
      "\n",
      "['Hello,', 'Coder'] \n",
      "\n",
      "[[['Hello,', 'Coder']], 'is Good'] \n",
      "\n",
      "[1, 2, 3, 4, 4, 5, 5, 6] \n",
      "\n",
      "[1, 2, 3, 4, 4, 5, 5, 6, 8] \n",
      "\n",
      "[1, 2, 3, 4, 4, 5, 5, 6, 8, (5, 7)] \n",
      "\n",
      "[1, 2, 3, 4, 4, 5, 5, 6, 8, (5, 7), {'b': 3, 'a': 1}] \n",
      "\n",
      "[1, 2, 3, 4, 4, 5, 5, 6, 8, (5, 7), {'b': 3, 'a': 1}, [3, 8]] \n",
      "\n",
      "5 \n",
      "\n",
      "7 \n",
      "\n",
      "[3, 8] {'b': 3, 'a': 1} (5, 7) 8 6 5 5 4 4 3 2 1 \n",
      "\n",
      "[3, 8] \n",
      "\n",
      "3 \n",
      "\n",
      "[1, 2, 4, 4, 5, 5, 6, 8, (5, 7), {'b': 3, 'a': 1}] \n",
      "\n",
      "['t', 'uu', 'i', 'o', 'g'] \t\t ['d', 'e', 'r', 't', 'uu', 'i', 'o', 'g', 'h', 's', 'e'] \t\t ['d', 'e', 'r', 't', 'uu'] \t\t ['t', 'uu', 'i', 'o', 'g', 'h', 's', 'e'] \t\t ['e', 's', 'h', 'g', 'o', 'i', 'uu', 't', 'r', 'e', 'd']\n",
      "None \n",
      "\n",
      "\n",
      "\n",
      "[1, 2, 5, 6, 8, (5, 7), {'b': 3, 'a': 1}, 'd', 'e', 'r', 't', 'uu', 'i', 'o', 'g', 'h', 's', 'e'] \n",
      "\n",
      "[1, 2, 5, 5, 6, 8, (5, 7), {'b': 3, 'a': 1}, 'd', 'e', 'r', 't', 'uu', 'i', 'o', 'g', 'h', 's', 'e'] \n",
      "\n",
      "[1, 2, 3, 4, 7, 34, 56]\n",
      "\n",
      " [1, 2, 3, 4, 7, 34, 56] \n",
      "\n",
      "107 \n",
      "\n",
      "2\n",
      "\n",
      "\n",
      "[56, 34, 7, 4, 3, 2, 1] \n",
      "\n",
      "[]\n",
      "\n",
      "\n",
      "9\n",
      "\n",
      "\n",
      "True\n",
      "\n",
      "True \n",
      "\n",
      "[(0, 1), (1, 2), (2, 4), (3, 3)] \n",
      "[(0, 1), (1, 2), (2, 5), (3, 8)] \n",
      "<filter object at 0x7f34f43e7b70>\n"
     ]
    }
   ],
   "source": [
    "a=[]\n",
    "print(a,\"\\n\")\n",
    "\n",
    "a=[\"Hello,\",\"Coder\"]\n",
    "print(a,\"\\n\")\n",
    "\n",
    "a=[[a],\"is Good\"]\n",
    "print(a,\"\\n\")\n",
    "\n",
    "a=[1,2,3,4,4,5,5,6]\n",
    "print(a,\"\\n\")\n",
    "\n",
    "a.append(8)\n",
    "print(a,\"\\n\")\n",
    "\n",
    "a.append((5,7))\n",
    "print(a,\"\\n\")\n",
    "\n",
    "a.append({'a':1,\"b\":3})\n",
    "print(a,\"\\n\")\n",
    "\n",
    "a.append([3,8])\n",
    "print(a,\"\\n\")\n",
    "\n",
    "print(a[9][0],\"\\n\")\n",
    "\n",
    "print(a[-3][1],\"\\n\")\n",
    "\n",
    "for i in range(11,-1,-1):\n",
    "    print(a[i],end=\" \")\n",
    "print('\\n')\n",
    "\n",
    "print(a.pop(),'\\n')\n",
    "print(a.pop(2),'\\n')\n",
    "\n",
    "print(a,end= ' ')\n",
    "print('\\n')\n",
    "\n",
    "a2=['d','e','r','t','uu','i','o','g','h','s','e']\n",
    "print(a2[3:8],'\\t\\t',a2[:],'\\t\\t',a2[:-6],'\\t\\t',a2[3:],'\\t\\t',a2[::-1])\n",
    "print(a.extend(a2),'\\n')\n",
    "print('\\n')\n",
    "\n",
    "del a[2:5]\n",
    "print(a,end=\" \")\n",
    "print('\\n')\n",
    "\n",
    "a.insert(3,5)\n",
    "print(a,end=\" \")\n",
    "print()\n",
    "\n",
    "a.remove(1)\n",
    "print()\n",
    "\n",
    "a3=[1,3,56,2,7,4,34]\n",
    "a3.sort()\n",
    "print(sorted(a3))\n",
    "print('\\n',a3,'\\n')\n",
    "\n",
    "print(sum(a3),'\\n')\n",
    "\n",
    "print(a3.index(3))\n",
    "print('\\n')\n",
    "\n",
    "a3.reverse()\n",
    "print(a3,end=\" \")\n",
    "print('\\n')\n",
    "\n",
    "a3.clear()\n",
    "print(a3)\n",
    "print('\\n')\n",
    "\n",
    "print(round(9.45))\n",
    "print('\\n')\n",
    "\n",
    "print (any([True, False, False, False])) \n",
    "print()\n",
    "\n",
    "print (all([True, True, True, True]),'\\n') \n",
    "\n",
    "list1 = [ 1, 2, 4, 3] \n",
    "list2 = [ 1, 2, 5, 8] \n",
    "list3 = [ 1, 2, 5, 8, 10] \n",
    "list4 = [ 1, 2, 4, 3] \n",
    "\n",
    "obj1=enumerate(list1)\n",
    "obj2=enumerate(list2)\n",
    "\n",
    "print (list(obj1),end=' ')\n",
    "print()\n",
    "\n",
    "print(list(enumerate(list2)),end=\" \")\n",
    "print()\n",
    "\n",
    "l1=filter(list1,list2)\n",
    "print(l1)\n",
    "\n",
    "#print(cmp(list2,list1),\" \",cmp(list2,list3),\" \",cmp(list4,list1))"
   ]
  },
  {
   "cell_type": "markdown",
   "metadata": {},
   "source": [
    "# Some Other Functions."
   ]
  },
  {
   "cell_type": "code",
   "execution_count": 86,
   "metadata": {},
   "outputs": [
    {
     "name": "stdout",
     "output_type": "stream",
     "text": [
      "[2, 4, 6, 8]\n"
     ]
    }
   ],
   "source": [
    "def addition(n): \n",
    "    return n + n \n",
    "  \n",
    "# We double all numbers using map() \n",
    "numbers = (1, 2, 3, 4) \n",
    "result = map(addition, numbers) \n",
    "print(list(result)) \n"
   ]
  },
  {
   "cell_type": "code",
   "execution_count": 87,
   "metadata": {},
   "outputs": [
    {
     "name": "stdout",
     "output_type": "stream",
     "text": [
      "343\n",
      "125\n"
     ]
    }
   ],
   "source": [
    "def cube(y): \n",
    "    return y*y*y; \n",
    "  \n",
    "g = lambda x: x*x*x \n",
    "print(g(7)) \n",
    "  \n",
    "print(cube(5)) \n"
   ]
  },
  {
   "cell_type": "code",
   "execution_count": null,
   "metadata": {},
   "outputs": [],
   "source": []
  }
 ],
 "metadata": {
  "kernelspec": {
   "display_name": "Python 3",
   "language": "python",
   "name": "python3"
  },
  "language_info": {
   "codemirror_mode": {
    "name": "ipython",
    "version": 3
   },
   "file_extension": ".py",
   "mimetype": "text/x-python",
   "name": "python",
   "nbconvert_exporter": "python",
   "pygments_lexer": "ipython3",
   "version": "3.7.3"
  }
 },
 "nbformat": 4,
 "nbformat_minor": 2
}
