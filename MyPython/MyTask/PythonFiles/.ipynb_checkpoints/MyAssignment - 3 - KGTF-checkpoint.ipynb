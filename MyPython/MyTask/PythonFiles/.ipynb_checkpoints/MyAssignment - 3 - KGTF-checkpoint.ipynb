{
 "cells": [
  {
   "cell_type": "markdown",
   "metadata": {},
   "source": [
    "## Kwargs and args"
   ]
  },
  {
   "cell_type": "code",
   "execution_count": 3,
   "metadata": {},
   "outputs": [
    {
     "name": "stdout",
     "output_type": "stream",
     "text": [
      "Hello\n",
      "this\n",
      "is\n",
      "a\n",
      "Thrymr\n",
      "Company\n"
     ]
    }
   ],
   "source": [
    "def kwar(*aa):\n",
    "    for a in aa:\n",
    "        print(a)\n",
    "kwar(\"Hello\", \"this\", \"is\", \"a\", \"Thrymr\", \"Company\")"
   ]
  },
  {
   "cell_type": "code",
   "execution_count": 4,
   "metadata": {},
   "outputs": [
    {
     "name": "stdout",
     "output_type": "stream",
     "text": [
      "2\n",
      "a\n",
      "d\n",
      "c\n"
     ]
    }
   ],
   "source": [
    "def kwa(k,*p):\n",
    "    print (k)\n",
    "    for i in p:\n",
    "        print (i)\n",
    "kwa(2,\"a\",\"d\",\"c\")"
   ]
  },
  {
   "cell_type": "code",
   "execution_count": 11,
   "metadata": {},
   "outputs": [
    {
     "name": "stdout",
     "output_type": "stream",
     "text": [
      "b 2\n",
      "a 1\n"
     ]
    }
   ],
   "source": [
    "def kwr(**o):\n",
    "    for i,j in o.items():\n",
    "        print (i,j)\n",
    "kwr(a=1,b=2)"
   ]
  },
  {
   "cell_type": "code",
   "execution_count": 13,
   "metadata": {},
   "outputs": [
    {
     "name": "stdout",
     "output_type": "stream",
     "text": [
      "Hello,  This's  Thrymr\n"
     ]
    }
   ],
   "source": [
    "def df(a,b,c):\n",
    "    print (a,b,c)\n",
    "df(\"Hello, \",\"This's \",\"Thrymr\")"
   ]
  },
  {
   "cell_type": "code",
   "execution_count": 18,
   "metadata": {},
   "outputs": [
    {
     "name": "stdout",
     "output_type": "stream",
     "text": [
      "1\n",
      "Hello \t\t\n",
      "Arrayy \t\t\n",
      "To you only \t\t\n",
      "('m', 2) \t\t\n",
      "('l', 1) \t\t\n"
     ]
    }
   ],
   "source": [
    "def dff(a,*b, **c):\n",
    "    print (a)\n",
    "    for i in b:\n",
    "        print (i,\"\\t\\t\")\n",
    "    for j,k in c.items():\n",
    "        print((j,k),\"\\t\\t\")\n",
    "dff(1,\"Hello\",\"Arrayy\",\"To you only\", l=1,m=2)"
   ]
  },
  {
   "cell_type": "markdown",
   "metadata": {},
   "source": [
    "## Global and Local Variables"
   ]
  },
  {
   "cell_type": "code",
   "execution_count": 29,
   "metadata": {},
   "outputs": [],
   "source": [
    "def a():\n",
    "    print(aa,\"\\n\")\n",
    "    \n",
    "a()\n",
    "aa=\"Hello\"\n"
   ]
  },
  {
   "cell_type": "code",
   "execution_count": 29,
   "metadata": {},
   "outputs": [],
   "source": [
    "def aaa():\n",
    "    a1=3;\n",
    "    print(a1)\n",
    "    \n",
    "aaa()\n",
    "a1=5\n",
    "print(a1,\"\\n\") \n"
   ]
  },
  {
   "cell_type": "code",
   "execution_count": 40,
   "metadata": {},
   "outputs": [
    {
     "name": "stdout",
     "output_type": "stream",
     "text": [
      "6\n",
      "5\n",
      "5\n"
     ]
    }
   ],
   "source": [
    "def ab():\n",
    "    global n\n",
    "    print(n)\n",
    "    n=5\n",
    "    print(n)\n",
    "    \n",
    "n=6\n",
    "\n",
    "\n",
    "ab()\n",
    "print(n)"
   ]
  },
  {
   "cell_type": "code",
   "execution_count": 45,
   "metadata": {},
   "outputs": [
    {
     "name": "stdout",
     "output_type": "stream",
     "text": [
      "1\n",
      "1\n",
      "1st 1\n",
      "2nd 2\n",
      "3rd 3\n",
      "3\n"
     ]
    }
   ],
   "source": [
    "i=1\n",
    "def a1():\n",
    "    print (\"1st\",i)\n",
    "print (i)\n",
    "def a2():\n",
    "    i=2\n",
    "    print(\"2nd\",i)\n",
    "print (i)\n",
    "def a3():\n",
    "    global i\n",
    "    i=3\n",
    "    print(\"3rd\",i)\n",
    "a1(),a2(),a3()\n",
    "print(i)"
   ]
  },
  {
   "cell_type": "code",
   "execution_count": 47,
   "metadata": {},
   "outputs": [
    {
     "name": "stdout",
     "output_type": "stream",
     "text": [
      "5\n",
      "3\n"
     ]
    }
   ],
   "source": [
    "def r():\n",
    "    a=5\n",
    "    print(a)\n",
    "r()\n",
    "a=3\n",
    "print(a)"
   ]
  },
  {
   "cell_type": "code",
   "execution_count": 52,
   "metadata": {},
   "outputs": [
    {
     "name": "stdout",
     "output_type": "stream",
     "text": [
      "1\n",
      "6\n"
     ]
    }
   ],
   "source": [
    "def y():\n",
    "    global o\n",
    "    print(o)\n",
    "    o=6\n",
    "\n",
    "o=1\n",
    "y()\n",
    "print(o)"
   ]
  },
  {
   "cell_type": "markdown",
   "metadata": {},
   "source": [
    "## Type Conversions"
   ]
  },
  {
   "cell_type": "code",
   "execution_count": 53,
   "metadata": {},
   "outputs": [
    {
     "name": "stdout",
     "output_type": "stream",
     "text": [
      "78367.0 \n",
      "\n"
     ]
    }
   ],
   "source": [
    "t=78367\n",
    "print(float(t),\"\\n\")"
   ]
  },
  {
   "cell_type": "code",
   "execution_count": 61,
   "metadata": {},
   "outputs": [
    {
     "name": "stdout",
     "output_type": "stream",
     "text": [
      "[{'o', 'H', 'l', 'e'}, ' ', ('H', 'e', 'l', 'l', 'o'), ' ', ['H', 'e', 'l', 'l', 'o']]\n"
     ]
    }
   ],
   "source": [
    "tr=\"Hello\"\n",
    "print(list(tuple(list((set(tr),\" \",tuple(tr),\" \",list(tr))))))"
   ]
  },
  {
   "cell_type": "code",
   "execution_count": 62,
   "metadata": {},
   "outputs": [
    {
     "name": "stdout",
     "output_type": "stream",
     "text": [
      "52 \n",
      "\n",
      "0x38   0o132 \n",
      "\n"
     ]
    }
   ],
   "source": [
    "trr='4'\n",
    "print(ord(trr),\"\\n\")\n",
    "\n",
    "print(hex(56),\" \",oct(90),\"\\n\")"
   ]
  },
  {
   "cell_type": "markdown",
   "metadata": {},
   "source": [
    "## Functions implementation"
   ]
  },
  {
   "cell_type": "code",
   "execution_count": 66,
   "metadata": {},
   "outputs": [
    {
     "name": "stdout",
     "output_type": "stream",
     "text": [
      "24\n"
     ]
    }
   ],
   "source": [
    "def fact(n):\n",
    "    i=1\n",
    "    for j in range(1,n+1):\n",
    "        i=i*j\n",
    "    print (i)\n",
    "fact(4)\n",
    "    "
   ]
  },
  {
   "cell_type": "code",
   "execution_count": 71,
   "metadata": {},
   "outputs": [
    {
     "name": "stdout",
     "output_type": "stream",
     "text": [
      "0 1 1 2 3 "
     ]
    }
   ],
   "source": [
    "def fib(n):\n",
    "    (a,b,c)=(0,1,0)\n",
    "    for j in range(1,n+1):\n",
    "        print(a,end=\" \")\n",
    "        c=a+b\n",
    "        (a,b)=(b,c)\n",
    "fib(5)\n",
    "    \n",
    "        "
   ]
  },
  {
   "cell_type": "code",
   "execution_count": 75,
   "metadata": {},
   "outputs": [
    {
     "name": "stdout",
     "output_type": "stream",
     "text": [
      "Prime\n"
     ]
    }
   ],
   "source": [
    "def prime(n):\n",
    "    (i,c)=(0,0)\n",
    "    for i in range(2,((n+1)//2)):\n",
    "        if (n%i==0):\n",
    "            c=1;\n",
    "            break;\n",
    "    if(c==0):\n",
    "        print(\"Prime\")\n",
    "    else:\n",
    "        print(\"Not Prime\")\n",
    "prime(71)\n",
    "    \n",
    "    "
   ]
  },
  {
   "cell_type": "code",
   "execution_count": 82,
   "metadata": {},
   "outputs": [
    {
     "name": "stdout",
     "output_type": "stream",
     "text": [
      "4321\n"
     ]
    }
   ],
   "source": [
    "def reverse(n):\n",
    "    (i,c,rem,rev)=(0,0,0,0)\n",
    "    o=n\n",
    "    while(o!=0):\n",
    "        o=o//10\n",
    "        c=c+1\n",
    "    p=n\n",
    "    while(p!=0 and c!=0):\n",
    "        rem=p%10\n",
    "        rev=rev+(rem*(10**(c-1)))\n",
    "        p=p//10\n",
    "        c=c-1\n",
    "    print(rev)\n",
    "reverse(1234)\n",
    "    "
   ]
  },
  {
   "cell_type": "code",
   "execution_count": 94,
   "metadata": {},
   "outputs": [
    {
     "name": "stdout",
     "output_type": "stream",
     "text": [
      "It's a Palindrome\n"
     ]
    }
   ],
   "source": [
    "def pali_s(s):\n",
    "    t=s\n",
    "    l=len(s)\n",
    "    r=\"\"\n",
    "    for i in range ((l-1), -1, -1):\n",
    "        r=r+s[i]\n",
    "    if(r in s):\n",
    "        print(\"It's a Palindrome\")\n",
    "    else:\n",
    "        print(\"Not a Palindrome\")\n",
    "    \n",
    "pali_s(\"madam\")"
   ]
  },
  {
   "cell_type": "code",
   "execution_count": 98,
   "metadata": {},
   "outputs": [
    {
     "name": "stdout",
     "output_type": "stream",
     "text": [
      "Armstrong\n"
     ]
    }
   ],
   "source": [
    "def arm(n):\n",
    "    temp=n\n",
    "    count=0\n",
    "    o=n\n",
    "    s = 0\n",
    "    while temp>0:\n",
    "        temp = temp//10\n",
    "        count=count+1\n",
    "    while(o>0):\n",
    "        r = o%10\n",
    "        s=s+(r**count)\n",
    "        o = o//10\n",
    "    if(s==n):\n",
    "        print(\"Armstrong\")\n",
    "arm(153)\n"
   ]
  },
  {
   "cell_type": "code",
   "execution_count": null,
   "metadata": {},
   "outputs": [],
   "source": []
  }
 ],
 "metadata": {
  "kernelspec": {
   "display_name": "Python 3",
   "language": "python",
   "name": "python3"
  },
  "language_info": {
   "codemirror_mode": {
    "name": "ipython",
    "version": 3
   },
   "file_extension": ".py",
   "mimetype": "text/x-python",
   "name": "python",
   "nbconvert_exporter": "python",
   "pygments_lexer": "ipython3",
   "version": "3.5.2"
  }
 },
 "nbformat": 4,
 "nbformat_minor": 2
}
