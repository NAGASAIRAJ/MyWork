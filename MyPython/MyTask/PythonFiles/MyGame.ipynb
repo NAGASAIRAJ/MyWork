{
 "cells": [
  {
   "cell_type": "code",
   "execution_count": 3,
   "metadata": {},
   "outputs": [
    {
     "name": "stdout",
     "output_type": "stream",
     "text": [
      " ___________\n",
      "| X | O | X |\n",
      "|---|---|---|\n",
      "| O | X | O |\n",
      "|---|---|---|\n",
      "| X | O | X |\n",
      "|___|___|___|\n"
     ]
    }
   ],
   "source": [
    "def design():\n",
    "    l=['#','X','O','X','O','X','O','X','O','X']\n",
    "    \n",
    "    print(\" ___________\")\n",
    "    print(\"| {} | {} | {} |\".format(l[1],l[2],l[3]))\n",
    "    print(\"|---|---|---|\")\n",
    "    print(\"| {} | {} | {} |\".format(l[4],l[5],l[6]))\n",
    "    print(\"|---|---|---|\")\n",
    "    print(\"| {} | {} | {} |\".format(l[7],l[8],l[9]))\n",
    "    print(\"|___|___|___|\")\n",
    "design()"
   ]
  },
  {
   "cell_type": "code",
   "execution_count": 3,
   "metadata": {},
   "outputs": [
    {
     "name": "stdout",
     "output_type": "stream",
     "text": [
      "Are you ready to play the game? : \n",
      "         Input here : (y/n)       \n"
     ]
    },
    {
     "name": "stdin",
     "output_type": "stream",
     "text": [
      " n\n"
     ]
    },
    {
     "name": "stdout",
     "output_type": "stream",
     "text": [
      "Do you want to quit the Game ?\n",
      "  Enter your choice : (y/n)  \n"
     ]
    },
    {
     "name": "stdin",
     "output_type": "stream",
     "text": [
      " y\n"
     ]
    }
   ],
   "source": [
    "def play():\n",
    "    while True:\n",
    "        print(\"Are you ready to play the game? : \")\n",
    "        print(\"         Input here : (y/n)       \")\n",
    "        i1=input()\n",
    "        if(i1=='y'):\n",
    "            print(\"let's play the game\")\n",
    "            break\n",
    "        else:\n",
    "            print(\"Do you want to quit the Game ?\")\n",
    "            print(\"  Enter your choice : (y/n)  \")\n",
    "            i2=input()\n",
    "            if(i2=='y'):\n",
    "                break\n",
    "            else:\n",
    "                play()\n",
    "play()"
   ]
  },
  {
   "cell_type": "code",
   "execution_count": 2,
   "metadata": {},
   "outputs": [
    {
     "name": "stdout",
     "output_type": "stream",
     "text": [
      " ___________\n",
      "|   |   |   |\n",
      "|---|---|---|\n",
      "|   |   |   |\n",
      "|---|---|---|\n",
      "|   |   |   |\n",
      "|___|___|___|\n"
     ]
    },
    {
     "name": "stdin",
     "output_type": "stream",
     "text": [
      "Enter 'X' or 'O' :  4+\n",
      " 78\n",
      "Enter 'X' or 'O' :  987+\n",
      " 748\n",
      "Enter 'X' or 'O' :  sadk\n",
      " x\n"
     ]
    },
    {
     "ename": "ValueError",
     "evalue": "invalid literal for int() with base 10: 'x'",
     "output_type": "error",
     "traceback": [
      "\u001b[0;31m---------------------------------------------------------------------------\u001b[0m",
      "\u001b[0;31mValueError\u001b[0m                                Traceback (most recent call last)",
      "\u001b[0;32m<ipython-input-2-b3b404a745f3>\u001b[0m in \u001b[0;36m<module>\u001b[0;34m\u001b[0m\n\u001b[1;32m     40\u001b[0m             \u001b[0;32melif\u001b[0m\u001b[0;34m(\u001b[0m\u001b[0;32mnot\u001b[0m \u001b[0mi1\u001b[0m\u001b[0;34m)\u001b[0m\u001b[0;34m:\u001b[0m\u001b[0;34m\u001b[0m\u001b[0;34m\u001b[0m\u001b[0m\n\u001b[1;32m     41\u001b[0m                 \u001b[0;32mcontinue\u001b[0m\u001b[0;34m\u001b[0m\u001b[0;34m\u001b[0m\u001b[0m\n\u001b[0;32m---> 42\u001b[0;31m \u001b[0mgame\u001b[0m\u001b[0;34m(\u001b[0m\u001b[0;34m)\u001b[0m\u001b[0;34m\u001b[0m\u001b[0;34m\u001b[0m\u001b[0m\n\u001b[0m",
      "\u001b[0;32m<ipython-input-2-b3b404a745f3>\u001b[0m in \u001b[0;36mgame\u001b[0;34m()\u001b[0m\n\u001b[1;32m     11\u001b[0m         \u001b[0;32mfor\u001b[0m \u001b[0mi\u001b[0m \u001b[0;32min\u001b[0m \u001b[0mrange\u001b[0m\u001b[0;34m(\u001b[0m\u001b[0;36m0\u001b[0m\u001b[0;34m,\u001b[0m\u001b[0;36m9\u001b[0m\u001b[0;34m)\u001b[0m\u001b[0;34m:\u001b[0m\u001b[0;34m\u001b[0m\u001b[0;34m\u001b[0m\u001b[0m\n\u001b[1;32m     12\u001b[0m             \u001b[0mi1\u001b[0m\u001b[0;34m=\u001b[0m\u001b[0minput\u001b[0m\u001b[0;34m(\u001b[0m\u001b[0;34m\"Enter 'X' or 'O' : \"\u001b[0m\u001b[0;34m)\u001b[0m\u001b[0;34m\u001b[0m\u001b[0;34m\u001b[0m\u001b[0m\n\u001b[0;32m---> 13\u001b[0;31m             \u001b[0mn\u001b[0m\u001b[0;34m,\u001b[0m\u001b[0mc\u001b[0m\u001b[0;34m=\u001b[0m\u001b[0;34m(\u001b[0m\u001b[0mint\u001b[0m\u001b[0;34m(\u001b[0m\u001b[0minput\u001b[0m\u001b[0;34m(\u001b[0m\u001b[0;34m)\u001b[0m\u001b[0;34m)\u001b[0m\u001b[0;34m,\u001b[0m\u001b[0;36m0\u001b[0m\u001b[0;34m)\u001b[0m\u001b[0;34m\u001b[0m\u001b[0;34m\u001b[0m\u001b[0m\n\u001b[0m\u001b[1;32m     14\u001b[0m             \u001b[0;32mif\u001b[0m\u001b[0;34m(\u001b[0m\u001b[0mi1\u001b[0m\u001b[0;34m==\u001b[0m\u001b[0;34m'X'\u001b[0m \u001b[0;32mand\u001b[0m \u001b[0mc\u001b[0m\u001b[0;34m!=\u001b[0m\u001b[0mlen\u001b[0m\u001b[0;34m(\u001b[0m\u001b[0ml\u001b[0m\u001b[0;34m)\u001b[0m\u001b[0;34m)\u001b[0m\u001b[0;34m:\u001b[0m\u001b[0;34m\u001b[0m\u001b[0;34m\u001b[0m\u001b[0m\n\u001b[1;32m     15\u001b[0m                 \u001b[0ml\u001b[0m\u001b[0;34m[\u001b[0m\u001b[0mn\u001b[0m\u001b[0;34m]\u001b[0m\u001b[0;34m=\u001b[0m\u001b[0mi1\u001b[0m\u001b[0;34m\u001b[0m\u001b[0;34m\u001b[0m\u001b[0m\n",
      "\u001b[0;31mValueError\u001b[0m: invalid literal for int() with base 10: 'x'"
     ]
    }
   ],
   "source": [
    "def game():\n",
    "    while(True):\n",
    "        print(\" ___________\")\n",
    "        print(\"|   |   |   |\")\n",
    "        print(\"|---|---|---|\")\n",
    "        print(\"|   |   |   |\")\n",
    "        print(\"|---|---|---|\")\n",
    "        print(\"|   |   |   |\")\n",
    "        print(\"|___|___|___|\")\n",
    "        l=([' ',' ',' ',' ',' ',' ',' ',' ',' '])\n",
    "        for i in range(0,9): \n",
    "            i1=input(\"Enter 'X' or 'O' : \")\n",
    "            n,c=(int(input()),0)\n",
    "            if(i1=='X' and c!=len(l)):\n",
    "                l[n]=i1\n",
    "                print(\" ___________\")\n",
    "                print(\"| {} | {} | {} |\".format(l[0],l[1],l[2]))\n",
    "                print(\"|---|---|---|\")\n",
    "                print(\"| {} | {} | {} |\".format(l[3],l[4],l[5]))\n",
    "                print(\"|---|---|---|\")\n",
    "                print(\"| {} | {} | {} |\".format(l[6],l[7],l[8]))\n",
    "                print(\"|___|___|___|\")\n",
    "                c+=1\n",
    "                print(l,end=\" \")   \n",
    "            elif(i1=='O' and c!=len(l)):\n",
    "                l[n]=i1\n",
    "                c+=1\n",
    "                print(\" ___________\")\n",
    "                print(\"| {} | {} | {} |\".format(l[0],l[1],l[2]))\n",
    "                print(\"|---|---|---|\")\n",
    "                print(\"| {} | {} | {} |\".format(l[3],l[4],l[5]))\n",
    "                print(\"|---|---|---|\")\n",
    "                print(\"| {} | {} | {} |\".format(l[6],l[7],l[8]))\n",
    "                print(\"|___|___|___|\")\n",
    "                print(l,end=\" \")\n",
    "            elif (n>=9):\n",
    "                continue\n",
    "            elif(c==9):\n",
    "                break\n",
    "            elif(not i1):\n",
    "                continue\n",
    "game()"
   ]
  },
  {
   "cell_type": "code",
   "execution_count": null,
   "metadata": {},
   "outputs": [],
   "source": [
    "print(\" ___________\")\n",
    "    print(\"| {} | {} | {} |\".format(l[1],l[2],l[3]))\n",
    "    print(\"|---|---|---|\")\n",
    "    print(\"| {} | {} | {} |\".format(l[4],l[5],l[6]))\n",
    "    print(\"|---|---|---|\")\n",
    "    print(\"| {} | {} | {} |\".format(l[7],l[8],l[9]))\n",
    "    print(\"|___|___|___|\")"
   ]
  },
  {
   "cell_type": "code",
   "execution_count": null,
   "metadata": {},
   "outputs": [],
   "source": [
    "lll=['','','','','','','','','']"
   ]
  },
  {
   "cell_type": "code",
   "execution_count": null,
   "metadata": {},
   "outputs": [],
   "source": [
    "lll[4]='X'"
   ]
  },
  {
   "cell_type": "code",
   "execution_count": null,
   "metadata": {},
   "outputs": [],
   "source": [
    "len(lll)"
   ]
  },
  {
   "cell_type": "code",
   "execution_count": null,
   "metadata": {},
   "outputs": [],
   "source": []
  },
  {
   "cell_type": "code",
   "execution_count": null,
   "metadata": {},
   "outputs": [],
   "source": []
  },
  {
   "cell_type": "code",
   "execution_count": null,
   "metadata": {},
   "outputs": [],
   "source": []
  },
  {
   "cell_type": "code",
   "execution_count": null,
   "metadata": {},
   "outputs": [],
   "source": []
  },
  {
   "cell_type": "markdown",
   "metadata": {},
   "source": [
    "## Your Name Citywise"
   ]
  },
  {
   "cell_type": "code",
   "execution_count": 4,
   "metadata": {},
   "outputs": [
    {
     "name": "stdin",
     "output_type": "stream",
     "text": [
      "Enter Your Name : rahul\n",
      "Enter Your City : hyderabad\n"
     ]
    },
    {
     "data": {
      "text/plain": [
       "'rahul<-- (Your Nick Name)'"
      ]
     },
     "execution_count": 4,
     "metadata": {},
     "output_type": "execute_result"
    }
   ],
   "source": [
    "def n():\n",
    "    s=(input(\"Enter Your Name :\")).lower()\n",
    "    c=(input(\"Enter Your City :\"))\n",
    "    if(c==\"delhi\"):\n",
    "        return s+\" \"+c+\"ker <-- (Your Real Name)\"\n",
    "    else:\n",
    "        return s+\"<-- (Your Nick Name)\"\n",
    "n()"
   ]
  },
  {
   "cell_type": "code",
   "execution_count": null,
   "metadata": {},
   "outputs": [],
   "source": []
  },
  {
   "cell_type": "code",
   "execution_count": null,
   "metadata": {},
   "outputs": [],
   "source": []
  },
  {
   "cell_type": "code",
   "execution_count": null,
   "metadata": {},
   "outputs": [],
   "source": []
  },
  {
   "cell_type": "code",
   "execution_count": null,
   "metadata": {},
   "outputs": [],
   "source": []
  },
  {
   "cell_type": "code",
   "execution_count": null,
   "metadata": {},
   "outputs": [],
   "source": []
  },
  {
   "cell_type": "code",
   "execution_count": null,
   "metadata": {},
   "outputs": [],
   "source": []
  },
  {
   "cell_type": "code",
   "execution_count": null,
   "metadata": {},
   "outputs": [],
   "source": []
  },
  {
   "cell_type": "code",
   "execution_count": null,
   "metadata": {},
   "outputs": [],
   "source": []
  },
  {
   "cell_type": "code",
   "execution_count": null,
   "metadata": {},
   "outputs": [],
   "source": []
  },
  {
   "cell_type": "code",
   "execution_count": null,
   "metadata": {},
   "outputs": [],
   "source": []
  },
  {
   "cell_type": "code",
   "execution_count": null,
   "metadata": {},
   "outputs": [],
   "source": []
  },
  {
   "cell_type": "code",
   "execution_count": null,
   "metadata": {},
   "outputs": [],
   "source": []
  },
  {
   "cell_type": "code",
   "execution_count": null,
   "metadata": {},
   "outputs": [],
   "source": []
  },
  {
   "cell_type": "code",
   "execution_count": null,
   "metadata": {},
   "outputs": [],
   "source": []
  }
 ],
 "metadata": {
  "kernelspec": {
   "display_name": "Python 3",
   "language": "python",
   "name": "python3"
  },
  "language_info": {
   "codemirror_mode": {
    "name": "ipython",
    "version": 3
   },
   "file_extension": ".py",
   "mimetype": "text/x-python",
   "name": "python",
   "nbconvert_exporter": "python",
   "pygments_lexer": "ipython3",
   "version": "3.6.8"
  }
 },
 "nbformat": 4,
 "nbformat_minor": 2
}
