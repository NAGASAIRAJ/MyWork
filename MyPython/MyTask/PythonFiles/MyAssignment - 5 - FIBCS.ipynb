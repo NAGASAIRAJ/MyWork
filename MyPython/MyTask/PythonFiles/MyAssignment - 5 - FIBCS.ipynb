{
 "cells": [
  {
   "cell_type": "markdown",
   "metadata": {},
   "source": [
    "## Break"
   ]
  },
  {
   "cell_type": "code",
   "execution_count": null,
   "metadata": {},
   "outputs": [],
   "source": [
    "for l in ('Python'):\n",
    "    if(l=='o'):\n",
    "        break\n",
    "    print(l)"
   ]
  },
  {
   "cell_type": "code",
   "execution_count": null,
   "metadata": {},
   "outputs": [],
   "source": [
    "l=[10,2,4,3,7,9]\n",
    "for i in range(len(l)):\n",
    "    if(l[i]%2==1):\n",
    "        break\n",
    "    print(l[i],end=\" \")\n",
    "print()"
   ]
  },
  {
   "cell_type": "code",
   "execution_count": null,
   "metadata": {},
   "outputs": [],
   "source": [
    "v=10\n",
    "while(v!=0):\n",
    "    print(v,end=\" \")\n",
    "    v=v-1\n",
    "    if(v==5):\n",
    "        break\n",
    "    "
   ]
  },
  {
   "cell_type": "code",
   "execution_count": null,
   "metadata": {},
   "outputs": [],
   "source": [
    "while(True):\n",
    "    s=input(\"Enter any thing except 'none' : \")\n",
    "    print(s,end=\" \")\n",
    "    if(s=='none'):\n",
    "        break\n"
   ]
  },
  {
   "cell_type": "code",
   "execution_count": null,
   "metadata": {},
   "outputs": [],
   "source": [
    "for ll in range(1,90):\n",
    "    print(ll,end= ' ')\n",
    "    if(ll%5==0 and ll%3!=0 and ll%2!=0):\n",
    "        break\n"
   ]
  },
  {
   "cell_type": "markdown",
   "metadata": {},
   "source": [
    "## Continue"
   ]
  },
  {
   "cell_type": "code",
   "execution_count": null,
   "metadata": {},
   "outputs": [],
   "source": [
    "for i in \"Thrymr\":\n",
    "    if(i=='r'):\n",
    "        continue\n",
    "    print(i,end=\" \")"
   ]
  },
  {
   "cell_type": "code",
   "execution_count": null,
   "metadata": {},
   "outputs": [],
   "source": [
    "for ll in range(1,90):\n",
    "    if(ll%5==0 or ll%3==0 or ll%7==0 or ll%2==0):\n",
    "        continue\n",
    "    if(ll==1):\n",
    "        continue\n",
    "    print(ll,end=' ')"
   ]
  },
  {
   "cell_type": "code",
   "execution_count": 9,
   "metadata": {},
   "outputs": [
    {
     "name": "stdout",
     "output_type": "stream",
     "text": [
      "10 2 4 \n"
     ]
    }
   ],
   "source": [
    "l=[10,2,4,3,7,9]\n",
    "for i in range(len(l)):\n",
    "    if(l[i]%2==1):\n",
    "        continue\n",
    "    print(l[i],end=\" \")\n",
    "print()"
   ]
  },
  {
   "cell_type": "code",
   "execution_count": 10,
   "metadata": {},
   "outputs": [
    {
     "name": "stdout",
     "output_type": "stream",
     "text": [
      "9 8 7 6 4 3 2 1 0 "
     ]
    }
   ],
   "source": [
    "v=10\n",
    "while(v!=0):\n",
    "    v=v-1\n",
    "    if(v==5):\n",
    "        continue\n",
    "    print(v,end=\" \")\n",
    "#     v=v-1"
   ]
  },
  {
   "cell_type": "code",
   "execution_count": 14,
   "metadata": {},
   "outputs": [
    {
     "name": "stdin",
     "output_type": "stream",
     "text": [
      "Enter any thing except 'none' :  1\n",
      "Enter any thing except 'none' :  5\n",
      "Enter any thing except 'none' :  8\n",
      "Enter any thing except 'none' :  f'\n",
      "Enter any thing except 'none' :  g\n",
      "Enter any thing except 'none' :  h\n",
      "Enter any thing except 'none' :  none\n"
     ]
    },
    {
     "name": "stdout",
     "output_type": "stream",
     "text": [
      "['1', '5', '8'] "
     ]
    }
   ],
   "source": [
    "l=[]\n",
    "while(True):\n",
    "    s=input(\"Enter any thing except 'none' : \")\n",
    "    if(s.isdigit()):\n",
    "        l.append(s)\n",
    "    elif(s=='none'):\n",
    "        break\n",
    "    elif(str(s)):\n",
    "        continue\n",
    "        print(s,'\\n')\n",
    "print(l,end=' ')"
   ]
  },
  {
   "cell_type": "markdown",
   "metadata": {},
   "source": [
    "## Pass"
   ]
  },
  {
   "cell_type": "code",
   "execution_count": 47,
   "metadata": {},
   "outputs": [
    {
     "name": "stdout",
     "output_type": "stream",
     "text": [
      "; is not alpha\n",
      "o is alpha\n",
      "0 is not alpha\n",
      "j is alpha\n",
      "f is alpha\n",
      "; is not alpha\n"
     ]
    }
   ],
   "source": [
    "for i in ';o0jf;':\n",
    "    if(i.isalpha()):\n",
    "        pass\n",
    "        print(i,\"is alpha\")\n",
    "    else:\n",
    "        print(i,\"is not alpha\")\n",
    "        "
   ]
  },
  {
   "cell_type": "code",
   "execution_count": 46,
   "metadata": {},
   "outputs": [
    {
     "name": "stdout",
     "output_type": "stream",
     "text": [
      "10 is even\n",
      "2 is even\n",
      "4 is even\n",
      "3 is odd\n",
      "4 is odd\n",
      "5 is odd\n",
      "\n"
     ]
    }
   ],
   "source": [
    "l=[10,2,4,3,7,9]\n",
    "for i in range(len(l)):\n",
    "    if(l[i]%2==1):\n",
    "        pass\n",
    "        print(i,\"is odd\")\n",
    "    else:\n",
    "        print(l[i],\"is even\")\n",
    "print()"
   ]
  },
  {
   "cell_type": "code",
   "execution_count": 45,
   "metadata": {},
   "outputs": [
    {
     "name": "stdout",
     "output_type": "stream",
     "text": [
      "Prime -  11\n",
      "Prime -  13\n",
      "Prime -  17\n",
      "Prime -  19\n",
      "Prime -  23\n",
      "Prime -  29\n",
      "Prime -  31\n",
      "Prime -  37\n",
      "Prime -  41\n",
      "Prime -  43\n",
      "Prime -  47\n",
      "Prime -  53\n",
      "Prime -  59\n",
      "Prime -  61\n",
      "Prime -  67\n",
      "Prime -  71\n",
      "Prime -  73\n",
      "Prime -  79\n"
     ]
    }
   ],
   "source": [
    "for ll in range(2,90):\n",
    "    if(ll>80):\n",
    "        break\n",
    "    elif(ll%5!=0 and ll%3!=0 and ll%7!=0 and ll%2!=0 ):\n",
    "        pass\n",
    "        print(\"Prime - \",ll)\n",
    "    elif(ll%5==0 or ll%3==0 or ll%7==0 or ll%2==0):\n",
    "        continue\n",
    "    "
   ]
  },
  {
   "cell_type": "code",
   "execution_count": 42,
   "metadata": {},
   "outputs": [
    {
     "name": "stdout",
     "output_type": "stream",
     "text": [
      "9 8 7 6 5 break 4 3 2 1 0 "
     ]
    }
   ],
   "source": [
    "v=10\n",
    "while(v!=0):\n",
    "    v=v-1\n",
    "    if(v==5):\n",
    "        pass\n",
    "        print(v,\"break\",end=\" \")\n",
    "        continue\n",
    "    print(v,end=\" \")\n",
    "#     v=v-1"
   ]
  },
  {
   "cell_type": "code",
   "execution_count": 48,
   "metadata": {},
   "outputs": [
    {
     "name": "stdin",
     "output_type": "stream",
     "text": [
      "Enter any thing except 'none' :  1\n",
      "Enter any thing except 'none' :  2\n",
      "Enter any thing except 'none' :  9\n",
      "Enter any thing except 'none' :  h\n"
     ]
    },
    {
     "name": "stdout",
     "output_type": "stream",
     "text": [
      "Don't enter any String\n"
     ]
    },
    {
     "name": "stdin",
     "output_type": "stream",
     "text": [
      "Enter any thing except 'none' :  k\n"
     ]
    },
    {
     "name": "stdout",
     "output_type": "stream",
     "text": [
      "Don't enter any String\n"
     ]
    },
    {
     "name": "stdin",
     "output_type": "stream",
     "text": [
      "Enter any thing except 'none' :  3\n",
      "Enter any thing except 'none' :  a\n"
     ]
    },
    {
     "name": "stdout",
     "output_type": "stream",
     "text": [
      "Don't enter any String\n"
     ]
    },
    {
     "name": "stdin",
     "output_type": "stream",
     "text": [
      "Enter any thing except 'none' :  none0\n"
     ]
    },
    {
     "name": "stdout",
     "output_type": "stream",
     "text": [
      "Don't enter any String\n"
     ]
    },
    {
     "name": "stdin",
     "output_type": "stream",
     "text": [
      "Enter any thing except 'none' :  none\n"
     ]
    },
    {
     "name": "stdout",
     "output_type": "stream",
     "text": [
      "['1', '2', '9', '3'] "
     ]
    }
   ],
   "source": [
    "l=[]\n",
    "while(True):\n",
    "    s=input(\"Enter any thing except 'none' : \")\n",
    "    if(s.isdigit()):\n",
    "        l.append(s)\n",
    "    elif(s=='none'):\n",
    "        break\n",
    "    elif(str(s)):\n",
    "        pass\n",
    "        print('Don\\'t enter any String')\n",
    "        continue\n",
    "        print(s,'\\n')\n",
    "print(l,end=' ')"
   ]
  },
  {
   "cell_type": "markdown",
   "metadata": {},
   "source": [
    "## Chaining Comparision"
   ]
  },
  {
   "cell_type": "code",
   "execution_count": 59,
   "metadata": {},
   "outputs": [
    {
     "name": "stdout",
     "output_type": "stream",
     "text": [
      "True\n",
      "True\n",
      "True\n",
      "True\n",
      "False\n"
     ]
    }
   ],
   "source": [
    "a,b,c,d,e=1,6,2,4,2\n",
    "print(a<b>c==e<d)\n",
    "print(b>a<c!=d<b)\n",
    "print(a!=c==e<(max(c,d)))\n",
    "print((c-2)<(d+3)>(a-2)< c)\n",
    "print(c==a>b<e)"
   ]
  },
  {
   "cell_type": "markdown",
   "metadata": {},
   "source": [
    "## Switcher"
   ]
  },
  {
   "cell_type": "code",
   "execution_count": 77,
   "metadata": {},
   "outputs": [
    {
     "name": "stdin",
     "output_type": "stream",
     "text": [
      "Enter Value :  uiws\n"
     ]
    },
    {
     "name": "stdout",
     "output_type": "stream",
     "text": [
      "Invalid\n"
     ]
    }
   ],
   "source": [
    "def sw():\n",
    "    x=(input(\"Enter Value : \"))\n",
    "    switcher={\n",
    "            \"smi\":('She\\'s is Good in programming'),  \n",
    "            \"raj\":('He\\'s a Good Programmer')\n",
    "        }\n",
    "    print(switcher.get(x,\"Invalid\"))\n",
    "sw()"
   ]
  },
  {
   "cell_type": "code",
   "execution_count": 81,
   "metadata": {},
   "outputs": [
    {
     "name": "stdin",
     "output_type": "stream",
     "text": [
      "Enter Value :  9\n"
     ]
    },
    {
     "name": "stdout",
     "output_type": "stream",
     "text": [
      "Invalid Option\n"
     ]
    }
   ],
   "source": [
    "def s():\n",
    "    x=int(input(\"Enter Value : \"))\n",
    "    switcher={\n",
    "            0:'Holiday',\n",
    "            1:'Working'\n",
    "        }\n",
    "    print(switcher.get(x,\"Invalid Option\"))\n",
    "s()"
   ]
  },
  {
   "cell_type": "code",
   "execution_count": 82,
   "metadata": {},
   "outputs": [
    {
     "name": "stdin",
     "output_type": "stream",
     "text": [
      "Enter Value :  1\n"
     ]
    },
    {
     "name": "stdout",
     "output_type": "stream",
     "text": [
      "Working\n"
     ]
    }
   ],
   "source": [
    "def s1():\n",
    "    x=(input(\"Enter Value : \"))\n",
    "    switcher={\n",
    "            0:'Holiday',\n",
    "            1:'Working'\n",
    "        }\n",
    "    print(switcher.get(int(x),\"Invalid Option\"))\n",
    "s1()"
   ]
  },
  {
   "cell_type": "code",
   "execution_count": 106,
   "metadata": {},
   "outputs": [
    {
     "name": "stdin",
     "output_type": "stream",
     "text": [
      "Enter Value :  9\n"
     ]
    },
    {
     "name": "stdout",
     "output_type": "stream",
     "text": [
      "Holiday\n"
     ]
    }
   ],
   "source": [
    "def s2():\n",
    "    s=(input(\"Enter Value : \"))\n",
    "    if(s.isdigit()):\n",
    "        switcher={\n",
    "                0:\"Working\",\n",
    "                1:\"Holiday\"\n",
    "            }\n",
    "        print(switcher.get(x,\"Invalid Option\"))\n",
    "    else:\n",
    "        switcher={\n",
    "                '1':\"Working in a day\",\n",
    "                '0':\"Holiday in a day\"\n",
    "            }\n",
    "        print(switcher.get(int(x),\"Invalid Option in your choice\"))\n",
    "s2()"
   ]
  },
  {
   "cell_type": "code",
   "execution_count": 103,
   "metadata": {},
   "outputs": [
    {
     "data": {
      "text/plain": [
       "'Monday'"
      ]
     },
     "execution_count": 103,
     "metadata": {},
     "output_type": "execute_result"
    }
   ],
   "source": [
    "def week(i):\n",
    "    switcher={\n",
    "            0:'Sunday',\n",
    "            1:'Monday',\n",
    "            2:'Tuesday',\n",
    "            3:'Wednesday',\n",
    "            4:'Thursday',\n",
    "            5:'Friday',\n",
    "            6:'Saturday'\n",
    "        }\n",
    "    return switcher.get(i,\"Invalid\")\n",
    "week(1)"
   ]
  },
  {
   "cell_type": "markdown",
   "metadata": {},
   "source": [
    "## Looping"
   ]
  },
  {
   "cell_type": "code",
   "execution_count": 108,
   "metadata": {},
   "outputs": [
    {
     "name": "stdout",
     "output_type": "stream",
     "text": [
      "0 a\n",
      "1 b\n",
      "2 c\n"
     ]
    }
   ],
   "source": [
    "for i,x in enumerate(['a','b','c']):\n",
    "    print(i,x)"
   ]
  },
  {
   "cell_type": "code",
   "execution_count": 109,
   "metadata": {},
   "outputs": [
    {
     "name": "stdout",
     "output_type": "stream",
     "text": [
      "q e\n",
      "e t\n",
      "r y\n"
     ]
    }
   ],
   "source": [
    "q=['q','e','r']\n",
    "r=['e','t','y']\n",
    "for q,r in zip(q,r):\n",
    "    print(q,r)"
   ]
  },
  {
   "cell_type": "code",
   "execution_count": 115,
   "metadata": {},
   "outputs": [
    {
     "name": "stdout",
     "output_type": "stream",
     "text": [
      "['ap', 'at', 'cb', 'dd', 'ee']\n"
     ]
    }
   ],
   "source": [
    "print(sorted(['ap','cb','dd','ee','at']))\n"
   ]
  },
  {
   "cell_type": "code",
   "execution_count": 110,
   "metadata": {},
   "outputs": [
    {
     "name": "stdout",
     "output_type": "stream",
     "text": [
      "[1, 2, 2, 3, 4, 7]\n"
     ]
    }
   ],
   "source": [
    "l=[1,2,3,7,4,2]\n",
    "print(sorted(l))"
   ]
  },
  {
   "cell_type": "code",
   "execution_count": 114,
   "metadata": {},
   "outputs": [
    {
     "name": "stdout",
     "output_type": "stream",
     "text": [
      "7 4 3 2 2 1 "
     ]
    }
   ],
   "source": [
    "for i in reversed((sorted(l))):\n",
    "    print(i,end=\" \")"
   ]
  },
  {
   "cell_type": "markdown",
   "metadata": {},
   "source": [
    "## Loops"
   ]
  },
  {
   "cell_type": "code",
   "execution_count": 116,
   "metadata": {},
   "outputs": [
    {
     "name": "stdout",
     "output_type": "stream",
     "text": [
      "3\n",
      "2\n",
      "1\n"
     ]
    }
   ],
   "source": [
    "c=3\n",
    "while(c!=0):\n",
    "    print(c)\n",
    "    c-=1"
   ]
  },
  {
   "cell_type": "code",
   "execution_count": 117,
   "metadata": {},
   "outputs": [
    {
     "name": "stdout",
     "output_type": "stream",
     "text": [
      "Hello\n",
      "Hello\n",
      "Hello\n",
      "Not\n"
     ]
    }
   ],
   "source": [
    "c=0\n",
    "while(c<3):\n",
    "    c+=1\n",
    "    print(\"Hello\")\n",
    "else:\n",
    "    print(\"Not\")"
   ]
  },
  {
   "cell_type": "code",
   "execution_count": 118,
   "metadata": {},
   "outputs": [
    {
     "name": "stdin",
     "output_type": "stream",
     "text": [
      "Enter 1st number :  1\n",
      "Enter 2nd number : 3\n"
     ]
    },
    {
     "name": "stdout",
     "output_type": "stream",
     "text": [
      "1 \n",
      "2 2 \n"
     ]
    }
   ],
   "source": [
    "(x,y)=( (int(input('Enter 1st number : '))), (int(input('Enter 2nd number :'))))\n",
    "\n",
    "for i in range(x,y):\n",
    "    for j in range(i): \n",
    "         print(i, end=' ') \n",
    "    print() \n"
   ]
  },
  {
   "cell_type": "code",
   "execution_count": 119,
   "metadata": {},
   "outputs": [
    {
     "name": "stdout",
     "output_type": "stream",
     "text": [
      "Prime\n"
     ]
    }
   ],
   "source": [
    "def prime(n):\n",
    "    (i,c)=(0,0)\n",
    "    for i in range(2,((n+1)//2)):\n",
    "        if (n%i==0):\n",
    "            c=1;\n",
    "            break;\n",
    "    if(c==0):\n",
    "        print(\"Prime\")\n",
    "    else:\n",
    "        print(\"Not Prime\")\n",
    "prime(71)\n",
    "    \n",
    "    "
   ]
  },
  {
   "cell_type": "code",
   "execution_count": 120,
   "metadata": {},
   "outputs": [
    {
     "name": "stdout",
     "output_type": "stream",
     "text": [
      "\n",
      "A \n",
      "A B \n",
      "A B C \n",
      "A B C D \n",
      "A B C D E \n"
     ]
    }
   ],
   "source": [
    "def cht(n):\n",
    "    a=65\n",
    "    for i in range(n+1):\n",
    "        for j in range(i):\n",
    "            print(chr(a),end=' ')\n",
    "            a=a+1 \n",
    "        a=65\n",
    "        print()\n",
    "cht(5)"
   ]
  },
  {
   "cell_type": "code",
   "execution_count": null,
   "metadata": {},
   "outputs": [],
   "source": []
  }
 ],
 "metadata": {
  "kernelspec": {
   "display_name": "Python 3",
   "language": "python",
   "name": "python3"
  },
  "language_info": {
   "codemirror_mode": {
    "name": "ipython",
    "version": 3
   },
   "file_extension": ".py",
   "mimetype": "text/x-python",
   "name": "python",
   "nbconvert_exporter": "python",
   "pygments_lexer": "ipython3",
   "version": "3.5.2"
  }
 },
 "nbformat": 4,
 "nbformat_minor": 2
}
