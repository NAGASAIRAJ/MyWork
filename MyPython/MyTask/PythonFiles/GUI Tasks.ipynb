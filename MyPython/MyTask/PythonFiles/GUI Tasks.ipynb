{
 "cells": [
  {
   "cell_type": "code",
   "execution_count": 1,
   "metadata": {},
   "outputs": [
    {
     "name": "stdout",
     "output_type": "stream",
     "text": [
      "ipywidgets==7.4.2\n"
     ]
    }
   ],
   "source": [
    "!pip freeze | grep ipywidgets"
   ]
  },
  {
   "cell_type": "code",
   "execution_count": 2,
   "metadata": {},
   "outputs": [
    {
     "name": "stdout",
     "output_type": "stream",
     "text": [
      "/home/test/Raj_Python/bin/python\n"
     ]
    }
   ],
   "source": [
    "!which python"
   ]
  },
  {
   "cell_type": "code",
   "execution_count": 3,
   "metadata": {},
   "outputs": [],
   "source": [
    "from ipywidgets import interact\n",
    "import ipywidgets as widgets"
   ]
  },
  {
   "cell_type": "code",
   "execution_count": 4,
   "metadata": {},
   "outputs": [],
   "source": [
    "def func(x):\n",
    "    return x**2"
   ]
  },
  {
   "cell_type": "code",
   "execution_count": 5,
   "metadata": {},
   "outputs": [
    {
     "data": {
      "text/plain": [
       "1"
      ]
     },
     "metadata": {},
     "output_type": "display_data"
    },
    {
     "data": {
      "text/plain": [
       "<function __main__.func(x)>"
      ]
     },
     "execution_count": 5,
     "metadata": {},
     "output_type": "execute_result"
    }
   ],
   "source": [
    "interact(func,x=True)"
   ]
  },
  {
   "cell_type": "code",
   "execution_count": 6,
   "metadata": {},
   "outputs": [
    {
     "data": {
      "text/plain": [
       "'7.4.2'"
      ]
     },
     "execution_count": 6,
     "metadata": {},
     "output_type": "execute_result"
    }
   ],
   "source": [
    "import ipywidgets; ipywidgets.__version__"
   ]
  },
  {
   "cell_type": "code",
   "execution_count": 7,
   "metadata": {},
   "outputs": [
    {
     "data": {
      "text/plain": [
       "4"
      ]
     },
     "execution_count": 7,
     "metadata": {},
     "output_type": "execute_result"
    }
   ],
   "source": [
    "2*2"
   ]
  },
  {
   "cell_type": "code",
   "execution_count": 8,
   "metadata": {},
   "outputs": [],
   "source": [
    "from turtle import *\n",
    "from freegames import line\n",
    "\n",
    "def grid():\n",
    "   \"Draw tic-tac-toe grid.\"\n",
    "   line(-67, 200, -67, -200)\n",
    "   line(67, 200, 67, -200)\n",
    "   line(-200, -67, 200, -67)\n",
    "   line(-200, 67, 200, 67)\n",
    "\n",
    "def drawx(x, y):\n",
    "   \"Draw X player.\"\n",
    "   line(x, y, x + 133, y + 133)\n",
    "   line(x, y + 133, x + 133, y)\n",
    "\n",
    "def drawo(x, y):\n",
    "   \"Draw O player.\"\n",
    "   up()\n",
    "   goto(x + 67, y + 5)\n",
    "   down()\n",
    "   circle(62)\n",
    "\n",
    "def floor(value):\n",
    "   \"Round value down to grid with square size 133.\"\n",
    "   return ((value + 200) // 133) * 133 - 200\n",
    "\n",
    "state = {'player': 0}\n",
    "players = [drawx, drawo]\n",
    "\n",
    "def tap(x, y):\n",
    "   \"Draw X or O in tapped square.\"\n",
    "   x = floor(x)\n",
    "   y = floor(y)\n",
    "   player = state['player']\n",
    "   draw = players[player]\n",
    "   draw(x, y)\n",
    "   update()\n",
    "   state['player'] = not player\n",
    "\n",
    "setup(420, 420, 370, 0)\n",
    "hideturtle()\n",
    "tracer(False)\n",
    "grid()\n",
    "update()\n",
    "onscreenclick(tap)\n",
    "done()\n"
   ]
  },
  {
   "cell_type": "code",
   "execution_count": null,
   "metadata": {},
   "outputs": [],
   "source": [
    "from __future__ import print_function\n",
    "\n",
    "choices = []\n",
    "\n",
    "for x in range (0, 9) :\n",
    "   choices.append(str(x + 1))\n",
    "\n",
    "playerOneTurn = True\n",
    "winner = False\n",
    "\n",
    "def printBoard() :\n",
    "   print( '\\n -----')\n",
    "   print( '|' + choices[0] + '|' + choices[1] + '|' + choices[2] + '|')\n",
    "   print( ' -----')\n",
    "   print( '|' + choices[3] + '|' + choices[4] + '|' + choices[5] + '|')\n",
    "   print( ' -----')\n",
    "   print( '|' + choices[6] + '|' + choices[7] + '|' + choices[8] + '|')\n",
    "   print( ' -----\\n')\n",
    "\n",
    "while not winner :\n",
    "   printBoard()\n",
    "\n",
    "   if playerOneTurn :\n",
    "       print( \"Player 1:\")\n",
    "   else :\n",
    "       print( \"Player 2:\")\n",
    "\n",
    "   try:\n",
    "       choice = int(input(\">> \"))\n",
    "   except:\n",
    "       print(\"please enter a valid field\")\n",
    "       continue\n",
    "   if choices[choice - 1] == 'X' or choices [choice-1] == 'O':\n",
    "       print(\"illegal move, plase try again\")\n",
    "       continue\n",
    "\n",
    "   if playerOneTurn :\n",
    "       choices[choice - 1] = 'X'\n",
    "   else :\n",
    "       choices[choice - 1] = 'O'\n",
    "\n",
    "   playerOneTurn = not playerOneTurn\n",
    "\n",
    "   for x in range (0, 3) :\n",
    "       y = x * 3\n",
    "       if (choices[y] == choices[(y + 1)] and choices[y] == choices[(y + 2)]) :\n",
    "           winner = True\n",
    "           printBoard()\n",
    "       if (choices[x] == choices[(x + 3)] and choices[x] == choices[(x + 6)]) :\n",
    "           winner = True\n",
    "           printBoard()\n",
    "\n",
    "   if((choices[0] == choices[4] and choices[0] == choices[8]) or\n",
    "      (choices[2] == choices[4] and choices[4] == choices[6])) :\n",
    "       winner = True\n",
    "       printBoard()\n",
    "\n",
    "print (\"Player \" + str(int(playerOneTurn + 1)) + \" wins!\\n\")"
   ]
  },
  {
   "cell_type": "code",
   "execution_count": 9,
   "metadata": {},
   "outputs": [],
   "source": [
    "import numpy as np"
   ]
  },
  {
   "cell_type": "code",
   "execution_count": 10,
   "metadata": {},
   "outputs": [
    {
     "data": {
      "text/plain": [
       "56503267085670146216220839069303701504"
      ]
     },
     "execution_count": 10,
     "metadata": {},
     "output_type": "execute_result"
    }
   ],
   "source": [
    "52**22\n"
   ]
  },
  {
   "cell_type": "code",
   "execution_count": null,
   "metadata": {},
   "outputs": [],
   "source": []
  }
 ],
 "metadata": {
  "kernelspec": {
   "display_name": "Python 3",
   "language": "python",
   "name": "python3"
  },
  "language_info": {
   "codemirror_mode": {
    "name": "ipython",
    "version": 3
   },
   "file_extension": ".py",
   "mimetype": "text/x-python",
   "name": "python",
   "nbconvert_exporter": "python",
   "pygments_lexer": "ipython3",
   "version": "3.6.8"
  }
 },
 "nbformat": 4,
 "nbformat_minor": 2
}
