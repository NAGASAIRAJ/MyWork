{
 "cells": [
  {
   "cell_type": "markdown",
   "metadata": {},
   "source": [
    "## Strings"
   ]
  },
  {
   "cell_type": "code",
   "execution_count": 2,
   "metadata": {},
   "outputs": [
    {
     "name": "stdout",
     "output_type": "stream",
     "text": [
      "Hello World\n",
      "\n",
      "I'm Good Software Developer\n",
      "\n",
      "Hello'd, World.!!\n",
      "\n",
      "Hello\n",
      "    It's being \n",
      "    a happy day to me\n",
      "\n",
      "This is Raj in THRYMR\n",
      "\n",
      "This is \\x47\\x65\\x65\\x6b\\x73 in \\x48\\x45\\x57\n",
      "\n"
     ]
    }
   ],
   "source": [
    "s=\"Hello World\"\n",
    "print (s)\n",
    "print()\n",
    "\n",
    "print(\"I\\'m Good Software Developer\")\n",
    "print()\n",
    "\n",
    "print('''Hello'd, World.!!''')\n",
    "print()\n",
    "\n",
    "s1='''Hello\n",
    "    It\\'s being \n",
    "    a happy day to me'''\n",
    "print (s1)\n",
    "print()\n",
    "\n",
    "S1 = \"This is \\x52\\x61\\x6a in \\x54\\x48\\x52\\x59\\x4D\\x52\"\n",
    "print(S1)\n",
    "print()\n",
    "\n",
    "#The below syntax of'r' is for representing the entire String in Raw Format by ignoring every Escape Characters\n",
    "S11=r\"This is \\x47\\x65\\x65\\x6b\\x73 in \\x48\\x45\\x57\"\n",
    "print(S11)\n",
    "print()\n"
   ]
  },
  {
   "cell_type": "markdown",
   "metadata": {},
   "source": [
    "## Accessing Characters"
   ]
  },
  {
   "cell_type": "code",
   "execution_count": 3,
   "metadata": {},
   "outputs": [
    {
     "name": "stdout",
     "output_type": "stream",
     "text": [
      "26\n",
      "\n",
      "r r\n",
      "\n",
      "ymr Software Programme\t\tmr Software Programm\n",
      "\n",
      "True True\n",
      "\n"
     ]
    }
   ],
   "source": [
    "s2=\"Thrymr Software Programmer\"\n",
    "print(len(s2))\n",
    "print()\n",
    "\n",
    "print(s2[25]+\" \"+s2[-1])\n",
    "print()\n",
    "\n",
    "print(s2[3:25]+\"\\t\\t\"+s2[4:-2])\n",
    "print()\n",
    "\n",
    "print(s2.startswith(\"Th\"),s2.endswith(\"er\"))\n",
    "print()\n"
   ]
  },
  {
   "cell_type": "markdown",
   "metadata": {},
   "source": [
    "## Updating, Deleting on a String"
   ]
  },
  {
   "cell_type": "code",
   "execution_count": 4,
   "metadata": {},
   "outputs": [
    {
     "name": "stdout",
     "output_type": "stream",
     "text": [
      "Thrymr Software Programmer\n",
      "\n",
      "Hello, Thrymr\n",
      "\n"
     ]
    },
    {
     "ename": "TypeError",
     "evalue": "'str' object doesn't support item deletion",
     "output_type": "error",
     "traceback": [
      "\u001b[0;31m---------------------------------------------------------------------------\u001b[0m",
      "\u001b[0;31mTypeError\u001b[0m                                 Traceback (most recent call last)",
      "\u001b[0;32m<ipython-input-4-0031dea9276d>\u001b[0m in \u001b[0;36m<module>\u001b[0;34m\u001b[0m\n\u001b[1;32m      9\u001b[0m \u001b[0;34m\u001b[0m\u001b[0m\n\u001b[1;32m     10\u001b[0m \u001b[0;31m#Deletion is not possible in String anywhere, as String is Immutable\u001b[0m\u001b[0;34m\u001b[0m\u001b[0;34m\u001b[0m\u001b[0m\n\u001b[0;32m---> 11\u001b[0;31m \u001b[0;32mdel\u001b[0m \u001b[0ms3\u001b[0m\u001b[0;34m[\u001b[0m\u001b[0;36m2\u001b[0m\u001b[0;34m]\u001b[0m\u001b[0;34m\u001b[0m\u001b[0m\n\u001b[0m\u001b[1;32m     12\u001b[0m \u001b[0mprint\u001b[0m\u001b[0;34m(\u001b[0m\u001b[0ms3\u001b[0m\u001b[0;34m)\u001b[0m\u001b[0;34m\u001b[0m\u001b[0m\n\u001b[1;32m     13\u001b[0m \u001b[0mprint\u001b[0m\u001b[0;34m(\u001b[0m\u001b[0;34m)\u001b[0m\u001b[0;34m\u001b[0m\u001b[0m\n",
      "\u001b[0;31mTypeError\u001b[0m: 'str' object doesn't support item deletion"
     ]
    }
   ],
   "source": [
    "#Updation\n",
    "s3=s2\n",
    "print (s3)\n",
    "print()\n",
    "\n",
    "s3=\"Hello, Thrymr\"\n",
    "print(s3)\n",
    "print()\n",
    "\n",
    "#Deletion is not possible in String anywhere, as String is Immutable\n",
    "del s3[2]\n",
    "print(s3)\n",
    "print()\n"
   ]
  },
  {
   "cell_type": "code",
   "execution_count": 5,
   "metadata": {},
   "outputs": [
    {
     "ename": "NameError",
     "evalue": "name 's3' is not defined",
     "output_type": "error",
     "traceback": [
      "\u001b[0;31m---------------------------------------------------------------------------\u001b[0m",
      "\u001b[0;31mNameError\u001b[0m                                 Traceback (most recent call last)",
      "\u001b[0;32m<ipython-input-5-8cc989270c0d>\u001b[0m in \u001b[0;36m<module>\u001b[0;34m\u001b[0m\n\u001b[1;32m      1\u001b[0m \u001b[0;31m#But Deletion of entire String is possible at once\u001b[0m\u001b[0;34m\u001b[0m\u001b[0;34m\u001b[0m\u001b[0m\n\u001b[1;32m      2\u001b[0m \u001b[0;32mdel\u001b[0m \u001b[0ms3\u001b[0m\u001b[0;34m\u001b[0m\u001b[0m\n\u001b[0;32m----> 3\u001b[0;31m \u001b[0mprint\u001b[0m\u001b[0;34m(\u001b[0m\u001b[0ms3\u001b[0m\u001b[0;34m)\u001b[0m\u001b[0;34m\u001b[0m\u001b[0m\n\u001b[0m\u001b[1;32m      4\u001b[0m \u001b[0mprint\u001b[0m\u001b[0;34m(\u001b[0m\u001b[0;34m)\u001b[0m\u001b[0;34m\u001b[0m\u001b[0m\n\u001b[1;32m      5\u001b[0m \u001b[0;31m#After deletion of s3 String, It's shows that s3 is nt defined\u001b[0m\u001b[0;34m\u001b[0m\u001b[0;34m\u001b[0m\u001b[0m\n",
      "\u001b[0;31mNameError\u001b[0m: name 's3' is not defined"
     ]
    }
   ],
   "source": [
    "#But Deletion of entire String is possible at once\n",
    "del s3\n",
    "print(s3)\n",
    "print()\n",
    "#After deletion of s3 String, It's shows that s3 is nt defined"
   ]
  },
  {
   "cell_type": "markdown",
   "metadata": {},
   "source": [
    "## Formatting of Strings"
   ]
  },
  {
   "cell_type": "code",
   "execution_count": 6,
   "metadata": {},
   "outputs": [
    {
     "name": "stdout",
     "output_type": "stream",
     "text": [
      "Hello, This's Raj\n",
      "\n",
      "Hello, This's Raj in Thrymr\n",
      "\n",
      "Hello, to everyone\n",
      "\n",
      "11001\t\t3.245320e+02\t\t78\t\t144\n",
      "\n",
      "Hello, I'm currently working here since 6 days\n",
      "\n",
      "0.11\t\t|Hello,    |    to    |Thrymr Employee|\n",
      "\n",
      "134.54\t\t134.5439\n",
      "\n"
     ]
    }
   ],
   "source": [
    "s4=\"{}{}{}\".format(\"Hello, \",\"This's \",\"Raj\")\n",
    "print(s4)\n",
    "print()\n",
    "\n",
    "s44=\"{1}{0}{3}{2}{4}\".format(\"This's \",\"Hello, \",\"in \",\"Raj \",\"Thrymr\")\n",
    "print(s44)\n",
    "print()\n",
    "\n",
    "ss4=\"{l}{m}{h}\".format(l=\"Hello, \",h=\"everyone\", m=\"to \")\n",
    "print(ss4)\n",
    "print()\n",
    "\n",
    "ss44=\"{0:b}\".format(25)\n",
    "sss4=\"{0:e}\".format(324.532)\n",
    "ss_4=\"{0:o}\".format(100)\n",
    "s444=\"{0:.2f}\".format(1/9)\n",
    "_4s=\"{0:.0f}\".format(78.231)\n",
    "ss4s=\"|{:<10}|{:^10}|{:>10}|\".format(\"Hello,\", \"to\", \"Thrymr Employee\")\n",
    "s4ss=\"Hello, I'm currently working here since {} days\".format(6)\n",
    "print(ss44+\"\\t\\t\"+sss4+\"\\t\\t\"+_4s+\"\\t\\t\"+ss_4)\n",
    "print()\n",
    "print(s4ss+\"\\n\")\n",
    "print(s444+\"\\t\\t\"+ss4s)\n",
    "print()\n",
    "s44s=134.54393\n",
    "print(\"%3.2f\"%s44s+\"\\t\\t\"+\"%3.4f\"%s44s)\n",
    "print()"
   ]
  },
  {
   "cell_type": "markdown",
   "metadata": {},
   "source": [
    "## Some Other Methods in Strings"
   ]
  },
  {
   "cell_type": "code",
   "execution_count": 7,
   "metadata": {},
   "outputs": [
    {
     "name": "stdout",
     "output_type": "stream",
     "text": [
      "abcdefghijklmnopqrstuvwxyzABCDEFGHIJKLMNOPQRSTUVWXYZ\n",
      "\n",
      "True\n",
      "True\n",
      "True\n",
      "\n",
      "lPk41b80mVvB5rvNM9nJ\n",
      "\n"
     ]
    }
   ],
   "source": [
    "import string\n",
    "import random\n",
    "s5=string.ascii_letters\n",
    "print(s5)\n",
    "print()\n",
    "\n",
    "def asc(ss5):\n",
    "    for l in ss5:\n",
    "        if ((l in string.ascii_letters) and (l in string.ascii_lowercase)):\n",
    "            return True\n",
    "        elif ((l in string.ascii_letters) or (l in string.ascii_lowercase)):\n",
    "            return True\n",
    "        else:\n",
    "            return False\n",
    "print(asc(\"ThrymrSoftware\"))\n",
    "print(asc(\"Hello hai\"))\n",
    "print(asc(\"helloraj\"))\n",
    "print()\n",
    "l=0\n",
    "\n",
    "def rand(size):\n",
    "    s55=''.join([random.choice(s5+string.digits)for l in range (size) ])\n",
    "    return s55\n",
    "print(rand(20))\n",
    "print()\n"
   ]
  },
  {
   "cell_type": "code",
   "execution_count": 32,
   "metadata": {},
   "outputs": [
    {
     "name": "stdout",
     "output_type": "stream",
     "text": [
      "True \n",
      "\n",
      "27 \n",
      "\n",
      "Hello World \n",
      "\n",
      "hELLO wORLD\n",
      "\n",
      "HELLO World\n",
      "\n",
      "00000Hello World \n",
      "\n",
      "HELlo World\n",
      "\n",
      "False \n",
      "\n",
      "True \n",
      "\n",
      "('Hel', 'lo', ' World') \n",
      "\n",
      "False \n",
      "\n",
      "8 \n",
      "\n",
      "r \n",
      "\n",
      "['Cat', 'Bat', 'Sat', 'Mat', 'Xat', 'Eat'] \n",
      "\n",
      "['India', 'Japan', 'USA', 'UK', 'Canada'] \n",
      "\n",
      "['Cat\\n', 'Bat\\n', 'Sat\\n', 'Mat\\n', 'Xat\\n', 'Eat'] \n",
      "\n",
      "Hello world \n",
      "\n",
      "India       Japan       USA \n",
      "\n",
      "6 \n",
      "\n",
      "\n"
     ]
    }
   ],
   "source": [
    "l=\"18039\"\n",
    "print(l.isdecimal(),\"\\n\")\n",
    "\n",
    "s6=\"Thrymr is Software Company\"\n",
    "print(s6.rfind(\"a\"),\"\\n\")\n",
    "\n",
    "print(s,\"\\n\")\n",
    "\n",
    "print(s.swapcase()+\"\\n\")\n",
    "\n",
    "print(s.replace(\"Hello\",\"HELLO\")+\"\\n\")\n",
    "\n",
    "print(s.zfill(16),\"\\n\")\n",
    "\n",
    "print(s.replace(\"el\",\"EL\")+\"\\n\")\n",
    "\n",
    "print(s.isalnum(),\"\\n\")\n",
    "\n",
    "print(s.istitle(),\"\\n\")\n",
    "\n",
    "print(s.partition(\"lo\"),\"\\n\")\n",
    "\n",
    "print(s.isidentifier(),\"\\n\")\n",
    "\n",
    "print(s.rindex(\"rl\"),\"\\n\")\n",
    "\n",
    "print(max(s),\"\\n\")\n",
    "\n",
    "#print(min(s),\"\\n\")\n",
    "\n",
    "print(\"Cat\\nBat\\nSat\\nMat\\nXat\\nEat\".splitlines(),\"\\n\")\n",
    "\n",
    "print(\"India\\nJapan\\nUSA\\nUK\\nCanada\\n\".splitlines(0),\"\\n\")\n",
    "\n",
    "print(\"Cat\\nBat\\nSat\\nMat\\nXat\\nEat\".splitlines(True),\"\\n\")\n",
    "\n",
    "print(s.capitalize(),\"\\n\")\n",
    "\n",
    "print(\"India\\tJapan\\tUSA\".expandtabs(12),\"\\n\")\n",
    "\n",
    "print(s.find(\"World\"),\"\\n\")\n",
    "\n",
    "print()"
   ]
  },
  {
   "cell_type": "markdown",
   "metadata": {},
   "source": [
    "## Example"
   ]
  },
  {
   "cell_type": "code",
   "execution_count": 22,
   "metadata": {},
   "outputs": [
    {
     "name": "stdout",
     "output_type": "stream",
     "text": [
      "['India', 'Japan', 'USA', 'UK', 'Canada'] \t\n"
     ]
    },
    {
     "data": {
      "text/plain": [
       "[5, 5, 3, 2, 6]"
      ]
     },
     "execution_count": 22,
     "metadata": {},
     "output_type": "execute_result"
    }
   ],
   "source": [
    "def count(s6):\n",
    "    li=s6.splitlines()\n",
    "    print (li,'\\t')\n",
    "    \n",
    "    lll=[len(inn) for inn in li]\n",
    "    return lll\n",
    "count(\"India\\nJapan\\nUSA\\nUK\\nCanada\\n\")"
   ]
  },
  {
   "cell_type": "code",
   "execution_count": null,
   "metadata": {},
   "outputs": [],
   "source": []
  }
 ],
 "metadata": {
  "kernelspec": {
   "display_name": "Python 3",
   "language": "python",
   "name": "python3"
  },
  "language_info": {
   "codemirror_mode": {
    "name": "ipython",
    "version": 3
   },
   "file_extension": ".py",
   "mimetype": "text/x-python",
   "name": "python",
   "nbconvert_exporter": "python",
   "pygments_lexer": "ipython3",
   "version": "3.5.2"
  }
 },
 "nbformat": 4,
 "nbformat_minor": 2
}
