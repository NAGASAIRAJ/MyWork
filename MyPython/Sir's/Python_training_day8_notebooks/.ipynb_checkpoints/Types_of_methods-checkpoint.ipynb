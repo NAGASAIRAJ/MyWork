{
 "cells": [
  {
   "cell_type": "code",
   "execution_count": 5,
   "metadata": {},
   "outputs": [
    {
     "name": "stdout",
     "output_type": "stream",
     "text": [
      "33.33\n"
     ]
    }
   ],
   "source": [
    "class Student:\n",
    "        \n",
    "    school = \"Thrymr\"\n",
    "    \n",
    "    def __init__(self,m1,m2,m3):\n",
    "        self.m1 = m1\n",
    "        self.m2 = m2\n",
    "        self.m3 = m3\n",
    "        \n",
    "    def avg(self):\n",
    "        return round((self.m1 + self.m2 + self.m3)/3,2)\n",
    "    \n",
    "s1 = Student(30,40,30)\n",
    "s2 = Student(40,60,20)\n",
    "\n",
    "print(s1.avg())"
   ]
  },
  {
   "cell_type": "code",
   "execution_count": 21,
   "metadata": {},
   "outputs": [
    {
     "name": "stdout",
     "output_type": "stream",
     "text": [
      "Thrymr\n",
      "True\n",
      "33.33\n"
     ]
    }
   ],
   "source": [
    "class Student:\n",
    "        \n",
    "    school = \"Thrymr\"\n",
    "    \n",
    "    def __init__(self,m1,m2,m3):\n",
    "        self.m1 = m1\n",
    "        self.m2 = m2\n",
    "        self.m3 = m3\n",
    "        \n",
    "    def avg(self):\n",
    "        return round((self.m1 + self.m2 + self.m3)/3,2)\n",
    "    \n",
    "    @classmethod\n",
    "    def info(cls):\n",
    "        return cls.school\n",
    "    \n",
    "    @staticmethod\n",
    "    def succeed(m1):\n",
    "        return m1>18\n",
    "    \n",
    "    \n",
    "s1 = Student(30,40,30)\n",
    "s2 = Student(40,60,20)\n",
    "print(Student.info())\n",
    "print(Student.succeed(s1.m1))\n",
    "print(s1.avg())"
   ]
  },
  {
   "cell_type": "markdown",
   "metadata": {},
   "source": [
    "### INNER CLASS IN PYTHON"
   ]
  },
  {
   "cell_type": "code",
   "execution_count": 36,
   "metadata": {},
   "outputs": [
    {
     "name": "stdout",
     "output_type": "stream",
     "text": [
      "Navin 2\n",
      "HP i5 0\n"
     ]
    }
   ],
   "source": [
    "class Student:\n",
    "    \n",
    "    def __init__(self,name,rollno):\n",
    "        self.name = name\n",
    "        self.rollno = rollno\n",
    "        self.lap = self.Laptop()\n",
    "        \n",
    "    \n",
    "    def show(self):\n",
    "        print(self.name, self.rollno)\n",
    "        self.lap.show()\n",
    "        \n",
    "    class Laptop:\n",
    "        \n",
    "        def __init__(self):\n",
    "            self.brand = \"HP\"\n",
    "            self.cpu = \"i5\"\n",
    "            self.ram = 0\n",
    "            \n",
    "        def show(self):\n",
    "            print(self.brand,self.cpu,self.ram)\n",
    "            \n",
    "s1 = Student(\"Navin\",2)\n",
    "s2 = Student(\"Jenny\",3)\n",
    "\n",
    "s1.show()\n",
    "\n",
    "lap1 = Student.Laptop()\n"
   ]
  },
  {
   "cell_type": "markdown",
   "metadata": {},
   "source": [
    "### INHERITANCE IN PYTHON"
   ]
  },
  {
   "cell_type": "code",
   "execution_count": 40,
   "metadata": {},
   "outputs": [
    {
     "name": "stdout",
     "output_type": "stream",
     "text": [
      "feature 1 working\n",
      "feature 2 working\n"
     ]
    }
   ],
   "source": [
    "class A :\n",
    "    \n",
    "    def feature1(self):\n",
    "        print(\"feature 1 working\")\n",
    "    \n",
    "    def feature2(self):\n",
    "        print(\"feature 2 working\")\n",
    "        \n",
    "class B :\n",
    "    \n",
    "    def feature3(self):\n",
    "        print(\"feature 3 working\")\n",
    "    \n",
    "    def feature4(self):\n",
    "        print(\"feature 4 working\")\n",
    "        \n",
    "a1 = A() \n",
    "\n",
    "a1.feature1()\n",
    "a1.feature2()"
   ]
  },
  {
   "cell_type": "code",
   "execution_count": 42,
   "metadata": {},
   "outputs": [
    {
     "name": "stdout",
     "output_type": "stream",
     "text": [
      "feature 1 working\n",
      "feature 2 working\n"
     ]
    }
   ],
   "source": [
    "class A :\n",
    "    \n",
    "    def feature1(self):\n",
    "        print(\"feature 1 working\")\n",
    "    \n",
    "    def feature2(self):\n",
    "        print(\"feature 2 working\")\n",
    "        \n",
    "class B(A) :\n",
    "    \n",
    "    def feature3(self):\n",
    "        print(\"feature 3 working\")\n",
    "    \n",
    "    def feature4(self):\n",
    "        print(\"feature 4 working\")\n",
    "        \n",
    "b1= B() \n",
    "\n",
    "b1.feature1()\n",
    "b1.feature2()"
   ]
  },
  {
   "cell_type": "code",
   "execution_count": 45,
   "metadata": {},
   "outputs": [
    {
     "name": "stdout",
     "output_type": "stream",
     "text": [
      "feature 1 working\n",
      "feature 2 working\n"
     ]
    }
   ],
   "source": [
    "class A :\n",
    "    \n",
    "    def feature1(self):\n",
    "        print(\"feature 1 working\")\n",
    "    \n",
    "    def feature2(self):\n",
    "        print(\"feature 2 working\")\n",
    "        \n",
    "class B(A) :\n",
    "    \n",
    "    def feature3(self):\n",
    "        print(\"feature 3 working\")\n",
    "    \n",
    "    def feature4(self):\n",
    "        print(\"feature 4 working\")\n",
    "        \n",
    "class c(B) :\n",
    "    def feature5(self):\n",
    "        print(\"feature 5 working\")\n",
    "        \n",
    "c1= c() \n",
    "\n",
    "c1.feature1()\n",
    "c1.feature2()"
   ]
  },
  {
   "cell_type": "code",
   "execution_count": null,
   "metadata": {},
   "outputs": [],
   "source": []
  }
 ],
 "metadata": {
  "kernelspec": {
   "display_name": "Python 3",
   "language": "python",
   "name": "python3"
  },
  "language_info": {
   "codemirror_mode": {
    "name": "ipython",
    "version": 3
   },
   "file_extension": ".py",
   "mimetype": "text/x-python",
   "name": "python",
   "nbconvert_exporter": "python",
   "pygments_lexer": "ipython3",
   "version": "3.5.2"
  }
 },
 "nbformat": 4,
 "nbformat_minor": 2
}
