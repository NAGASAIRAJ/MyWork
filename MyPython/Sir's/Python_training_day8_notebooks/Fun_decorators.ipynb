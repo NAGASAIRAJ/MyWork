{
 "cells": [
  {
   "cell_type": "code",
   "execution_count": 3,
   "metadata": {},
   "outputs": [
    {
     "name": "stdout",
     "output_type": "stream",
     "text": [
      "Welcome to GeeksforGeeks\n"
     ]
    }
   ],
   "source": [
    "# A Python program to demonstrate that a function \n",
    "# can be defined inside another function and a \n",
    "# function can be passed as parameter. \n",
    "\n",
    "# Adds a welcome message to the string \n",
    "def messageWithWelcome(str): \n",
    "\n",
    "    # Nested function \n",
    "    def addWelcome(): \n",
    "        return \"Welcome to \"\n",
    "\n",
    "    # Return concatenation of addWelcome() \n",
    "    # and str. \n",
    "    return addWelcome() + str\n",
    "\n",
    "# To get site name to which welcome is added \n",
    "def site(site_name): \n",
    "    return site_name \n",
    "\n",
    "print (messageWithWelcome(site(\"GeeksforGeeks\"))) \n"
   ]
  },
  {
   "cell_type": "code",
   "execution_count": 44,
   "metadata": {},
   "outputs": [
    {
     "name": "stdout",
     "output_type": "stream",
     "text": [
      "Welcome to GeeksforGeeks\n"
     ]
    }
   ],
   "source": [
    "# Adds a welcome message to the string \n",
    "# returned by fun(). Takes fun() as \n",
    "# parameter and returns welcome(). \n",
    "def decorate_message(fun): \n",
    "\n",
    "    # Nested function \n",
    "    def addWelcome(site_name): \n",
    "        return \"Welcome to \" + fun(site_name) \n",
    "\n",
    "    # Decorator returns a function \n",
    "    return addWelcome \n",
    "\n",
    "@decorate_message\n",
    "def site(site_name): \n",
    "    return site_name; \n",
    "\n",
    "# Driver code \n",
    "\n",
    "# This call is equivalent to call to \n",
    "# decorate_message() with function \n",
    "# site(\"GeeksforGeeks\") as parameter \n",
    "print (site(\"GeeksforGeeks\")) \n"
   ]
  },
  {
   "cell_type": "code",
   "execution_count": 8,
   "metadata": {},
   "outputs": [
    {
     "name": "stdout",
     "output_type": "stream",
     "text": [
      "5\n",
      "3\n"
     ]
    }
   ],
   "source": [
    "# A Python example to demonstrate that \n",
    "# decorators can be useful attach data \n",
    "\n",
    "# A decorator function to attach \n",
    "# data to func \n",
    "def attach_data(func): \n",
    "    func.data = 3\n",
    "    return func \n",
    "\n",
    "@attach_data\n",
    "def add (x, y): \n",
    "    return x + y \n",
    "\n",
    "# Driver code \n",
    "\n",
    "# This call is equivalent to attach_data() \n",
    "# with add() as parameter \n",
    "print(add(2, 3)) \n",
    "\n",
    "print(add.data) \n"
   ]
  },
  {
   "cell_type": "code",
   "execution_count": 45,
   "metadata": {},
   "outputs": [
    {
     "name": "stdout",
     "output_type": "stream",
     "text": [
      "Hello, this is before function execution\n",
      "This is inside the function !!\n",
      "This is after function execution\n"
     ]
    }
   ],
   "source": [
    "# defining a decorator \n",
    "def hello_decorator(func): \n",
    "\n",
    "# inner1 is a Wrapper function in \n",
    "# which the argument is called \n",
    "\n",
    "# inner function can access the outer local \n",
    "# functions like in this case \"func\" \n",
    "    def inner1(): \n",
    "        print(\"Hello, this is before function execution\") \n",
    "\n",
    "# calling the actual function now \n",
    "# inside the wrapper function. \n",
    "        func() \n",
    "\n",
    "        print(\"This is after function execution\") \n",
    "\n",
    "    return inner1 \n",
    "\n",
    "\n",
    "# defining a function, to be called inside wrapper \n",
    "def function_to_be_used(): \n",
    "    print(\"This is inside the function !!\") \n",
    "\n",
    "\n",
    "# passing 'function_to_be_used' inside the \n",
    "# decorator to control its behavior \n",
    "function_to_be_used = hello_decorator(function_to_be_used) \n",
    "\n",
    "\n",
    "# calling the function \n",
    "function_to_be_used() \n"
   ]
  },
  {
   "cell_type": "code",
   "execution_count": 48,
   "metadata": {},
   "outputs": [
    {
     "name": "stdout",
     "output_type": "stream",
     "text": [
      "before Execution\n",
      "Inside the function\n",
      "after Execution\n",
      "Sum = 3\n"
     ]
    }
   ],
   "source": [
    "def hello_decorator(func): \n",
    "    def inner1(*args, **kwargs): \n",
    "\n",
    "        print(\"before Execution\") \n",
    "\n",
    "# getting the returned value \n",
    "        returned_value = func(*args, **kwargs) \n",
    "        print(\"after Execution\") \n",
    "\n",
    "# returning the value to the original frame \n",
    "        return returned_value \n",
    "\n",
    "    return inner1 \n",
    "\n",
    "\n",
    "# adding decorator to the function \n",
    "@hello_decorator\n",
    "def sum_two_numbers(a, b): \n",
    "    print(\"Inside the function\") \n",
    "    return a + b \n",
    "\n",
    "a, b = 1, 2\n",
    "\n",
    "# getting the value through return of the function \n",
    "print(\"Sum =\",sum_two_numbers(a, b)) \n"
   ]
  },
  {
   "cell_type": "code",
   "execution_count": 49,
   "metadata": {},
   "outputs": [
    {
     "name": "stdout",
     "output_type": "stream",
     "text": [
      "Inside decorator\n",
      "Inside inner function\n",
      "I like geeksforgeeks\n",
      "Inside actual function\n"
     ]
    }
   ],
   "source": [
    "# Python code to illustrate \n",
    "# Decorators with parameters in Python \n",
    "\n",
    "def decorator(*args, **kwargs): \n",
    "    print(\"Inside decorator\") \n",
    "    def inner(func): \n",
    "        print(\"Inside inner function\") \n",
    "        print(\"I like\", kwargs['like']) \n",
    "        return func \n",
    "    return inner \n",
    "\n",
    "@decorator(like = \"geeksforgeeks\") \n",
    "def func(): \n",
    "    print(\"Inside actual function\") \n",
    "\n",
    "func() \n"
   ]
  },
  {
   "cell_type": "code",
   "execution_count": 30,
   "metadata": {},
   "outputs": [
    {
     "name": "stdout",
     "output_type": "stream",
     "text": [
      "120\n"
     ]
    }
   ],
   "source": [
    "# Simple recursive program to find factorial \n",
    "def f(num): \n",
    "\tif num == 1: \n",
    "\t\treturn 1\n",
    "\telse: \n",
    "\t\treturn num * f(num-1) \n",
    "\t\t\n",
    "\n",
    "print(facto(5)) \n"
   ]
  },
  {
   "cell_type": "code",
   "execution_count": 51,
   "metadata": {},
   "outputs": [
    {
     "name": "stdout",
     "output_type": "stream",
     "text": [
      "Help on class Helper in module __main__:\n",
      "\n",
      "class Helper(builtins.object)\n",
      " |  Methods defined here:\n",
      " |  \n",
      " |  __init__(self)\n",
      " |      The helper class is initialized\n",
      " |  \n",
      " |  print_help(self)\n",
      " |      Returns the help description\n",
      " |  \n",
      " |  ----------------------------------------------------------------------\n",
      " |  Data descriptors defined here:\n",
      " |  \n",
      " |  __dict__\n",
      " |      dictionary for instance variables (if defined)\n",
      " |  \n",
      " |  __weakref__\n",
      " |      list of weak references to the object (if defined)\n",
      "\n",
      "Help on function print_help in module __main__:\n",
      "\n",
      "print_help(self)\n",
      "    Returns the help description\n",
      "\n"
     ]
    }
   ],
   "source": [
    "class Helper: \n",
    "    def __init__(self): \n",
    "        '''The helper class is initialized'''\n",
    "\n",
    "    def print_help(self): \n",
    "        '''Returns the help description'''\n",
    "        print('helper description') \n",
    "\n",
    "help(Helper) \n",
    "help(Helper.print_help) \n"
   ]
  },
  {
   "cell_type": "code",
   "execution_count": 52,
   "metadata": {},
   "outputs": [
    {
     "name": "stdout",
     "output_type": "stream",
     "text": [
      "range(0, 6)\n"
     ]
    },
    {
     "ename": "TypeError",
     "evalue": "'range' object is not an iterator",
     "output_type": "error",
     "traceback": [
      "\u001b[0;31m---------------------------------------------------------------------------\u001b[0m",
      "\u001b[0;31mTypeError\u001b[0m                                 Traceback (most recent call last)",
      "\u001b[0;32m<ipython-input-52-f2ed979472c9>\u001b[0m in \u001b[0;36m<module>\u001b[0;34m\u001b[0m\n\u001b[1;32m      9\u001b[0m \u001b[0;34m\u001b[0m\u001b[0m\n\u001b[1;32m     10\u001b[0m \u001b[0;31m# it will generate error\u001b[0m\u001b[0;34m\u001b[0m\u001b[0;34m\u001b[0m\u001b[0m\n\u001b[0;32m---> 11\u001b[0;31m \u001b[0mprint\u001b[0m\u001b[0;34m(\u001b[0m\u001b[0mnext\u001b[0m\u001b[0;34m(\u001b[0m\u001b[0mdemo\u001b[0m\u001b[0;34m)\u001b[0m\u001b[0;34m)\u001b[0m\u001b[0;34m\u001b[0m\u001b[0m\n\u001b[0m",
      "\u001b[0;31mTypeError\u001b[0m: 'range' object is not an iterator"
     ]
    }
   ],
   "source": [
    "# Python program to understand range \n",
    "# this creates a list of 0 to 5 \n",
    "# integers \n",
    "\n",
    "demo = range(6) \n",
    "\n",
    "# print the demo \n",
    "print(demo) \n",
    "\n",
    "# it will generate error \n",
    "print(next(demo)) \n"
   ]
  },
  {
   "cell_type": "code",
   "execution_count": 53,
   "metadata": {},
   "outputs": [
    {
     "name": "stdout",
     "output_type": "stream",
     "text": [
      "range(1, 31, 2)\n",
      "1\n",
      "2\n",
      "11\n",
      "14\n"
     ]
    }
   ],
   "source": [
    "# Python program to understand range \n",
    "\n",
    "# creates a demo range \n",
    "demo = range(1, 31, 2) \n",
    "\n",
    "# print the range \n",
    "print(demo) \n",
    "\n",
    "# print the start of range \n",
    "print(demo.start) \n",
    "\n",
    "# print step of range \n",
    "print(demo.step) \n",
    "\n",
    "# print the index of element 23 \n",
    "print(demo.index(23)) \n",
    "\n",
    "# since 30 is not present it will give error \n",
    "print(demo.index(29)) \n"
   ]
  },
  {
   "cell_type": "code",
   "execution_count": 54,
   "metadata": {},
   "outputs": [
    {
     "name": "stdout",
     "output_type": "stream",
     "text": [
      "6\n",
      "6\n"
     ]
    }
   ],
   "source": [
    "num = 40\n",
    "print(num.bit_length()) \n",
    "\n",
    "num = -40\n",
    "print(num.bit_length()) \n"
   ]
  },
  {
   "cell_type": "code",
   "execution_count": 50,
   "metadata": {},
   "outputs": [
    {
     "data": {
      "text/plain": [
       "\u001b[0;31mInit signature:\u001b[0m \u001b[0mlist\u001b[0m\u001b[0;34m(\u001b[0m\u001b[0mself\u001b[0m\u001b[0;34m,\u001b[0m \u001b[0;34m/\u001b[0m\u001b[0;34m,\u001b[0m \u001b[0;34m*\u001b[0m\u001b[0margs\u001b[0m\u001b[0;34m,\u001b[0m \u001b[0;34m**\u001b[0m\u001b[0mkwargs\u001b[0m\u001b[0;34m)\u001b[0m\u001b[0;34m\u001b[0m\u001b[0m\n",
       "\u001b[0;31mDocstring:\u001b[0m     \n",
       "list() -> new empty list\n",
       "list(iterable) -> new list initialized from iterable's items\n",
       "\u001b[0;31mType:\u001b[0m           type\n",
       "\u001b[0;31mSubclasses:\u001b[0m     List, List, _ExplodedList, List, _ImmutableLineList, SList, List, _Accumulator, List, List, ...\n"
      ]
     },
     "metadata": {},
     "output_type": "display_data"
    }
   ],
   "source": [
    "?list"
   ]
  },
  {
   "cell_type": "code",
   "execution_count": null,
   "metadata": {},
   "outputs": [],
   "source": []
  }
 ],
 "metadata": {
  "kernelspec": {
   "display_name": "Python 3",
   "language": "python",
   "name": "python3"
  },
  "language_info": {
   "codemirror_mode": {
    "name": "ipython",
    "version": 3
   },
   "file_extension": ".py",
   "mimetype": "text/x-python",
   "name": "python",
   "nbconvert_exporter": "python",
   "pygments_lexer": "ipython3",
   "version": "3.5.2"
  }
 },
 "nbformat": 4,
 "nbformat_minor": 2
}
