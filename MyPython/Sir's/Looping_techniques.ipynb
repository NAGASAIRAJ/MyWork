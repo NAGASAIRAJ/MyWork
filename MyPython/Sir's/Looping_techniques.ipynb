{
 "cells": [
  {
   "cell_type": "code",
   "execution_count": null,
   "metadata": {},
   "outputs": [],
   "source": [
    "# Different looping techniques using Python data structures  are:\n",
    "# Using enumerate():  \n",
    "# enumerate() is used to loop through the containers printing the index number along with the value present in that particular index."
   ]
  },
  {
   "cell_type": "code",
   "execution_count": 11,
   "metadata": {},
   "outputs": [
    {
     "name": "stdout",
     "output_type": "stream",
     "text": [
      "0 The\n",
      "1 Big\n",
      "2 Bang\n",
      "3 Theory\n"
     ]
    }
   ],
   "source": [
    "# python code to demonstrate working of enumerate() \n",
    "\n",
    "for key, value in enumerate(['The', 'Big', 'Bang', 'Theory']): \n",
    "    print(key, value) "
   ]
  },
  {
   "cell_type": "code",
   "execution_count": 12,
   "metadata": {},
   "outputs": [],
   "source": [
    "# Using zip(): zip() is used to combine 2 similar containers(list-list or dict-dict) printing the values sequentially. \n",
    "# The loop exists only till the smaller container ends. "
   ]
  },
  {
   "cell_type": "code",
   "execution_count": 13,
   "metadata": {},
   "outputs": [
    {
     "name": "stdout",
     "output_type": "stream",
     "text": [
      "What is your name? I am apple.\n",
      "What is your colour? I am red.\n",
      "What is your shape? I am a circle.\n"
     ]
    }
   ],
   "source": [
    "# python code to demonstrate working of zip() \n",
    "\n",
    "# initializing list \n",
    "questions = ['name', 'colour', 'shape'] \n",
    "answers = ['apple', 'red', 'a circle'] \n",
    "\n",
    "# using zip() to combine two containers \n",
    "# and print values \n",
    "for question, answer in zip(questions, answers): \n",
    "    print('What is your {0}? I am {1}.'.format(question, answer)) \n"
   ]
  },
  {
   "cell_type": "code",
   "execution_count": 14,
   "metadata": {},
   "outputs": [
    {
     "name": "stdout",
     "output_type": "stream",
     "text": [
      "Car: Aston Price: 570000$\n",
      "Car: Audi Price: 68000$\n",
      "Car: McLaren Price: 450000$\n",
      "Accessory: GPS kit Price: 8900$\n",
      "Accessory: Car repair-tool kit Price: 4500$\n"
     ]
    }
   ],
   "source": [
    "# Two separate lists \n",
    "cars = [\"Aston\", \"Audi\", \"McLaren\"] \n",
    "accessories = [\"GPS kit\", \"Car repair-tool kit\"] \n",
    "\n",
    "# Single dictionary holds prices of cars and \n",
    "# its accessories. \n",
    "# First three items store prices of cars and \n",
    "# next two items store prices of accessories. \n",
    "prices = {1:\"570000$\", 2:\"68000$\", 3:\"450000$\", \n",
    "        4:\"8900$\", 5:\"4500$\"} \n",
    "\n",
    "# Printing prices of cars \n",
    "for index, c in enumerate(cars, start=1): \n",
    "    print (\"Car: %s Price: %s\"%(c, prices[index]) )\n",
    "\n",
    "# Printing prices of accessories \n",
    "for index, a in enumerate(accessories,start=1):\n",
    "    print (\"Accessory: %s Price: %s\" %(a,prices[index+len(cars)])) \n"
   ]
  },
  {
   "cell_type": "code",
   "execution_count": 15,
   "metadata": {},
   "outputs": [
    {
     "name": "stdout",
     "output_type": "stream",
     "text": [
      "Car: Aston, Accessory required: GPS\n",
      "Car: Audi, Accessory required: Car Repair Kit\n",
      "Car: McLaren, Accessory required: Dolby sound kit\n"
     ]
    }
   ],
   "source": [
    "# Python program to demonstrate the working of zip \n",
    "\n",
    "# Two separate lists \n",
    "cars = [\"Aston\", \"Audi\", \"McLaren\"] \n",
    "accessories = [\"GPS\", \"Car Repair Kit\", \n",
    "            \"Dolby sound kit\"] \n",
    "\n",
    "# Combining lists and printing \n",
    "for c, a in zip(cars, accessories): \n",
    "    print (\"Car: %s, Accessory required: %s\"%(c, a)) \n"
   ]
  },
  {
   "cell_type": "code",
   "execution_count": 16,
   "metadata": {},
   "outputs": [
    {
     "name": "stdout",
     "output_type": "stream",
     "text": [
      "('Aston', 'Audi', 'McLaren')\n",
      "('GPS', 'Car Repair', 'Dolby sound kit')\n"
     ]
    }
   ],
   "source": [
    "# Python program to demonstrate unzip (reverse \n",
    "# of zip)using * with zip function \n",
    "\n",
    "# Unzip lists \n",
    "l1,l2 = zip(*[('Aston', 'GPS'), \n",
    "            ('Audi', 'Car Repair'), \n",
    "            ('McLaren', 'Dolby sound kit') \n",
    "        ]) \n",
    "\n",
    "# Printing unzipped lists\n",
    "print(l1) \n",
    "print(l2) \n"
   ]
  },
  {
   "cell_type": "code",
   "execution_count": 20,
   "metadata": {},
   "outputs": [
    {
     "name": "stdout",
     "output_type": "stream",
     "text": [
      "The key value pair using items is : \n",
      "geeks for\n",
      "only geeks\n"
     ]
    }
   ],
   "source": [
    "# python code to demonstrate working of iteritems(),items() \n",
    "\n",
    "d = { \"geeks\" : \"for\", \"only\" : \"geeks\" } \n",
    "\n",
    "# using items to print the dictionary key-value pair \n",
    "print (\"The key value pair using items is : \") \n",
    "for i,j in d.items(): \n",
    "    print(i,j)\n"
   ]
  },
  {
   "cell_type": "code",
   "execution_count": 22,
   "metadata": {},
   "outputs": [
    {
     "name": "stdout",
     "output_type": "stream",
     "text": [
      "Chandragupta The Maurya\n",
      "Modi The Changer\n",
      "Akbar The Great\n"
     ]
    }
   ],
   "source": [
    "# python code to demonstrate working of items() \n",
    "\n",
    "king = {'Akbar': 'The Great', 'Chandragupta': 'The Maurya', \n",
    "        'Modi' : 'The Changer'} \n",
    "\n",
    "# using items to print the dictionary key-value pair \n",
    "for key, value in king.items(): \n",
    "    print(key, value) \n"
   ]
  },
  {
   "cell_type": "code",
   "execution_count": 23,
   "metadata": {},
   "outputs": [
    {
     "name": "stdout",
     "output_type": "stream",
     "text": [
      "The list in sorted order is : \n",
      "1 1 2 3 3 5 6 \n",
      "The list in sorted order (without duplicates) is : \n",
      "1 2 3 5 6 "
     ]
    }
   ],
   "source": [
    "# python code to demonstrate working of sorted() \n",
    "\n",
    "# initializing list \n",
    "lis = [ 1 , 3, 5, 6, 2, 1, 3 ] \n",
    "\n",
    "# using sorted() to print the list in sorted order \n",
    "print (\"The list in sorted order is : \") \n",
    "for i in sorted(lis) : \n",
    "    print (i,end=\" \") \n",
    "\n",
    "print (\"\\r\") \n",
    "\n",
    "# using sorted() and set() to print the list in sorted order \n",
    "# use of set() removes duplicates. \n",
    "print (\"The list in sorted order (without duplicates) is : \") \n",
    "for i in sorted(set(lis)) : \n",
    "    print (i,end=\" \") \n"
   ]
  },
  {
   "cell_type": "code",
   "execution_count": 24,
   "metadata": {},
   "outputs": [
    {
     "name": "stdout",
     "output_type": "stream",
     "text": [
      "apple\n",
      "banana\n",
      "grape\n",
      "guava\n",
      "guave\n",
      "orange\n",
      "pear\n"
     ]
    }
   ],
   "source": [
    "# python code to demonstrate working of sorted() \n",
    "\n",
    "# initializing list \n",
    "basket = ['guave', 'orange', 'apple', 'pear', \n",
    "            'guava', 'banana', 'grape'] \n",
    "\n",
    "# using sorted() and set() to print the list \n",
    "# in sorted order \n",
    "for fruit in sorted(set(basket)): \n",
    "    print(fruit) \n"
   ]
  },
  {
   "cell_type": "code",
   "execution_count": 28,
   "metadata": {},
   "outputs": [
    {
     "name": "stdout",
     "output_type": "stream",
     "text": [
      "The list in reversed order is : \n",
      "3 1 2 6 5 3 1 "
     ]
    }
   ],
   "source": [
    "# python code to demonstrate working of reversed() \n",
    "\n",
    "# initializing list \n",
    "lis = [ 1 , 3, 5, 6, 2, 1, 3 ] \n",
    "\n",
    "\n",
    "# using revered() to print the list in reversed order \n",
    "print (\"The list in reversed order is : \") \n",
    "for i in reversed(lis) : \n",
    "    print (i,end=\" \") \n"
   ]
  },
  {
   "cell_type": "code",
   "execution_count": 27,
   "metadata": {},
   "outputs": [
    {
     "name": "stdout",
     "output_type": "stream",
     "text": [
      "7\n",
      "4\n",
      "1\n"
     ]
    }
   ],
   "source": [
    "# python code to demonstrate working of reversed() \n",
    "# using reversed() to print in reverse order \n",
    "for i in reversed(range(1, 10, 3)): \n",
    "    print (i) \n"
   ]
  },
  {
   "cell_type": "code",
   "execution_count": null,
   "metadata": {},
   "outputs": [],
   "source": []
  }
 ],
 "metadata": {
  "kernelspec": {
   "display_name": "Python 3",
   "language": "python",
   "name": "python3"
  },
  "language_info": {
   "codemirror_mode": {
    "name": "ipython",
    "version": 3
   },
   "file_extension": ".py",
   "mimetype": "text/x-python",
   "name": "python",
   "nbconvert_exporter": "python",
   "pygments_lexer": "ipython3",
   "version": "3.5.2"
  }
 },
 "nbformat": 4,
 "nbformat_minor": 2
}
