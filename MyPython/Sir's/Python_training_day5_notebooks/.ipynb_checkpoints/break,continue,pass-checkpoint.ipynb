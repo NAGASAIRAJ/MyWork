{
 "cells": [
  {
   "cell_type": "markdown",
   "metadata": {},
   "source": [
    "### Break"
   ]
  },
  {
   "cell_type": "code",
   "execution_count": null,
   "metadata": {},
   "outputs": [],
   "source": [
    "for letter in 'Python':\n",
    "    if letter == 'h':\n",
    "        break\n",
    "    print ('Current Letter :', letter)\n"
   ]
  },
  {
   "cell_type": "code",
   "execution_count": 7,
   "metadata": {},
   "outputs": [
    {
     "name": "stdout",
     "output_type": "stream",
     "text": [
      "Current variable value : 10\n",
      "Current variable value : 9\n",
      "Current variable value : 8\n",
      "Current variable value : 7\n",
      "Current variable value : 6\n"
     ]
    }
   ],
   "source": [
    "var = 10              \n",
    "while var > 0:\n",
    "    print ('Current variable value :', var)\n",
    "    var = var -1\n",
    "    if var == 5:\n",
    "        break\n"
   ]
  },
  {
   "cell_type": "markdown",
   "metadata": {},
   "source": [
    "## Continue"
   ]
  },
  {
   "cell_type": "code",
   "execution_count": 12,
   "metadata": {},
   "outputs": [
    {
     "name": "stdout",
     "output_type": "stream",
     "text": [
      "Current Letter : P\n",
      "Current Letter : y\n",
      "Current Letter : t\n",
      "Current Letter : o\n",
      "Current Letter : n\n"
     ]
    }
   ],
   "source": [
    "for letter in 'Python':\n",
    "    if letter == 'h':\n",
    "          continue\n",
    "    print ('Current Letter :', letter)\n"
   ]
  },
  {
   "cell_type": "code",
   "execution_count": 13,
   "metadata": {},
   "outputs": [
    {
     "name": "stdout",
     "output_type": "stream",
     "text": [
      "Current variable value : 9\n",
      "Current variable value : 8\n",
      "Current variable value : 7\n",
      "Current variable value : 6\n",
      "Current variable value : 4\n",
      "Current variable value : 3\n",
      "Current variable value : 2\n",
      "Current variable value : 1\n",
      "Current variable value : 0\n",
      "Good bye!\n"
     ]
    }
   ],
   "source": [
    "var = 10                    # Second Example\n",
    "while var > 0:\n",
    "    var = var -1\n",
    "    if var == 5:\n",
    "          continue\n",
    "    print ('Current variable value :', var)\n",
    "print (\"Good bye!\")"
   ]
  },
  {
   "cell_type": "markdown",
   "metadata": {},
   "source": [
    "### Pass"
   ]
  },
  {
   "cell_type": "code",
   "execution_count": 16,
   "metadata": {},
   "outputs": [
    {
     "name": "stdout",
     "output_type": "stream",
     "text": [
      "Current Letter : P\n",
      "Current Letter : y\n",
      "Current Letter : t\n",
      "This is pass block\n",
      "Current Letter : h\n",
      "Current Letter : o\n",
      "Current Letter : n\n",
      "Good bye!\n"
     ]
    }
   ],
   "source": [
    "for letter in 'Python': \n",
    "    if letter == 'h':\n",
    "        pass\n",
    "        print ('This is pass block')\n",
    "    print ('Current Letter :', letter)\n",
    "print(\"Good bye!\")"
   ]
  },
  {
   "cell_type": "markdown",
   "metadata": {},
   "source": [
    "### Chaining Comparision"
   ]
  },
  {
   "cell_type": "code",
   "execution_count": 17,
   "metadata": {},
   "outputs": [
    {
     "name": "stdout",
     "output_type": "stream",
     "text": [
      "True\n",
      "False\n",
      "True\n",
      "True\n",
      "True\n"
     ]
    }
   ],
   "source": [
    "# Python code to illustrate \n",
    "# chaining comparison operators \n",
    "x = 5\n",
    "print(1 < x < 10) \n",
    "print(10 < x < 20 ) \n",
    "print(x < 10 < x*10 < 100) \n",
    "print(10 > x <= 9) \n",
    "print(5 == x > 4)\n"
   ]
  },
  {
   "cell_type": "code",
   "execution_count": 18,
   "metadata": {},
   "outputs": [
    {
     "name": "stdout",
     "output_type": "stream",
     "text": [
      "True\n",
      "False\n"
     ]
    }
   ],
   "source": [
    "# Python code to illustrate \n",
    "# chaining comparison operators \n",
    "a, b, c, d, e, f = 0, 5, 12, 0, 15, 15\n",
    "exp1 = a <= b < c > d is not e is f \n",
    "exp2 = a is d > f is not c \n",
    "print(exp1) \n",
    "print(exp2) \n"
   ]
  },
  {
   "cell_type": "code",
   "execution_count": null,
   "metadata": {},
   "outputs": [],
   "source": []
  },
  {
   "cell_type": "markdown",
   "metadata": {},
   "source": [
    "### Using else condition with for loops"
   ]
  },
  {
   "cell_type": "code",
   "execution_count": 19,
   "metadata": {},
   "outputs": [
    {
     "name": "stdout",
     "output_type": "stream",
     "text": [
      "For List 1:\n",
      "list contains an even number\n",
      " \n",
      "For List 2:\n",
      "list does not contain an even number\n"
     ]
    }
   ],
   "source": [
    "# Python 3.x program to check if an array consists \n",
    "# of even number \n",
    "def contains_even_number(l): \n",
    "    for ele in l: \n",
    "        if ele % 2 == 0: \n",
    "            print (\"list contains an even number\") \n",
    "            break\n",
    "\n",
    "# This else executes only if break is NEVER \n",
    "# reached and loop terminated after all iterations. \n",
    "    else: \n",
    "        print (\"list does not contain an even number\") \n",
    "\n",
    "# Driver code \n",
    "print (\"For List 1:\") \n",
    "contains_even_number([1, 9, 8]) \n",
    "print (\" \\nFor List 2:\") \n",
    "contains_even_number([1, 3, 5]) \n"
   ]
  },
  {
   "cell_type": "code",
   "execution_count": null,
   "metadata": {},
   "outputs": [],
   "source": [
    "# string week(int i){\n",
    "#        switch(i){\n",
    "#                case 0:\n",
    "#                        return “Sunday”\n",
    "#                        break;\n",
    "#                case 1:\n",
    "#                        return “Monday”\n",
    "#                        break;\n",
    "#                case 2:\n",
    "#                        return “Tuesday”\n",
    "#                        break;\n",
    "#                case 3:\n",
    "#                        return “Wednesday”\n",
    "#                        break;\n",
    "#                case 4:\n",
    "#                        return “Thursday”\n",
    "#                        break;\n",
    "#                case 5:\n",
    "#                        return “Friday”\n",
    "#                        break;\n",
    "#                case 6:\n",
    "#                        return “Saturday”\n",
    "#                        break;\n",
    "#                default:\n",
    "#                        return “Invalid day of week”\n",
    "#        }\n",
    "#   }"
   ]
  },
  {
   "cell_type": "code",
   "execution_count": 24,
   "metadata": {},
   "outputs": [],
   "source": [
    "def week(i):\n",
    "    \n",
    "        switcher={\n",
    "                0:'Sunday',\n",
    "                1:'Monday',\n",
    "                2:'Tuesday',\n",
    "                3:'Wednesday',\n",
    "                4:'Thursday',\n",
    "                5:'Friday',\n",
    "                6:'Saturday'\n",
    "             }\n",
    "        return switcher.get(i,\"Invalid day of week\")"
   ]
  },
  {
   "cell_type": "code",
   "execution_count": 32,
   "metadata": {},
   "outputs": [
    {
     "name": "stdout",
     "output_type": "stream",
     "text": [
      "Closing coroutine!!\n",
      "Searching prefix:Dear\n",
      "Dear Atul\n",
      "Closing coroutine!!\n"
     ]
    }
   ],
   "source": [
    "# Python3 program for demonstrating \n",
    "# closing a coroutine \n",
    "\n",
    "def print_name(prefix): \n",
    "    print(\"Searching prefix:{}\".format(prefix)) \n",
    "    try : \n",
    "        while True: \n",
    "                name = (yield) \n",
    "                if prefix in name: \n",
    "                    print(name) \n",
    "    except GeneratorExit: \n",
    "            print(\"Closing coroutine!!\") \n",
    "\n",
    "corou = print_name(\"Dear\") \n",
    "corou.__next__() \n",
    "corou.send(\"Atul\") \n",
    "corou.send(\"Dear Atul\") \n",
    "corou.close() \n"
   ]
  },
  {
   "cell_type": "code",
   "execution_count": null,
   "metadata": {},
   "outputs": [],
   "source": []
  }
 ],
 "metadata": {
  "kernelspec": {
   "display_name": "Python 3",
   "language": "python",
   "name": "python3"
  },
  "language_info": {
   "codemirror_mode": {
    "name": "ipython",
    "version": 3
   },
   "file_extension": ".py",
   "mimetype": "text/x-python",
   "name": "python",
   "nbconvert_exporter": "python",
   "pygments_lexer": "ipython3",
   "version": "3.5.2"
  }
 },
 "nbformat": 4,
 "nbformat_minor": 2
}
