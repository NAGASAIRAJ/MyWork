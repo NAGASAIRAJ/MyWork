{
 "cells": [
  {
   "cell_type": "code",
   "execution_count": 2,
   "metadata": {},
   "outputs": [
    {
     "name": "stdout",
     "output_type": "stream",
     "text": [
      "Encoding successful\n"
     ]
    }
   ],
   "source": [
    "# Python code to demonstate String encoding \n",
    "\n",
    "# initialising a String \n",
    "a = 'GeeksforGeeks'\n",
    "\n",
    "# initialising a byte object \n",
    "c = b'GeeksforGeeks'\n",
    "\n",
    "# using encode() to encode the String \n",
    "# encoded version of a is stored in d \n",
    "# using ASCII mapping \n",
    "d = a.encode('ASCII') \n",
    "\n",
    "# checking if a is converted to bytes or not \n",
    "if (d==c): \n",
    "    print (\"Encoding successful\") \n",
    "else : print (\"Encoding Unsuccessful\") \n"
   ]
  },
  {
   "cell_type": "code",
   "execution_count": 4,
   "metadata": {},
   "outputs": [
    {
     "name": "stdout",
     "output_type": "stream",
     "text": [
      "Decoding successful\n"
     ]
    }
   ],
   "source": [
    "# Python code to demonstate Byte Decoding \n",
    "\n",
    "# initialising a String \n",
    "a = 'GeeksforGeeks'\n",
    "\n",
    "# initialising a byte object \n",
    "c = b'GeeksforGeeks'\n",
    "\n",
    "# using decode() to decode the Byte object \n",
    "# decoded version of c is stored in d \n",
    "# using ASCII mapping \n",
    "d = c.decode('ASCII') \n",
    "\n",
    "# checking if c is converted to String or not \n",
    "if (d==a): \n",
    "    print (\"Decoding successful\") \n",
    "else : print (\"Decoding Unsuccessful\") \n"
   ]
  },
  {
   "cell_type": "code",
   "execution_count": 6,
   "metadata": {},
   "outputs": [
    {
     "name": "stdout",
     "output_type": "stream",
     "text": [
      "After Swapping values of x and y are 10 5\n"
     ]
    }
   ],
   "source": [
    "x = 5\n",
    "y = 10\n",
    "x, y = y, x \n",
    "print (\"After Swapping values of x and y are\", x, y) "
   ]
  },
  {
   "cell_type": "code",
   "execution_count": 12,
   "metadata": {},
   "outputs": [],
   "source": [
    "def f(x,y):\n",
    "    x,y = y,x\n",
    "    return x,y    \n",
    "    \n",
    "  "
   ]
  },
  {
   "cell_type": "code",
   "execution_count": null,
   "metadata": {},
   "outputs": [],
   "source": []
  }
 ],
 "metadata": {
  "kernelspec": {
   "display_name": "Python 3",
   "language": "python",
   "name": "python3"
  },
  "language_info": {
   "codemirror_mode": {
    "name": "ipython",
    "version": 3
   },
   "file_extension": ".py",
   "mimetype": "text/x-python",
   "name": "python",
   "nbconvert_exporter": "python",
   "pygments_lexer": "ipython3",
   "version": "3.5.2"
  }
 },
 "nbformat": 4,
 "nbformat_minor": 2
}
