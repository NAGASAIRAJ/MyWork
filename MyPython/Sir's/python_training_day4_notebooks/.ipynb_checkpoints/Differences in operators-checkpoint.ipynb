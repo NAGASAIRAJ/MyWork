{
 "cells": [
  {
   "cell_type": "markdown",
   "metadata": {},
   "source": [
    "### Python | a += b is not always a = a + b"
   ]
  },
  {
   "cell_type": "code",
   "execution_count": 1,
   "metadata": {},
   "outputs": [
    {
     "name": "stdout",
     "output_type": "stream",
     "text": [
      "[5, 4, 3, 2, 1, 1, 2, 3, 4]\n",
      "[5, 4, 3, 2, 1, 1, 2, 3, 4]\n"
     ]
    }
   ],
   "source": [
    "list1 = [5, 4, 3, 2, 1] \n",
    "list2 = list1 \n",
    "list1 += [1, 2, 3, 4] \n",
    "\n",
    "print(list1) \n",
    "print(list2) \n"
   ]
  },
  {
   "cell_type": "code",
   "execution_count": 2,
   "metadata": {},
   "outputs": [
    {
     "name": "stdout",
     "output_type": "stream",
     "text": [
      "[5, 4, 3, 2, 1, 1, 2, 3, 4]\n",
      "[5, 4, 3, 2, 1]\n"
     ]
    }
   ],
   "source": [
    "list1 = [5, 4, 3, 2, 1] \n",
    "list2 = list1 \n",
    "list1 = list1 + [1, 2, 3, 4] \n",
    "\n",
    "# Contents of list1 are same as above \n",
    "# program, but contents of list2 are \n",
    "# different. \n",
    "print(list1) \n",
    "print(list2) \n"
   ]
  },
  {
   "cell_type": "markdown",
   "metadata": {},
   "source": [
    "### Difference between == and is operator in Python\n",
    "\n"
   ]
  },
  {
   "cell_type": "code",
   "execution_count": 4,
   "metadata": {},
   "outputs": [
    {
     "name": "stdout",
     "output_type": "stream",
     "text": [
      "True\n",
      "False\n",
      "True\n"
     ]
    }
   ],
   "source": [
    "# python3 code to \n",
    "# illustrate the \n",
    "# difference between \n",
    "# == and is operator \n",
    "# [] is an empty list \n",
    "list1 = [] \n",
    "list2 = [] \n",
    "list3=list1 \n",
    "\n",
    "if (list1 == list2): \n",
    "    \n",
    "    print(\"True\") \n",
    "else: \n",
    "    print(\"False\") \n",
    "\n",
    "if (list1 is list2): \n",
    "    print(\"True\") \n",
    "else: \n",
    "    print(\"False\") \n",
    "\n",
    "if (list1 is list3): \n",
    "    print(\"True\") \n",
    "else:\n",
    "    print(\"False\") \n"
   ]
  },
  {
   "cell_type": "code",
   "execution_count": 5,
   "metadata": {},
   "outputs": [
    {
     "name": "stdout",
     "output_type": "stream",
     "text": [
      "140025380182856\n",
      "140025380178504\n"
     ]
    }
   ],
   "source": [
    "list1 = [] \n",
    "list2 = [] \n",
    "\n",
    "print(id(list1)) \n",
    "print(id(list2)) \n"
   ]
  },
  {
   "cell_type": "markdown",
   "metadata": {},
   "source": [
    "### Python Membership and Identity Operators | in, not in, is, is not\n"
   ]
  },
  {
   "cell_type": "code",
   "execution_count": 7,
   "metadata": {},
   "outputs": [
    {
     "name": "stdout",
     "output_type": "stream",
     "text": [
      "not overlapping\n"
     ]
    }
   ],
   "source": [
    "# Python program to illustrate \n",
    "# Finding common member in list \n",
    "# using 'in' operator \n",
    "list1=[1,2,3,4,5] \n",
    "list2=[6,7,8,9] \n",
    "for item in list1: \n",
    "    if item in list2: \n",
    "        print(\"overlapping\")\n",
    "else: \n",
    "    print(\"not overlapping\") \n"
   ]
  },
  {
   "cell_type": "code",
   "execution_count": 10,
   "metadata": {},
   "outputs": [
    {
     "name": "stdout",
     "output_type": "stream",
     "text": [
      "not overlapping\n"
     ]
    }
   ],
   "source": [
    "# Python program to illustrate \n",
    "# Finding common member in list \n",
    "# without using 'in' operator \n",
    "\n",
    "# Define a function() that takes two lists \n",
    "def overlapping(list1,list2): \n",
    "\n",
    "    c=0\n",
    "    d=0\n",
    "    for i in list1: \n",
    "        c+=1\n",
    "    for i in list2: \n",
    "        d+=1\n",
    "    for i in range(0,c): \n",
    "        for j in range(0,d): \n",
    "            if(list1[i]==list2[j]): \n",
    "                return 1\n",
    "    return 0\n",
    "list1=[1,2,3,4,5] \n",
    "list2=[6,7,8,9] \n",
    "if(overlapping(list1,list2)): \n",
    "    print(\"overlapping\") \n",
    "else: \n",
    "    print(\"not overlapping\") \n"
   ]
  },
  {
   "cell_type": "code",
   "execution_count": 13,
   "metadata": {},
   "outputs": [
    {
     "name": "stdout",
     "output_type": "stream",
     "text": [
      "x is NOT present in given list\n",
      "y is present in given list\n"
     ]
    }
   ],
   "source": [
    "# Python program to illustrate \n",
    "# not 'in' operator \n",
    "x = 24\n",
    "y = 20\n",
    "list = [10, 20, 30, 40, 50 ]; \n",
    "\n",
    "if ( x not in list ): \n",
    "    print (\"x is NOT present in given list\")\n",
    "else: \n",
    "    print (\"x is present in given list\")\n",
    "\n",
    "if ( y in list ): \n",
    "    print (\"y is present in given list\")\n",
    "else: \n",
    "    print (\"y is NOT present in given list\")\n"
   ]
  },
  {
   "cell_type": "code",
   "execution_count": null,
   "metadata": {},
   "outputs": [],
   "source": []
  }
 ],
 "metadata": {
  "kernelspec": {
   "display_name": "Python 3",
   "language": "python",
   "name": "python3"
  },
  "language_info": {
   "codemirror_mode": {
    "name": "ipython",
    "version": 3
   },
   "file_extension": ".py",
   "mimetype": "text/x-python",
   "name": "python",
   "nbconvert_exporter": "python",
   "pygments_lexer": "ipython3",
   "version": "3.5.2"
  }
 },
 "nbformat": 4,
 "nbformat_minor": 2
}
