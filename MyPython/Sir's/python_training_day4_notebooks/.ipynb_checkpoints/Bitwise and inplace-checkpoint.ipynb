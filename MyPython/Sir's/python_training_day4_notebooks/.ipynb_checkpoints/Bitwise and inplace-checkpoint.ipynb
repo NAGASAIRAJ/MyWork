{
 "cells": [
  {
   "cell_type": "code",
   "execution_count": 26,
   "metadata": {},
   "outputs": [
    {
     "name": "stdout",
     "output_type": "stream",
     "text": [
      "False\n",
      "True\n"
     ]
    }
   ],
   "source": [
    "# A Python program that uses Logical Not or ! on boolean \n",
    "a = not True\n",
    "b = not False\n",
    "print (a)\n",
    "print (b)\n",
    "\n"
   ]
  },
  {
   "cell_type": "code",
   "execution_count": 27,
   "metadata": {},
   "outputs": [
    {
     "name": "stdout",
     "output_type": "stream",
     "text": [
      "-2\n",
      "-1\n"
     ]
    }
   ],
   "source": [
    "# A Python program that uses Bitwise Not or ~ on boolean \n",
    "a = True\n",
    "b = False\n",
    "print (~a)\n",
    "print (~b)\n"
   ]
  },
  {
   "cell_type": "markdown",
   "metadata": {},
   "source": [
    "### TERNARY OPERATOR IN PYTHON"
   ]
  },
  {
   "cell_type": "code",
   "execution_count": 28,
   "metadata": {},
   "outputs": [],
   "source": [
    "# [on_true] if [expression] else [on_false] \n"
   ]
  },
  {
   "cell_type": "code",
   "execution_count": 29,
   "metadata": {},
   "outputs": [
    {
     "name": "stdout",
     "output_type": "stream",
     "text": [
      "10\n"
     ]
    }
   ],
   "source": [
    "# Program to demonstrate conditional operator \n",
    "a, b = 10, 20\n",
    "\n",
    "# Copy value of a in min if a < b else copy b \n",
    "min = a if a < b else b \n",
    "\n",
    "print(min) \n"
   ]
  },
  {
   "cell_type": "code",
   "execution_count": 30,
   "metadata": {},
   "outputs": [
    {
     "name": "stdout",
     "output_type": "stream",
     "text": [
      "b is greater than a\n"
     ]
    }
   ],
   "source": [
    "# Python program to demonstrate nested ternary operator \n",
    "a, b = 10, 20\n",
    "\n",
    "print (\"Both a and b are equal\" if a == b else \"a is greater than b\"\n",
    "        if a > b else \"b is greater than a\") \n"
   ]
  },
  {
   "cell_type": "code",
   "execution_count": 31,
   "metadata": {},
   "outputs": [
    {
     "name": "stdout",
     "output_type": "stream",
     "text": [
      "b is greater than a\n"
     ]
    }
   ],
   "source": [
    "# Python program to demonstrate nested ternary operator \n",
    "a, b = 10, 20\n",
    "\n",
    "if a != b: \n",
    "    if a > b:\n",
    "        print(\"a is greater than b\") \n",
    "    else: \n",
    "        print(\"b is greater than a\") \n",
    "else: \n",
    "    print(\"Both a and b are equal\") \n"
   ]
  },
  {
   "cell_type": "code",
   "execution_count": 32,
   "metadata": {},
   "outputs": [],
   "source": [
    "## Any & All in Python"
   ]
  },
  {
   "cell_type": "code",
   "execution_count": 33,
   "metadata": {},
   "outputs": [
    {
     "name": "stdout",
     "output_type": "stream",
     "text": [
      "False\n",
      "True\n",
      "True\n"
     ]
    }
   ],
   "source": [
    "# Since all are false, false is returned \n",
    "print (any([False, False, False, False])) \n",
    "\n",
    "# Here the method will short-circuit at the \n",
    "# second item (True) and will return True. \n",
    "print (any([False, True, False, False])) \n",
    "\n",
    "# Here the method will short-circuit at the \n",
    "# first (True) and will return True. \n",
    "print (any([True, False, False, False])) \n"
   ]
  },
  {
   "cell_type": "code",
   "execution_count": 34,
   "metadata": {},
   "outputs": [
    {
     "name": "stdout",
     "output_type": "stream",
     "text": [
      "True\n",
      "False\n",
      "False\n"
     ]
    }
   ],
   "source": [
    "# Here all the iterables are True so all \n",
    "# will return True and the same will be printed \n",
    "print (all([True, True, True, True])) \n",
    "\n",
    "# Here the method will short-circuit at the \n",
    "# first item (False) and will return False. \n",
    "print (all([False, True, True, False])) \n",
    "\n",
    "# This statement will return False, as no \n",
    "# True is found in the iterables \n",
    "print (all([False, False, False])) \n"
   ]
  },
  {
   "cell_type": "markdown",
   "metadata": {},
   "source": [
    "#### INPLACE OPERATORS"
   ]
  },
  {
   "cell_type": "code",
   "execution_count": 35,
   "metadata": {},
   "outputs": [],
   "source": [
    "# Eg: a+= b is equivalent to a= operator.iadd(a, b)\n",
    "# iadd()\n",
    "# This function is used to assign the current value and add them. \n",
    "# This operator does x+=y operation. In case of strings, numbers assigning is not performed."
   ]
  },
  {
   "cell_type": "code",
   "execution_count": 36,
   "metadata": {},
   "outputs": [
    {
     "name": "stdout",
     "output_type": "stream",
     "text": [
      "The result after adding : 4\n"
     ]
    }
   ],
   "source": [
    "a =operator.iadd(1, 3);\n",
    "print (\"The result after adding : \", end=\"\")\n",
    "print(a)"
   ]
  },
  {
   "cell_type": "code",
   "execution_count": 37,
   "metadata": {},
   "outputs": [
    {
     "name": "stdout",
     "output_type": "stream",
     "text": [
      "The result after subtracting : 2\n"
     ]
    }
   ],
   "source": [
    "a =operator.isub(8, 6);\n",
    "print (\"The result after subtracting : \", end=\"\")\n",
    "print(a)"
   ]
  },
  {
   "cell_type": "code",
   "execution_count": 38,
   "metadata": {},
   "outputs": [
    {
     "name": "stdout",
     "output_type": "stream",
     "text": [
      "The result after multiplying : 48\n"
     ]
    }
   ],
   "source": [
    "a =operator.imul(8, 6);\n",
    "print (\"The result after multiplying : \", end=\"\")\n",
    "print(a)\n"
   ]
  },
  {
   "cell_type": "code",
   "execution_count": 39,
   "metadata": {},
   "outputs": [
    {
     "name": "stdout",
     "output_type": "stream",
     "text": [
      "The result after dividing : 9.0\n"
     ]
    }
   ],
   "source": [
    "a =operator.itruediv(54, 6);\n",
    "print (\"The result after dividing : \", end=\"\")\n",
    "print(a)"
   ]
  },
  {
   "cell_type": "code",
   "execution_count": 40,
   "metadata": {},
   "outputs": [
    {
     "name": "stdout",
     "output_type": "stream",
     "text": [
      "The result after modulus : 0\n"
     ]
    }
   ],
   "source": [
    "a =operator.imod(10, 5);\n",
    "print (\"The result after modulus : \", end=\"\")\n",
    "print(a)"
   ]
  },
  {
   "cell_type": "code",
   "execution_count": 42,
   "metadata": {},
   "outputs": [
    {
     "name": "stdout",
     "output_type": "stream",
     "text": [
      " After concatenation : jupyternotebook\n"
     ]
    }
   ],
   "source": [
    "t =operator.iconcat(\"jupyter\", \"notebook\")\n",
    "print (\" After concatenation : \", end=\"\") \n",
    "print (t) "
   ]
  },
  {
   "cell_type": "markdown",
   "metadata": {},
   "source": [
    "#### Operator Functions"
   ]
  },
  {
   "cell_type": "markdown",
   "metadata": {},
   "source": [
    "1. add(a, b) :- This functions returns addition of the given arguments.\n",
    "Operation – a + b.\n",
    "\n",
    "2. sub(a, b) :- This functions returns difference of the given arguments.\n",
    "Operation – a – b.\n",
    "\n",
    "3. mul(a, b) :- This functions returns product of the given arguments.\n",
    "Operation – a * b.\n",
    "\n",
    "4. truediv(a,b) :- This functions returns division of the given arguments.\n",
    "Operation – a / b.\n",
    "\n",
    "5. floordiv(a,b) :- This functions also returns division of the given arguments. But the value is floored value i.e. returns greatest small integer.\n",
    "Operation – a // b.\n",
    "\n",
    "6. pow(a,b) :- This functions returns exponentiation of the given arguments.\n",
    "Operation – a ** b.\n",
    "\n",
    "7. mod(a,b) :- This functions returns modulus of the given arguments.\n",
    "Operation – a % b.\n",
    "\n",
    "8. lt(a, b) :- This function is used to check if a is less than b or not. Returns true if a is less than b, else returns false.\n",
    "Operation – a < b.\n",
    "\n",
    "9. le(a, b) :- This function is used to check if a is less than or equal to b or not. Returns true if a is less than or equal to b, else returns false.\n",
    "Operation – a <= b.\n",
    "\n",
    "10. eq(a, b) :- This function is used to check if a is equal to b or not. Returns true if a is equal to b, else returns false.\n",
    "Operation – a == b.\n",
    "\n",
    "11. gt(a,b) :- This function is used to check if a is greater than b or not. Returns true if a is greater than b, else returns false.\n",
    "Operation – a > b.\n",
    "\n",
    "\n",
    "\n",
    "12. ge(a,b) :- This function is used to check if a is greater than or equal to b or not. Returns true if a is greater than or equal to b, else returns false.\n",
    "Operation – a >= b.\n",
    "\n",
    "13. ne(a,b) :- This function is used to check if a is not equal to b or is equal. Returns true if a is not equal to b, else returns false.\n",
    "Operation – a != b"
   ]
  },
  {
   "cell_type": "code",
   "execution_count": 50,
   "metadata": {},
   "outputs": [
    {
     "name": "stdout",
     "output_type": "stream",
     "text": [
      "The addition of numbers is :7\n",
      "The difference of numbers is :1\n",
      "The product of numbers is :12\n",
      "The true division of numbers is : 1.3333333333333333\n",
      "The floor division of numbers is : 1\n",
      "The exponentiation of numbers is : 64\n",
      "The modulus of numbers is : 1\n"
     ]
    }
   ],
   "source": [
    "a = 4\n",
    "b = 3\n",
    "\n",
    "# using add() to add two numbers \n",
    "print (\"The addition of numbers is :\",end=\"\"); \n",
    "print (operator.add(a, b)) \n",
    "\n",
    "# using sub() to subtract two numbers \n",
    "print (\"The difference of numbers is :\",end=\"\"); \n",
    "print (operator.sub(a, b)) \n",
    "\n",
    "# using mul() to multiply two numbers \n",
    "print (\"The product of numbers is :\",end=\"\"); \n",
    "print (operator.mul(a, b)) \n",
    "\n",
    "\n",
    "# using truediv() to divide two numbers \n",
    "print (\"The true division of numbers is : \",end=\"\"); \n",
    "print (operator.truediv(a,b)) \n",
    "  \n",
    "# using floordiv() to divide two numbers \n",
    "print (\"The floor division of numbers is : \",end=\"\"); \n",
    "print (operator.floordiv(a,b)) \n",
    "  \n",
    "# using pow() to exponentiate two numbers \n",
    "print (\"The exponentiation of numbers is : \",end=\"\"); \n",
    "print (operator.pow(a,b)) \n",
    "  \n",
    "# using mod() to take modulus of two numbers \n",
    "print (\"The modulus of numbers is : \",end=\"\"); \n",
    "print (operator.mod(a,b))\n"
   ]
  },
  {
   "cell_type": "code",
   "execution_count": 52,
   "metadata": {},
   "outputs": [
    {
     "name": "stdout",
     "output_type": "stream",
     "text": [
      "4 is greater than 3\n",
      "4 is greater than or equal to 3\n",
      "4 is not equal to 3\n"
     ]
    }
   ],
   "source": [
    "a = 4\n",
    "  \n",
    "b = 3\n",
    "  \n",
    "# using gt() to check if a is greater than b \n",
    "if (operator.gt(a,b)): \n",
    "       print (\"4 is greater than 3\") \n",
    "else : print (\"4 is not greater than 3\") \n",
    "# using ge() to check if a is greater than or equal to b \n",
    "if (operator.ge(a,b)): \n",
    "       print (\"4 is greater than or equal to 3\") \n",
    "else : print (\"4 is not greater than or equal to 3\") \n",
    "# using ne() to check if a is not equal to b \n",
    "if (operator.ne(a,b)): \n",
    "       print (\"4 is not equal to 3\") \n",
    "else : print (\"4 is equal to 3\") "
   ]
  },
  {
   "cell_type": "markdown",
   "metadata": {},
   "source": [
    "1. setitem(ob, pos, val) :- This function is used to assign the value at a particular position in the container.\n",
    "Operation – ob[pos] = val\n",
    "\n",
    "2. delitem(ob, pos) :- This function is used to delete the value at a particular position in the container.\n",
    "Operation – del ob[pos]\n",
    "\n",
    "3. getitem(ob, pos) :- This function is used to access the value at a particular position in the container.\n",
    "Operation – ob[pos]\n",
    "\n",
    "4. setitem(ob, slice(a,b), vals) :- This function is used to set the values in a particular range in the container.\n",
    "Operation – obj[a:b] = vals\n",
    "\n",
    "5. delitem(ob, slice(a,b)) :- This function is used to delete the values from a particular range in the container.\n",
    "Operation – del obj[a:b]\n",
    "\n",
    "6. getitem(ob, slice(a,b)) :- This function is used to access the values in a particular range in the container.\n",
    "Operation – obj[a:b]\n",
    "\n",
    "7. concat(ob1,obj2) :- This function is used to concatenate two containers.\n",
    "Operation – obj1 + obj2\n",
    "\n",
    "8. contains(ob1,obj2) :- This function is used to check if obj2 in present in obj1.\n",
    "Operation – obj2 in obj1\n",
    "\n",
    "9. and_(a,b) :- This function is used to compute bitwise and of the mentioned arguments.\n",
    "Operation – a & b\n",
    "\n",
    "10. or_(a,b) :- This function is used to compute bitwise or of the mentioned arguments.\n",
    "Operation – a | b\n",
    "\n",
    "11. xor(a,b) :- This function is used to compute bitwise xor of the mentioned arguments.\n",
    "Operation – a ^ b\n",
    "\n",
    "12. invert(a) :- This function is used to compute bitwise inversion of the mentioned argument.\n",
    "Operation – ~ a\n"
   ]
  },
  {
   "cell_type": "code",
   "execution_count": 54,
   "metadata": {},
   "outputs": [
    {
     "name": "stdout",
     "output_type": "stream",
     "text": [
      "The original list is : 1 5 6 7 8 \n",
      "The modified list after setitem() is : 1 5 6 3 8 \n",
      "The modified list after delitem() is : 1 6 3 8 \n",
      "The 4th element of list is : 8\n"
     ]
    }
   ],
   "source": [
    "# Initializing list \n",
    "li = [1, 5, 6, 7, 8] \n",
    "  \n",
    "# printing original list  \n",
    "print (\"The original list is : \",end=\"\") \n",
    "for i in range(0,len(li)): \n",
    "    print (li[i],end=\" \") \n",
    "print (\"\\r\") \n",
    "  \n",
    "# using setitem() to assign 3 at 4th position \n",
    "operator.setitem(li,3,3) \n",
    "  \n",
    "# printing modified list after setitem() \n",
    "print (\"The modified list after setitem() is : \",end=\"\") \n",
    "for i in range(0,len(li)): \n",
    "    print (li[i],end=\" \") \n",
    "print (\"\\r\") \n",
    "  \n",
    "# using delitem() to delete value at 2nd index \n",
    "operator.delitem(li,1) \n",
    "  \n",
    "# printing modified list after delitem() \n",
    "print (\"The modified list after delitem() is : \",end=\"\") \n",
    "for i in range(0,len(li)): \n",
    "    print (li[i],end=\" \") \n",
    "print (\"\\r\") \n",
    "  \n",
    "# using getitem() to access 4th element \n",
    "print (\"The 4th element of list is : \",end=\"\") \n",
    "print (operator.getitem(li,3)) "
   ]
  },
  {
   "cell_type": "code",
   "execution_count": 56,
   "metadata": {},
   "outputs": [
    {
     "name": "stdout",
     "output_type": "stream",
     "text": [
      "The original list is : 1 5 6 7 8 \n",
      "The modified list after setitem() is : 1 2 3 4 8 \n",
      "The modified list after delitem() is : 1 2 8 \n",
      "The 1st and 2nd element of list is : [1, 2]\n"
     ]
    }
   ],
   "source": [
    "# Initializing list \n",
    "li = [1, 5, 6, 7, 8] \n",
    "  \n",
    "# printing original list  \n",
    "print (\"The original list is : \",end=\"\") \n",
    "for i in range(0,len(li)): \n",
    "    print (li[i],end=\" \") \n",
    "print (\"\\r\") \n",
    "  \n",
    "# using setitem() to assign 2,3,4 at 2nd,3rd and 4th index \n",
    "operator.setitem(li,slice(1,4),[2,3,4]) \n",
    "  \n",
    "# printing modified list after setitem() \n",
    "print (\"The modified list after setitem() is : \",end=\"\") \n",
    "for i in range(0,len(li)): \n",
    "    print (li[i],end=\" \") \n",
    "print (\"\\r\") \n",
    "  \n",
    "# using delitem() to delete value at 3rd and 4th index \n",
    "operator.delitem(li,slice(2,4)) \n",
    "  \n",
    "# printing modified list after delitem() \n",
    "print (\"The modified list after delitem() is : \",end=\"\") \n",
    "for i in range(0,len(li)): \n",
    "    print (li[i],end=\" \") \n",
    "print (\"\\r\") \n",
    "  \n",
    "# using getitem() to access 1st and 2nd element \n",
    "print (\"The 1st and 2nd element of list is : \",end=\"\") \n",
    "print (operator.getitem(li,slice(0,2))) "
   ]
  },
  {
   "cell_type": "code",
   "execution_count": 57,
   "metadata": {},
   "outputs": [
    {
     "name": "stdout",
     "output_type": "stream",
     "text": [
      "The concatenated string is : geeksforgeeks\n",
      "geeksfor contains geeks\n"
     ]
    }
   ],
   "source": [
    "# Initializing string 1 \n",
    "s1 = \"geeksfor\"\n",
    "  \n",
    "# Initializing string 2 \n",
    "s2 = \"geeks\"\n",
    "  \n",
    "# using concat() to concatenate two strings \n",
    "print (\"The concatenated string is : \",end=\"\") \n",
    "print (operator.concat(s1,s2)) \n",
    "  \n",
    "# using contains() to check if s1 contains s2 \n",
    "if (operator.contains(s1,s2)): \n",
    "       print (\"geeksfor contains geeks\") \n",
    "else : print (\"geeksfor does not contain geeks\") "
   ]
  },
  {
   "cell_type": "code",
   "execution_count": 58,
   "metadata": {},
   "outputs": [
    {
     "name": "stdout",
     "output_type": "stream",
     "text": [
      "The bitwise and of a and b is : 0\n",
      "The bitwise or of a and b is : 1\n",
      "The bitwise xor of a and b is : 1\n",
      "The inverted value of a is : 1\n"
     ]
    }
   ],
   "source": [
    "# Initializing a and b \n",
    "  \n",
    "a = 1\n",
    "  \n",
    "b = 0\n",
    "  \n",
    "# using and_() to display bitwise and operation \n",
    "print (\"The bitwise and of a and b is : \",end=\"\") \n",
    "print (operator.and_(a,b)) \n",
    "  \n",
    "# using or_() to display bitwise or operation \n",
    "print (\"The bitwise or of a and b is : \",end=\"\") \n",
    "print (operator.or_(a,b)) \n",
    "  \n",
    "# using xor() to display bitwise exclusive or operation \n",
    "print (\"The bitwise xor of a and b is : \",end=\"\") \n",
    "print (operator.xor(a,b)) \n",
    "  \n",
    "# using invert() to invert value of a \n",
    "operator.invert(a) \n",
    "  \n",
    "# printing modified value \n",
    "print (\"The inverted value of a is : \",end=\"\") \n",
    "print (a) "
   ]
  },
  {
   "cell_type": "code",
   "execution_count": 59,
   "metadata": {},
   "outputs": [
    {
     "name": "stdout",
     "output_type": "stream",
     "text": [
      "The value after xoring and assigning : 15\n",
      "The value after exponentiating and assigning : 625\n"
     ]
    }
   ],
   "source": [
    "# Python code to demonstrate the working of \n",
    "# ixor() and ipow() \n",
    "\n",
    "# using ixor() to exclusive or and assign value \n",
    "x = operator.ixor(10,5); \n",
    "\n",
    "# printing the modified value \n",
    "print (\"The value after xoring and assigning : \",end=\"\") \n",
    "print (x) \n",
    "\n",
    "# using ipow() to exponentiate and assign value \n",
    "x = operator.ipow(5,4); \n",
    "\n",
    "# printing the modified value \n",
    "print (\"The value after exponentiating and assigning : \",end=\"\") \n",
    "print (x) \n"
   ]
  },
  {
   "cell_type": "code",
   "execution_count": 60,
   "metadata": {},
   "outputs": [
    {
     "name": "stdout",
     "output_type": "stream",
     "text": [
      "The value after bitwise or, and assigning : 15\n",
      "The value after bitwise and, and assigning : 4\n"
     ]
    }
   ],
   "source": [
    "# using ior() to or, and assign value \n",
    "x = operator.ior(10,5); \n",
    "  \n",
    "# printing the modified value \n",
    "print (\"The value after bitwise or, and assigning : \",end=\"\") \n",
    "print (x) \n",
    "  \n",
    "# using iand() to and, and assign value \n",
    "x = operator.iand(5,4); \n",
    "  \n",
    "# printing the modified value \n",
    "print (\"The value after bitwise and, and assigning : \",end=\"\") \n",
    "print (x)"
   ]
  },
  {
   "cell_type": "code",
   "execution_count": 61,
   "metadata": {},
   "outputs": [
    {
     "name": "stdout",
     "output_type": "stream",
     "text": [
      "The value after bitwise left shift and assigning : 32\n",
      "The value after bitwise right shift and assigning : 2\n"
     ]
    }
   ],
   "source": [
    "# using ilshift() to bitwise left shift and assign value \n",
    "x = operator.ilshift(8,2); \n",
    "  \n",
    "# printing the modified value \n",
    "print (\"The value after bitwise left shift and assigning : \",end=\"\") \n",
    "print (x) \n",
    "  \n",
    "# using irshift() to bitwise right shift and assign value \n",
    "x = operator.irshift(8,2); \n",
    "  \n",
    "# printing the modified value \n",
    "print (\"The value after bitwise right shift and assigning : \",end=\"\") \n",
    "print (x) "
   ]
  },
  {
   "cell_type": "code",
   "execution_count": null,
   "metadata": {},
   "outputs": [],
   "source": []
  }
 ],
 "metadata": {
  "kernelspec": {
   "display_name": "Python 3",
   "language": "python",
   "name": "python3"
  },
  "language_info": {
   "codemirror_mode": {
    "name": "ipython",
    "version": 3
   },
   "file_extension": ".py",
   "mimetype": "text/x-python",
   "name": "python",
   "nbconvert_exporter": "python",
   "pygments_lexer": "ipython3",
   "version": "3.5.2"
  }
 },
 "nbformat": 4,
 "nbformat_minor": 2
}
